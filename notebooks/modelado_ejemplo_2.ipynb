{
  "nbformat": 4,
  "nbformat_minor": 0,
  "metadata": {
    "colab": {
      "name": "modelado_ejemplo_2.ipynb",
      "provenance": [],
      "collapsed_sections": [],
      "include_colab_link": true
    },
    "kernelspec": {
      "display_name": "itam_intro_to_ds",
      "language": "python",
      "name": "itam_intro_to_ds"
    },
    "language_info": {
      "codemirror_mode": {
        "name": "ipython",
        "version": 3
      },
      "file_extension": ".py",
      "mimetype": "text/x-python",
      "name": "python",
      "nbconvert_exporter": "python",
      "pygments_lexer": "ipython3",
      "version": "3.7.4"
    },
    "accelerator": "GPU"
  },
  "cells": [
    {
      "cell_type": "markdown",
      "metadata": {
        "id": "view-in-github",
        "colab_type": "text"
      },
      "source": [
        "<a href=\"https://colab.research.google.com/github/ElenaVillano/sentiment_analysis_tweets/blob/main/notebooks/modelado_ejemplo_2.ipynb\" target=\"_parent\"><img src=\"https://colab.research.google.com/assets/colab-badge.svg\" alt=\"Open In Colab\"/></a>"
      ]
    },
    {
      "cell_type": "code",
      "metadata": {
        "id": "TrmrcgOf0Wd_",
        "outputId": "b746aca6-c6c2-47ad-e766-3f5978da1d33",
        "colab": {
          "base_uri": "https://localhost:8080/"
        }
      },
      "source": [
        "!pip install \"git+https://github.com/ElenaVillano/sentiment_analysis_tweets.git#egg=nlptweet&subdirectory=src\" --quiet"
      ],
      "execution_count": 1,
      "outputs": [
        {
          "output_type": "stream",
          "text": [
            "  Building wheel for nlptweet (setup.py) ... \u001b[?25l\u001b[?25hdone\n"
          ],
          "name": "stdout"
        }
      ]
    },
    {
      "cell_type": "code",
      "metadata": {
        "id": "pg5YRy3E1jMT"
      },
      "source": [
        "#!pip uninstall nlptweet"
      ],
      "execution_count": null,
      "outputs": []
    },
    {
      "cell_type": "code",
      "metadata": {
        "colab": {
          "base_uri": "https://localhost:8080/"
        },
        "id": "mpmrJ_G_pgnP",
        "outputId": "4b540038-746b-4a47-f1ef-f2e40e776efc"
      },
      "source": [
        "import pandas as pd\n",
        "import numpy as np\n",
        "import matplotlib.pyplot as plt\n",
        "import datetime\n",
        "import nltk\n",
        "#import re\n",
        "import timeit\n",
        "import string\n",
        "# Nuestro paquete\n",
        "import nlp\n",
        "\n",
        "\n",
        "#call the nltk downloader\n",
        "nltk.download('punkt')\n",
        "\n",
        "from dateutil import parser\n",
        "\n",
        "# Carga un set de stopwords predefinidas\n",
        "from nltk.corpus import stopwords\n",
        "\n",
        "from nltk.tokenize import sent_tokenize, word_tokenize\n",
        "from nltk.stem import PorterStemmer\n",
        "from nltk.stem import LancasterStemmer"
      ],
      "execution_count": 2,
      "outputs": [
        {
          "output_type": "stream",
          "text": [
            "[nltk_data] Downloading package punkt to /root/nltk_data...\n",
            "[nltk_data]   Unzipping tokenizers/punkt.zip.\n"
          ],
          "name": "stdout"
        }
      ]
    },
    {
      "cell_type": "code",
      "metadata": {
        "id": "UP5nN_Ns0WeJ"
      },
      "source": [
        "# Nombramiento de columnas\n",
        "col_names = ['target', # Polaridad del twet 0=negativo, 2=neutral, 4=positivo\n",
        "             'ids',    # ID tweet\n",
        "             'date',   # Fecha y hora del tweet\n",
        "             'flag',   # QUERY\n",
        "             'user',   # Usuario del tweet\n",
        "             'text']   # Texto del tweety"
      ],
      "execution_count": 158,
      "outputs": []
    },
    {
      "cell_type": "markdown",
      "metadata": {
        "id": "EbcoouZtnEUf"
      },
      "source": [
        "# Carga y limpieza de datos"
      ]
    },
    {
      "cell_type": "code",
      "metadata": {
        "colab": {
          "resources": {
            "http://localhost:8080/nbextensions/google.colab/files.js": {
              "data": "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",
              "ok": true,
              "headers": [
                [
                  "content-type",
                  "application/javascript"
                ]
              ],
              "status": 200,
              "status_text": ""
            }
          },
          "base_uri": "https://localhost:8080/",
          "height": 72
        },
        "id": "j6uJdbk2nKCX",
        "outputId": "37b9b6be-5a2c-4622-aa05-c23e496b4708"
      },
      "source": [
        "# Requiered to select a file to be imported into colab\n",
        "# Not useful if running locally\n",
        "from google.colab import files\n",
        "uploaded = files.upload()"
      ],
      "execution_count": 154,
      "outputs": [
        {
          "output_type": "display_data",
          "data": {
            "text/html": [
              "\n",
              "     <input type=\"file\" id=\"files-a2fb6192-1143-491a-8a55-d1ce7c499b4d\" name=\"files[]\" multiple disabled\n",
              "        style=\"border:none\" />\n",
              "     <output id=\"result-a2fb6192-1143-491a-8a55-d1ce7c499b4d\">\n",
              "      Upload widget is only available when the cell has been executed in the\n",
              "      current browser session. Please rerun this cell to enable.\n",
              "      </output>\n",
              "      <script src=\"/nbextensions/google.colab/files.js\"></script> "
            ],
            "text/plain": [
              "<IPython.core.display.HTML object>"
            ]
          },
          "metadata": {
            "tags": []
          }
        },
        {
          "output_type": "stream",
          "text": [
            "Saving testdata_manual_2009_06_14.csv to testdata_manual_2009_06_14.csv\n"
          ],
          "name": "stdout"
        }
      ]
    },
    {
      "cell_type": "code",
      "metadata": {
        "id": "Y-EvBcQ2Nja-"
      },
      "source": [
        "test_data =  pd.read_csv('testdata_manual_2009_06_14.csv',\n",
        "                 encoding='latin-1', names=col_names)"
      ],
      "execution_count": 159,
      "outputs": []
    },
    {
      "cell_type": "code",
      "metadata": {
        "id": "Z5P449bk0WeL"
      },
      "source": [
        "data =  pd.read_csv('1600000_datos_limpios_sin_user_ni_url.csv',\n",
        "                 encoding='latin-1')"
      ],
      "execution_count": 21,
      "outputs": []
    },
    {
      "cell_type": "code",
      "metadata": {
        "colab": {
          "base_uri": "https://localhost:8080/"
        },
        "id": "zs77X44P0WeM",
        "outputId": "00423a32-a110-49a9-d61c-08f33622c5e1"
      },
      "source": [
        "print(data.shape)"
      ],
      "execution_count": 22,
      "outputs": [
        {
          "output_type": "stream",
          "text": [
            "(1600000, 8)\n"
          ],
          "name": "stdout"
        }
      ]
    },
    {
      "cell_type": "code",
      "metadata": {
        "colab": {
          "base_uri": "https://localhost:8080/",
          "height": 529
        },
        "id": "OSwvEsQzM7_K",
        "outputId": "70fc350b-5fcd-4190-9177-ef0e073af4a2"
      },
      "source": [
        "data.head(10)"
      ],
      "execution_count": 23,
      "outputs": [
        {
          "output_type": "execute_result",
          "data": {
            "text/html": [
              "<div>\n",
              "<style scoped>\n",
              "    .dataframe tbody tr th:only-of-type {\n",
              "        vertical-align: middle;\n",
              "    }\n",
              "\n",
              "    .dataframe tbody tr th {\n",
              "        vertical-align: top;\n",
              "    }\n",
              "\n",
              "    .dataframe thead th {\n",
              "        text-align: right;\n",
              "    }\n",
              "</style>\n",
              "<table border=\"1\" class=\"dataframe\">\n",
              "  <thead>\n",
              "    <tr style=\"text-align: right;\">\n",
              "      <th></th>\n",
              "      <th>Unnamed: 0</th>\n",
              "      <th>target</th>\n",
              "      <th>ids</th>\n",
              "      <th>date</th>\n",
              "      <th>flag</th>\n",
              "      <th>user</th>\n",
              "      <th>text</th>\n",
              "      <th>raw_text</th>\n",
              "    </tr>\n",
              "  </thead>\n",
              "  <tbody>\n",
              "    <tr>\n",
              "      <th>0</th>\n",
              "      <td>0</td>\n",
              "      <td>0</td>\n",
              "      <td>1467810369</td>\n",
              "      <td>mon apr 06 22:19:45 pdt 2009</td>\n",
              "      <td>no_query</td>\n",
              "      <td>_thespecialone_</td>\n",
              "      <td>aww bummer shoulda got david carr third day</td>\n",
              "      <td>@switchfoot http://twitpic.com/2y1zl - awww, t...</td>\n",
              "    </tr>\n",
              "    <tr>\n",
              "      <th>1</th>\n",
              "      <td>1</td>\n",
              "      <td>0</td>\n",
              "      <td>1467810672</td>\n",
              "      <td>mon apr 06 22:19:49 pdt 2009</td>\n",
              "      <td>no_query</td>\n",
              "      <td>scotthamilton</td>\n",
              "      <td>upset updat facebook text might cri result sch...</td>\n",
              "      <td>is upset that he can't update his facebook by ...</td>\n",
              "    </tr>\n",
              "    <tr>\n",
              "      <th>2</th>\n",
              "      <td>2</td>\n",
              "      <td>0</td>\n",
              "      <td>1467810917</td>\n",
              "      <td>mon apr 06 22:19:53 pdt 2009</td>\n",
              "      <td>no_query</td>\n",
              "      <td>mattycus</td>\n",
              "      <td>dive mani time ball manag save 50 % rest go bo...</td>\n",
              "      <td>@kenichan i dived many times for the ball. man...</td>\n",
              "    </tr>\n",
              "    <tr>\n",
              "      <th>3</th>\n",
              "      <td>3</td>\n",
              "      <td>0</td>\n",
              "      <td>1467811184</td>\n",
              "      <td>mon apr 06 22:19:57 pdt 2009</td>\n",
              "      <td>no_query</td>\n",
              "      <td>ellectf</td>\n",
              "      <td>whole bodi feel itchi like fire</td>\n",
              "      <td>my whole body feels itchy and like its on fire</td>\n",
              "    </tr>\n",
              "    <tr>\n",
              "      <th>4</th>\n",
              "      <td>4</td>\n",
              "      <td>0</td>\n",
              "      <td>1467811193</td>\n",
              "      <td>mon apr 06 22:19:57 pdt 2009</td>\n",
              "      <td>no_query</td>\n",
              "      <td>karoli</td>\n",
              "      <td>behav mad see</td>\n",
              "      <td>@nationwideclass no, it's not behaving at all....</td>\n",
              "    </tr>\n",
              "    <tr>\n",
              "      <th>5</th>\n",
              "      <td>5</td>\n",
              "      <td>0</td>\n",
              "      <td>1467811372</td>\n",
              "      <td>mon apr 06 22:20:00 pdt 2009</td>\n",
              "      <td>no_query</td>\n",
              "      <td>joy_wolf</td>\n",
              "      <td>whole crew</td>\n",
              "      <td>@kwesidei not the whole crew</td>\n",
              "    </tr>\n",
              "    <tr>\n",
              "      <th>6</th>\n",
              "      <td>6</td>\n",
              "      <td>0</td>\n",
              "      <td>1467811592</td>\n",
              "      <td>mon apr 06 22:20:03 pdt 2009</td>\n",
              "      <td>no_query</td>\n",
              "      <td>mybirch</td>\n",
              "      <td>need hug</td>\n",
              "      <td>need a hug</td>\n",
              "    </tr>\n",
              "    <tr>\n",
              "      <th>7</th>\n",
              "      <td>7</td>\n",
              "      <td>0</td>\n",
              "      <td>1467811594</td>\n",
              "      <td>mon apr 06 22:20:03 pdt 2009</td>\n",
              "      <td>no_query</td>\n",
              "      <td>cozz</td>\n",
              "      <td>hey long time see ye rain bit bit lol fine thank</td>\n",
              "      <td>@loltrish hey  long time no see! yes.. rains a...</td>\n",
              "    </tr>\n",
              "    <tr>\n",
              "      <th>8</th>\n",
              "      <td>8</td>\n",
              "      <td>0</td>\n",
              "      <td>1467811795</td>\n",
              "      <td>mon apr 06 22:20:05 pdt 2009</td>\n",
              "      <td>no_query</td>\n",
              "      <td>2hood4hollywood</td>\n",
              "      <td>nope</td>\n",
              "      <td>@tatiana_k nope they didn't have it</td>\n",
              "    </tr>\n",
              "    <tr>\n",
              "      <th>9</th>\n",
              "      <td>9</td>\n",
              "      <td>0</td>\n",
              "      <td>1467812025</td>\n",
              "      <td>mon apr 06 22:20:09 pdt 2009</td>\n",
              "      <td>no_query</td>\n",
              "      <td>mimismo</td>\n",
              "      <td>que muera</td>\n",
              "      <td>@twittera que me muera ?</td>\n",
              "    </tr>\n",
              "  </tbody>\n",
              "</table>\n",
              "</div>"
            ],
            "text/plain": [
              "   Unnamed: 0  ...                                           raw_text\n",
              "0           0  ...  @switchfoot http://twitpic.com/2y1zl - awww, t...\n",
              "1           1  ...  is upset that he can't update his facebook by ...\n",
              "2           2  ...  @kenichan i dived many times for the ball. man...\n",
              "3           3  ...    my whole body feels itchy and like its on fire \n",
              "4           4  ...  @nationwideclass no, it's not behaving at all....\n",
              "5           5  ...                      @kwesidei not the whole crew \n",
              "6           6  ...                                        need a hug \n",
              "7           7  ...  @loltrish hey  long time no see! yes.. rains a...\n",
              "8           8  ...               @tatiana_k nope they didn't have it \n",
              "9           9  ...                          @twittera que me muera ? \n",
              "\n",
              "[10 rows x 8 columns]"
            ]
          },
          "metadata": {
            "tags": []
          },
          "execution_count": 23
        }
      ]
    },
    {
      "cell_type": "code",
      "metadata": {
        "id": "t3gCJ65ZjfPu"
      },
      "source": [
        "data = data[data.text.notna()]"
      ],
      "execution_count": 24,
      "outputs": []
    },
    {
      "cell_type": "markdown",
      "metadata": {
        "id": "XgajHM4gCjep"
      },
      "source": [
        "## Tokenizer"
      ]
    },
    {
      "cell_type": "code",
      "metadata": {
        "id": "AdTHR74lmbUk"
      },
      "source": [
        "from tensorflow.keras.preprocessing.text import Tokenizer\n",
        "from tensorflow.keras.preprocessing.sequence import pad_sequences\n",
        "from tensorflow.keras import regularizers"
      ],
      "execution_count": 25,
      "outputs": []
    },
    {
      "cell_type": "code",
      "metadata": {
        "colab": {
          "base_uri": "https://localhost:8080/"
        },
        "id": "50TYKCmaEZ_t",
        "outputId": "9cb3db7f-cadf-4067-daf2-8f3f96d89cdb"
      },
      "source": [
        "# Entrena un Tokenizer. Consiste en:\n",
        "# Crea un diccionario numerado de las palabras existentes en el corpus, y devuelve\n",
        "# por cada palabra, el número entero de su índice en el diccionario.\n",
        "# En este caso, considera las N palabras más frecuentes.\n",
        "# oov_token = constante asiganda para palabras fuera del vocabulario (NOT USED HERE)\n",
        "data_set_1 = data\n",
        "data_set_1.shape\n",
        "data_set_1.text"
      ],
      "execution_count": 26,
      "outputs": [
        {
          "output_type": "execute_result",
          "data": {
            "text/plain": [
              "0               aww bummer shoulda got david carr third day \n",
              "1          upset updat facebook text might cri result sch...\n",
              "2          dive mani time ball manag save 50 % rest go bo...\n",
              "3                           whole bodi feel itchi like fire \n",
              "4                                             behav mad see \n",
              "                                 ...                        \n",
              "1599995                          woke school best feel ever \n",
              "1599996              thewdbcom cool hear old walt interview \n",
              "1599997                        readi mojo makeov ask detail \n",
              "1599998     happi 38th birthday boo time tupac amaru shakur \n",
              "1599999                                               happi \n",
              "Name: text, Length: 1591506, dtype: object"
            ]
          },
          "metadata": {
            "tags": []
          },
          "execution_count": 26
        }
      ]
    },
    {
      "cell_type": "code",
      "metadata": {
        "id": "AYUiBufpi1h_"
      },
      "source": [
        "max_words = 1000\n",
        "\n",
        "tokenizer = Tokenizer(num_words=max_words)\n",
        "tokenizer.fit_on_texts(data_set_1.text)"
      ],
      "execution_count": 27,
      "outputs": []
    },
    {
      "cell_type": "code",
      "metadata": {
        "id": "A5F9JIyiibD2"
      },
      "source": [
        "palabras = pd.DataFrame([(word,count) for i, (word, count) in enumerate(tokenizer.word_counts.items())])"
      ],
      "execution_count": 28,
      "outputs": []
    },
    {
      "cell_type": "code",
      "metadata": {
        "id": "rna9ontqidMn"
      },
      "source": [
        "palabras = palabras.sort_values(1,ascending=False).reset_index()[2:]"
      ],
      "execution_count": 29,
      "outputs": []
    },
    {
      "cell_type": "code",
      "metadata": {
        "id": "NyK5vO08ifd0"
      },
      "source": [
        "palabras_mas_frecuentes = palabras.head(1000)"
      ],
      "execution_count": 52,
      "outputs": []
    },
    {
      "cell_type": "code",
      "metadata": {
        "id": "VV6_M3tdih7s",
        "outputId": "0c25b6dc-4c88-4522-9baf-d1ef8e4f9f7a",
        "colab": {
          "base_uri": "https://localhost:8080/",
          "height": 338
        }
      },
      "source": [
        "palabras_mas_frecuentes.plot.bar(x=0,y=1)"
      ],
      "execution_count": 31,
      "outputs": [
        {
          "output_type": "execute_result",
          "data": {
            "text/plain": [
              "<matplotlib.axes._subplots.AxesSubplot at 0x7f2415658fd0>"
            ]
          },
          "metadata": {
            "tags": []
          },
          "execution_count": 31
        },
        {
          "output_type": "display_data",
          "data": {
            "image/png": "[encoded data removed]",
            "text/plain": [
              "<Figure size 432x288 with 1 Axes>"
            ]
          },
          "metadata": {
            "tags": [],
            "needs_background": "light"
          }
        }
      ]
    },
    {
      "cell_type": "code",
      "metadata": {
        "id": "8Im6FKsflJ4b",
        "outputId": "766ee30a-c1d5-4650-958a-ff28b42c5f47",
        "colab": {
          "base_uri": "https://localhost:8080/",
          "height": 419
        }
      },
      "source": [
        "palabras_mas_frecuentes"
      ],
      "execution_count": 38,
      "outputs": [
        {
          "output_type": "execute_result",
          "data": {
            "text/html": [
              "<div>\n",
              "<style scoped>\n",
              "    .dataframe tbody tr th:only-of-type {\n",
              "        vertical-align: middle;\n",
              "    }\n",
              "\n",
              "    .dataframe tbody tr th {\n",
              "        vertical-align: top;\n",
              "    }\n",
              "\n",
              "    .dataframe thead th {\n",
              "        text-align: right;\n",
              "    }\n",
              "</style>\n",
              "<table border=\"1\" class=\"dataframe\">\n",
              "  <thead>\n",
              "    <tr style=\"text-align: right;\">\n",
              "      <th></th>\n",
              "      <th>index</th>\n",
              "      <th>0</th>\n",
              "      <th>1</th>\n",
              "    </tr>\n",
              "  </thead>\n",
              "  <tbody>\n",
              "    <tr>\n",
              "      <th>2</th>\n",
              "      <td>7</td>\n",
              "      <td>day</td>\n",
              "      <td>101871</td>\n",
              "    </tr>\n",
              "    <tr>\n",
              "      <th>3</th>\n",
              "      <td>188</td>\n",
              "      <td>good</td>\n",
              "      <td>92467</td>\n",
              "    </tr>\n",
              "    <tr>\n",
              "      <th>4</th>\n",
              "      <td>164</td>\n",
              "      <td>work</td>\n",
              "      <td>85412</td>\n",
              "    </tr>\n",
              "    <tr>\n",
              "      <th>5</th>\n",
              "      <td>33</td>\n",
              "      <td>like</td>\n",
              "      <td>83062</td>\n",
              "    </tr>\n",
              "    <tr>\n",
              "      <th>6</th>\n",
              "      <td>100</td>\n",
              "      <td>love</td>\n",
              "      <td>81877</td>\n",
              "    </tr>\n",
              "    <tr>\n",
              "      <th>...</th>\n",
              "      <td>...</td>\n",
              "      <td>...</td>\n",
              "      <td>...</td>\n",
              "    </tr>\n",
              "    <tr>\n",
              "      <th>497</th>\n",
              "      <td>1821</td>\n",
              "      <td>water</td>\n",
              "      <td>3670</td>\n",
              "    </tr>\n",
              "    <tr>\n",
              "      <th>498</th>\n",
              "      <td>1079</td>\n",
              "      <td>bout</td>\n",
              "      <td>3663</td>\n",
              "    </tr>\n",
              "    <tr>\n",
              "      <th>499</th>\n",
              "      <td>690</td>\n",
              "      <td>star</td>\n",
              "      <td>3655</td>\n",
              "    </tr>\n",
              "    <tr>\n",
              "      <th>500</th>\n",
              "      <td>1647</td>\n",
              "      <td>store</td>\n",
              "      <td>3652</td>\n",
              "    </tr>\n",
              "    <tr>\n",
              "      <th>501</th>\n",
              "      <td>1967</td>\n",
              "      <td>point</td>\n",
              "      <td>3638</td>\n",
              "    </tr>\n",
              "  </tbody>\n",
              "</table>\n",
              "<p>500 rows × 3 columns</p>\n",
              "</div>"
            ],
            "text/plain": [
              "     index      0       1\n",
              "2        7    day  101871\n",
              "3      188   good   92467\n",
              "4      164   work   85412\n",
              "5       33   like   83062\n",
              "6      100   love   81877\n",
              "..     ...    ...     ...\n",
              "497   1821  water    3670\n",
              "498   1079   bout    3663\n",
              "499    690   star    3655\n",
              "500   1647  store    3652\n",
              "501   1967  point    3638\n",
              "\n",
              "[500 rows x 3 columns]"
            ]
          },
          "metadata": {
            "tags": []
          },
          "execution_count": 38
        }
      ]
    },
    {
      "cell_type": "code",
      "metadata": {
        "id": "heCvh4fGlVUc"
      },
      "source": [
        "hola=str(palabras_mas_frecuentes[0])"
      ],
      "execution_count": 53,
      "outputs": []
    },
    {
      "cell_type": "code",
      "metadata": {
        "id": "TVMoI7BulsLF"
      },
      "source": [
        "from wordcloud import WordCloud"
      ],
      "execution_count": 49,
      "outputs": []
    },
    {
      "cell_type": "code",
      "metadata": {
        "id": "k9pJvWPKlTex",
        "outputId": "9070491a-8a7f-4a2d-b89f-c69ef809733d",
        "colab": {
          "base_uri": "https://localhost:8080/",
          "height": 310
        }
      },
      "source": [
        "wordclouds = WordCloud(max_words=500, background_color=\"black\",colormap=\"Spectral\").generate(hola)\n",
        "plt.figure(figsize=(10, 10))\n",
        "plt.imshow(wordclouds, interpolation=\"bilinear\")\n",
        "plt.axis(\"off\")\n",
        "plt.show()"
      ],
      "execution_count": 54,
      "outputs": [
        {
          "output_type": "display_data",
          "data": {
            "image/png": "[encoded data removed]",
            "text/plain": [
              "<Figure size 720x720 with 1 Axes>"
            ]
          },
          "metadata": {
            "tags": [],
            "needs_background": "light"
          }
        }
      ]
    },
    {
      "cell_type": "code",
      "metadata": {
        "colab": {
          "base_uri": "https://localhost:8080/"
        },
        "id": "y-hxvgq_AjBL",
        "outputId": "b20fc7b8-4d0c-47f8-cbd2-04673e357a85"
      },
      "source": [
        "print(\"Number of words in the dictionary\", len(tokenizer.word_index))\n",
        "print(list(tokenizer.word_index.items())[:10])"
      ],
      "execution_count": 32,
      "outputs": [
        {
          "output_type": "stream",
          "text": [
            "Number of words in the dictionary 330671\n",
            "[('go', 1), ('get', 2), ('day', 3), ('good', 4), ('work', 5), ('like', 6), ('love', 7), ('got', 8), ('today', 9), ('time', 10)]\n"
          ],
          "name": "stdout"
        }
      ]
    },
    {
      "cell_type": "code",
      "metadata": {
        "colab": {
          "base_uri": "https://localhost:8080/"
        },
        "id": "FFL2iSx-FHjv",
        "outputId": "edff41a3-74a6-439b-8bae-771f8d1de2ba"
      },
      "source": [
        "# Convierte palabras en enteros\n",
        "sequences = tokenizer.texts_to_sequences(data_set_1.text)\n",
        "lengths = []\n",
        "for seq in sequences:\n",
        "  lengths.append(len(seq))\n",
        "\n",
        "print(\"Tweet más pequeño\", np.array(lengths).min(), \"words.\")\n",
        "print(\"Tweet más grande\", np.array(lengths).max(), \"words.\")\n",
        "print(f\"Longitud promedio: {np.array(lengths).mean():.2f} +- {np.array(lengths).std():.2f} words.\")\n",
        "print('\\n')\n",
        "\n",
        "for seq in sequences[:10]:\n",
        "  print(seq)"
      ],
      "execution_count": 55,
      "outputs": [
        {
          "output_type": "stream",
          "text": [
            "Tweet más pequeño 0 words.\n",
            "Tweet más grande 27 words.\n",
            "Longitud promedio: 4.96 +- 3.04 words.\n",
            "\n",
            "\n",
            "[110, 8, 697, 3]\n",
            "[592, 222, 430, 353, 201, 242, 965, 76, 9, 188]\n",
            "[221, 10, 860, 686, 495, 344, 1]\n",
            "[327, 645, 19, 6, 863]\n",
            "[454, 18]\n",
            "[327]\n",
            "[25, 461]\n",
            "[83, 96, 10, 18, 90, 97, 168, 168, 16, 418, 11]\n",
            "[656]\n",
            "[]\n"
          ],
          "name": "stdout"
        }
      ]
    },
    {
      "cell_type": "code",
      "metadata": {
        "colab": {
          "base_uri": "https://localhost:8080/"
        },
        "id": "Jm06k8n9E1rd",
        "outputId": "6b889dad-df31-43fe-d7e4-dfbcfd692283"
      },
      "source": [
        "tweets[1]"
      ],
      "execution_count": 59,
      "outputs": [
        {
          "output_type": "execute_result",
          "data": {
            "text/plain": [
              "array([592, 222, 430, 353, 201, 242, 965,  76,   9, 188,   0,   0,   0,\n",
              "         0,   0,   0,   0,   0,   0,   0,   0], dtype=int32)"
            ]
          },
          "metadata": {
            "tags": []
          },
          "execution_count": 59
        }
      ]
    },
    {
      "cell_type": "code",
      "metadata": {
        "id": "SdbTguzPLK4O"
      },
      "source": [
        "train_seq = np.array(sequences, dtype=object)\n",
        "df_sequences = pd.DataFrame(train_seq.T, columns=['tokens'])"
      ],
      "execution_count": 60,
      "outputs": []
    },
    {
      "cell_type": "code",
      "metadata": {
        "id": "6gA0CdhxpV4b"
      },
      "source": [
        "df_sequences['len'] = df_sequences['tokens'].map(lambda s: len(s))"
      ],
      "execution_count": 63,
      "outputs": []
    },
    {
      "cell_type": "code",
      "metadata": {
        "id": "P9c97lVQpWBR",
        "outputId": "4c6a9be7-a839-4a20-ddc0-4add32975bd7",
        "colab": {
          "base_uri": "https://localhost:8080/",
          "height": 419
        }
      },
      "source": [
        "df_sequences"
      ],
      "execution_count": 64,
      "outputs": [
        {
          "output_type": "execute_result",
          "data": {
            "text/html": [
              "<div>\n",
              "<style scoped>\n",
              "    .dataframe tbody tr th:only-of-type {\n",
              "        vertical-align: middle;\n",
              "    }\n",
              "\n",
              "    .dataframe tbody tr th {\n",
              "        vertical-align: top;\n",
              "    }\n",
              "\n",
              "    .dataframe thead th {\n",
              "        text-align: right;\n",
              "    }\n",
              "</style>\n",
              "<table border=\"1\" class=\"dataframe\">\n",
              "  <thead>\n",
              "    <tr style=\"text-align: right;\">\n",
              "      <th></th>\n",
              "      <th>tokens</th>\n",
              "      <th>len</th>\n",
              "    </tr>\n",
              "  </thead>\n",
              "  <tbody>\n",
              "    <tr>\n",
              "      <th>0</th>\n",
              "      <td>[110, 8, 697, 3]</td>\n",
              "      <td>4</td>\n",
              "    </tr>\n",
              "    <tr>\n",
              "      <th>1</th>\n",
              "      <td>[592, 222, 430, 353, 201, 242, 965, 76, 9, 188]</td>\n",
              "      <td>10</td>\n",
              "    </tr>\n",
              "    <tr>\n",
              "      <th>2</th>\n",
              "      <td>[221, 10, 860, 686, 495, 344, 1]</td>\n",
              "      <td>7</td>\n",
              "    </tr>\n",
              "    <tr>\n",
              "      <th>3</th>\n",
              "      <td>[327, 645, 19, 6, 863]</td>\n",
              "      <td>5</td>\n",
              "    </tr>\n",
              "    <tr>\n",
              "      <th>4</th>\n",
              "      <td>[454, 18]</td>\n",
              "      <td>2</td>\n",
              "    </tr>\n",
              "    <tr>\n",
              "      <th>...</th>\n",
              "      <td>...</td>\n",
              "      <td>...</td>\n",
              "    </tr>\n",
              "    <tr>\n",
              "      <th>1591501</th>\n",
              "      <td>[248, 76, 103, 19, 149]</td>\n",
              "      <td>5</td>\n",
              "    </tr>\n",
              "    <tr>\n",
              "      <th>1591502</th>\n",
              "      <td>[122, 174, 159, 752]</td>\n",
              "      <td>4</td>\n",
              "    </tr>\n",
              "    <tr>\n",
              "      <th>1591503</th>\n",
              "      <td>[134, 287]</td>\n",
              "      <td>2</td>\n",
              "    </tr>\n",
              "    <tr>\n",
              "      <th>1591504</th>\n",
              "      <td>[53, 183, 296, 10]</td>\n",
              "      <td>4</td>\n",
              "    </tr>\n",
              "    <tr>\n",
              "      <th>1591505</th>\n",
              "      <td>[53]</td>\n",
              "      <td>1</td>\n",
              "    </tr>\n",
              "  </tbody>\n",
              "</table>\n",
              "<p>1591506 rows × 2 columns</p>\n",
              "</div>"
            ],
            "text/plain": [
              "                                                  tokens  len\n",
              "0                                       [110, 8, 697, 3]    4\n",
              "1        [592, 222, 430, 353, 201, 242, 965, 76, 9, 188]   10\n",
              "2                       [221, 10, 860, 686, 495, 344, 1]    7\n",
              "3                                 [327, 645, 19, 6, 863]    5\n",
              "4                                              [454, 18]    2\n",
              "...                                                  ...  ...\n",
              "1591501                          [248, 76, 103, 19, 149]    5\n",
              "1591502                             [122, 174, 159, 752]    4\n",
              "1591503                                       [134, 287]    2\n",
              "1591504                               [53, 183, 296, 10]    4\n",
              "1591505                                             [53]    1\n",
              "\n",
              "[1591506 rows x 2 columns]"
            ]
          },
          "metadata": {
            "tags": []
          },
          "execution_count": 64
        }
      ]
    },
    {
      "cell_type": "code",
      "metadata": {
        "id": "IfrlWHb2pWFk",
        "outputId": "a015f452-27b3-4e02-e14e-cb4ee20438df",
        "colab": {
          "base_uri": "https://localhost:8080/",
          "height": 419
        }
      },
      "source": [
        "data = data.reset_index().drop(['index', 'Unnamed: 0'], axis = 1)"
      ],
      "execution_count": 65,
      "outputs": [
        {
          "output_type": "execute_result",
          "data": {
            "text/html": [
              "<div>\n",
              "<style scoped>\n",
              "    .dataframe tbody tr th:only-of-type {\n",
              "        vertical-align: middle;\n",
              "    }\n",
              "\n",
              "    .dataframe tbody tr th {\n",
              "        vertical-align: top;\n",
              "    }\n",
              "\n",
              "    .dataframe thead th {\n",
              "        text-align: right;\n",
              "    }\n",
              "</style>\n",
              "<table border=\"1\" class=\"dataframe\">\n",
              "  <thead>\n",
              "    <tr style=\"text-align: right;\">\n",
              "      <th></th>\n",
              "      <th>target</th>\n",
              "      <th>ids</th>\n",
              "      <th>date</th>\n",
              "      <th>flag</th>\n",
              "      <th>user</th>\n",
              "      <th>text</th>\n",
              "      <th>raw_text</th>\n",
              "    </tr>\n",
              "  </thead>\n",
              "  <tbody>\n",
              "    <tr>\n",
              "      <th>0</th>\n",
              "      <td>0</td>\n",
              "      <td>1467810369</td>\n",
              "      <td>mon apr 06 22:19:45 pdt 2009</td>\n",
              "      <td>no_query</td>\n",
              "      <td>_thespecialone_</td>\n",
              "      <td>aww bummer shoulda got david carr third day</td>\n",
              "      <td>@switchfoot http://twitpic.com/2y1zl - awww, t...</td>\n",
              "    </tr>\n",
              "    <tr>\n",
              "      <th>1</th>\n",
              "      <td>0</td>\n",
              "      <td>1467810672</td>\n",
              "      <td>mon apr 06 22:19:49 pdt 2009</td>\n",
              "      <td>no_query</td>\n",
              "      <td>scotthamilton</td>\n",
              "      <td>upset updat facebook text might cri result sch...</td>\n",
              "      <td>is upset that he can't update his facebook by ...</td>\n",
              "    </tr>\n",
              "    <tr>\n",
              "      <th>2</th>\n",
              "      <td>0</td>\n",
              "      <td>1467810917</td>\n",
              "      <td>mon apr 06 22:19:53 pdt 2009</td>\n",
              "      <td>no_query</td>\n",
              "      <td>mattycus</td>\n",
              "      <td>dive mani time ball manag save 50 % rest go bo...</td>\n",
              "      <td>@kenichan i dived many times for the ball. man...</td>\n",
              "    </tr>\n",
              "    <tr>\n",
              "      <th>3</th>\n",
              "      <td>0</td>\n",
              "      <td>1467811184</td>\n",
              "      <td>mon apr 06 22:19:57 pdt 2009</td>\n",
              "      <td>no_query</td>\n",
              "      <td>ellectf</td>\n",
              "      <td>whole bodi feel itchi like fire</td>\n",
              "      <td>my whole body feels itchy and like its on fire</td>\n",
              "    </tr>\n",
              "    <tr>\n",
              "      <th>4</th>\n",
              "      <td>0</td>\n",
              "      <td>1467811193</td>\n",
              "      <td>mon apr 06 22:19:57 pdt 2009</td>\n",
              "      <td>no_query</td>\n",
              "      <td>karoli</td>\n",
              "      <td>behav mad see</td>\n",
              "      <td>@nationwideclass no, it's not behaving at all....</td>\n",
              "    </tr>\n",
              "    <tr>\n",
              "      <th>...</th>\n",
              "      <td>...</td>\n",
              "      <td>...</td>\n",
              "      <td>...</td>\n",
              "      <td>...</td>\n",
              "      <td>...</td>\n",
              "      <td>...</td>\n",
              "      <td>...</td>\n",
              "    </tr>\n",
              "    <tr>\n",
              "      <th>1591501</th>\n",
              "      <td>1</td>\n",
              "      <td>2193601966</td>\n",
              "      <td>tue jun 16 08:40:49 pdt 2009</td>\n",
              "      <td>no_query</td>\n",
              "      <td>amandamarie1028</td>\n",
              "      <td>woke school best feel ever</td>\n",
              "      <td>just woke up. having no school is the best fee...</td>\n",
              "    </tr>\n",
              "    <tr>\n",
              "      <th>1591502</th>\n",
              "      <td>1</td>\n",
              "      <td>2193601969</td>\n",
              "      <td>tue jun 16 08:40:49 pdt 2009</td>\n",
              "      <td>no_query</td>\n",
              "      <td>thewdboards</td>\n",
              "      <td>thewdbcom cool hear old walt interview</td>\n",
              "      <td>thewdb.com - very cool to hear old walt interv...</td>\n",
              "    </tr>\n",
              "    <tr>\n",
              "      <th>1591503</th>\n",
              "      <td>1</td>\n",
              "      <td>2193601991</td>\n",
              "      <td>tue jun 16 08:40:49 pdt 2009</td>\n",
              "      <td>no_query</td>\n",
              "      <td>bpbabe</td>\n",
              "      <td>readi mojo makeov ask detail</td>\n",
              "      <td>are you ready for your mojo makeover? ask me f...</td>\n",
              "    </tr>\n",
              "    <tr>\n",
              "      <th>1591504</th>\n",
              "      <td>1</td>\n",
              "      <td>2193602064</td>\n",
              "      <td>tue jun 16 08:40:49 pdt 2009</td>\n",
              "      <td>no_query</td>\n",
              "      <td>tinydiamondz</td>\n",
              "      <td>happi 38th birthday boo time tupac amaru shakur</td>\n",
              "      <td>happy 38th birthday to my boo of alll time!!! ...</td>\n",
              "    </tr>\n",
              "    <tr>\n",
              "      <th>1591505</th>\n",
              "      <td>1</td>\n",
              "      <td>2193602129</td>\n",
              "      <td>tue jun 16 08:40:50 pdt 2009</td>\n",
              "      <td>no_query</td>\n",
              "      <td>ryantrevmorris</td>\n",
              "      <td>happi</td>\n",
              "      <td>happy #charitytuesday @thenspcc @sparkscharity...</td>\n",
              "    </tr>\n",
              "  </tbody>\n",
              "</table>\n",
              "<p>1591506 rows × 7 columns</p>\n",
              "</div>"
            ],
            "text/plain": [
              "         target  ...                                           raw_text\n",
              "0             0  ...  @switchfoot http://twitpic.com/2y1zl - awww, t...\n",
              "1             0  ...  is upset that he can't update his facebook by ...\n",
              "2             0  ...  @kenichan i dived many times for the ball. man...\n",
              "3             0  ...    my whole body feels itchy and like its on fire \n",
              "4             0  ...  @nationwideclass no, it's not behaving at all....\n",
              "...         ...  ...                                                ...\n",
              "1591501       1  ...  just woke up. having no school is the best fee...\n",
              "1591502       1  ...  thewdb.com - very cool to hear old walt interv...\n",
              "1591503       1  ...  are you ready for your mojo makeover? ask me f...\n",
              "1591504       1  ...  happy 38th birthday to my boo of alll time!!! ...\n",
              "1591505       1  ...  happy #charitytuesday @thenspcc @sparkscharity...\n",
              "\n",
              "[1591506 rows x 7 columns]"
            ]
          },
          "metadata": {
            "tags": []
          },
          "execution_count": 65
        }
      ]
    },
    {
      "cell_type": "code",
      "metadata": {
        "id": "6OGjKyA_pjHf"
      },
      "source": [
        "df_sequences['target'] = data['target']"
      ],
      "execution_count": 66,
      "outputs": []
    },
    {
      "cell_type": "code",
      "metadata": {
        "id": "pxbbKo03pjK1",
        "outputId": "b553c6cb-4db6-4f76-f67d-8dc352e719ec",
        "colab": {
          "base_uri": "https://localhost:8080/"
        }
      },
      "source": [
        "df_sequences['len'].describe()"
      ],
      "execution_count": 171,
      "outputs": [
        {
          "output_type": "execute_result",
          "data": {
            "text/plain": [
              "count    1.591506e+06\n",
              "mean     4.962383e+00\n",
              "std      3.037960e+00\n",
              "min      0.000000e+00\n",
              "25%      3.000000e+00\n",
              "50%      4.000000e+00\n",
              "75%      7.000000e+00\n",
              "max      2.700000e+01\n",
              "Name: len, dtype: float64"
            ]
          },
          "metadata": {
            "tags": []
          },
          "execution_count": 171
        }
      ]
    },
    {
      "cell_type": "code",
      "metadata": {
        "id": "kx-Nx5lVXK9H",
        "outputId": "9c0e9595-8fdf-4f11-d485-538adf0206bd",
        "colab": {
          "base_uri": "https://localhost:8080/"
        }
      },
      "source": [
        "df_sequences['len'].quantile(0.95)"
      ],
      "execution_count": 177,
      "outputs": [
        {
          "output_type": "execute_result",
          "data": {
            "text/plain": [
              "11.0"
            ]
          },
          "metadata": {
            "tags": []
          },
          "execution_count": 177
        }
      ]
    },
    {
      "cell_type": "code",
      "metadata": {
        "id": "uQadYinCrhtH"
      },
      "source": [
        "last_df=df_sequences"
      ],
      "execution_count": 182,
      "outputs": []
    },
    {
      "cell_type": "code",
      "metadata": {
        "id": "CgpvEWvsr7yz",
        "outputId": "12a2afb0-2b89-49c6-a603-ea983037a235",
        "colab": {
          "base_uri": "https://localhost:8080/"
        }
      },
      "source": [
        "max_len = 11\n",
        "tweets = pad_sequences(list(last_df.tokens), maxlen=max_len, padding='post')\n",
        "print(tweets)"
      ],
      "execution_count": 183,
      "outputs": [
        {
          "output_type": "stream",
          "text": [
            "[[110   8 697 ...   0   0   0]\n",
            " [592 222 430 ...   9 188   0]\n",
            " [221  10 860 ...   0   0   0]\n",
            " ...\n",
            " [134 287   0 ...   0   0   0]\n",
            " [ 53 183 296 ...   0   0   0]\n",
            " [ 53   0   0 ...   0   0   0]]\n"
          ],
          "name": "stdout"
        }
      ]
    },
    {
      "cell_type": "markdown",
      "metadata": {
        "id": "uY-EM8O70OnW"
      },
      "source": [
        "## Separamos en train, test"
      ]
    },
    {
      "cell_type": "code",
      "metadata": {
        "id": "w4-mzuVQm7qH"
      },
      "source": [
        "from sklearn.model_selection import train_test_split"
      ],
      "execution_count": 184,
      "outputs": []
    },
    {
      "cell_type": "code",
      "metadata": {
        "id": "4H29q5XL0RBl"
      },
      "source": [
        "X_train, X_test, y_train, y_test = train_test_split(tweets, last_df.target.values, test_size=0.3, random_state=23042021)"
      ],
      "execution_count": 185,
      "outputs": []
    },
    {
      "cell_type": "code",
      "metadata": {
        "colab": {
          "base_uri": "https://localhost:8080/"
        },
        "id": "3Gx4QC-MDMRF",
        "outputId": "166f5eb6-b0a5-4182-eb51-cee9c274127f"
      },
      "source": [
        "print(\"X_train\", X_train.shape)\n",
        "print(\"y_train\", y_train.shape)\n",
        "print(\"X_test\", X_test.shape)\n",
        "print(\"y_test\", y_test.shape)"
      ],
      "execution_count": 186,
      "outputs": [
        {
          "output_type": "stream",
          "text": [
            "X_train (1114054, 11)\n",
            "y_train (1114054,)\n",
            "X_test (477452, 11)\n",
            "y_test (477452,)\n"
          ],
          "name": "stdout"
        }
      ]
    },
    {
      "cell_type": "code",
      "metadata": {
        "colab": {
          "base_uri": "https://localhost:8080/",
          "height": 336
        },
        "id": "_QCer5X4-iF9",
        "outputId": "0cc6bd81-d5d3-43df-db85-3ff938a0458c"
      },
      "source": [
        "sns.countplot(y_train)"
      ],
      "execution_count": 187,
      "outputs": [
        {
          "output_type": "stream",
          "text": [
            "/usr/local/lib/python3.7/dist-packages/seaborn/_decorators.py:43: FutureWarning: Pass the following variable as a keyword arg: x. From version 0.12, the only valid positional argument will be `data`, and passing other arguments without an explicit keyword will result in an error or misinterpretation.\n",
            "  FutureWarning\n"
          ],
          "name": "stderr"
        },
        {
          "output_type": "execute_result",
          "data": {
            "text/plain": [
              "<matplotlib.axes._subplots.AxesSubplot at 0x7f2222a04590>"
            ]
          },
          "metadata": {
            "tags": []
          },
          "execution_count": 187
        },
        {
          "output_type": "display_data",
          "data": {
            "image/png": "[encoded data removed]",
            "text/plain": [
              "<Figure size 432x288 with 1 Axes>"
            ]
          },
          "metadata": {
            "tags": [],
            "needs_background": "light"
          }
        }
      ]
    },
    {
      "cell_type": "code",
      "metadata": {
        "id": "AgaOzujWsceZ",
        "outputId": "088ddcf2-c4cb-42fe-aa39-7be89aeb9cf2",
        "colab": {
          "base_uri": "https://localhost:8080/",
          "height": 340
        }
      },
      "source": [
        "sns.countplot(y_test)"
      ],
      "execution_count": 188,
      "outputs": [
        {
          "output_type": "stream",
          "text": [
            "/usr/local/lib/python3.7/dist-packages/seaborn/_decorators.py:43: FutureWarning: Pass the following variable as a keyword arg: x. From version 0.12, the only valid positional argument will be `data`, and passing other arguments without an explicit keyword will result in an error or misinterpretation.\n",
            "  FutureWarning\n"
          ],
          "name": "stderr"
        },
        {
          "output_type": "execute_result",
          "data": {
            "text/plain": [
              "<matplotlib.axes._subplots.AxesSubplot at 0x7f2222a04b50>"
            ]
          },
          "metadata": {
            "tags": []
          },
          "execution_count": 188
        },
        {
          "output_type": "display_data",
          "data": {
            "image/png": "[encoded data removed]",
            "text/plain": [
              "<Figure size 432x288 with 1 Axes>"
            ]
          },
          "metadata": {
            "tags": [],
            "needs_background": "light"
          }
        }
      ]
    },
    {
      "cell_type": "markdown",
      "metadata": {
        "id": "9Ih2oqSz07em"
      },
      "source": [
        "# Creamos el modelo"
      ]
    },
    {
      "cell_type": "code",
      "metadata": {
        "id": "vZv_fDCW1Xzt"
      },
      "source": [
        "import tensorflow as tf\n",
        "from tensorflow.keras.models import Sequential\n",
        "from tensorflow.keras.layers import Embedding, LSTM, Dense, Dropout, Bidirectional\n",
        "from tensorflow.keras.regularizers import l1"
      ],
      "execution_count": 189,
      "outputs": []
    },
    {
      "cell_type": "code",
      "metadata": {
        "colab": {
          "base_uri": "https://localhost:8080/"
        },
        "id": "eITD3Xki4Cw5",
        "outputId": "0b3b04f3-b986-44ab-d530-21512595ae0c"
      },
      "source": [
        "# Crea una red con layers Embedding, LSTM, Dense\n",
        "model = Sequential()\n",
        "model.add(Embedding(input_length=max_len, input_dim=max_words, output_dim=12, trainable=True))\n",
        "model.add(LSTM(units=12))\n",
        "model.add(Dropout(0.5))\n",
        "model.add(Dense(units=24, activation='relu'))\n",
        "model.add(Dropout(0.5))\n",
        "model.add(Dense(units=12, activation='relu'))\n",
        "model.add(Dropout(0.5))\n",
        "model.add(Dense(units=1, activation='sigmoid'))\n",
        "\n",
        "model.summary()"
      ],
      "execution_count": 190,
      "outputs": [
        {
          "output_type": "stream",
          "text": [
            "Model: \"sequential_5\"\n",
            "_________________________________________________________________\n",
            "Layer (type)                 Output Shape              Param #   \n",
            "=================================================================\n",
            "embedding_5 (Embedding)      (None, 11, 12)            12000     \n",
            "_________________________________________________________________\n",
            "lstm_4 (LSTM)                (None, 12)                1200      \n",
            "_________________________________________________________________\n",
            "dropout_8 (Dropout)          (None, 12)                0         \n",
            "_________________________________________________________________\n",
            "dense_9 (Dense)              (None, 24)                312       \n",
            "_________________________________________________________________\n",
            "dropout_9 (Dropout)          (None, 24)                0         \n",
            "_________________________________________________________________\n",
            "dense_10 (Dense)             (None, 12)                300       \n",
            "_________________________________________________________________\n",
            "dropout_10 (Dropout)         (None, 12)                0         \n",
            "_________________________________________________________________\n",
            "dense_11 (Dense)             (None, 1)                 13        \n",
            "=================================================================\n",
            "Total params: 13,825\n",
            "Trainable params: 13,825\n",
            "Non-trainable params: 0\n",
            "_________________________________________________________________\n"
          ],
          "name": "stdout"
        }
      ]
    },
    {
      "cell_type": "code",
      "metadata": {
        "id": "vBd6IJYrtsXm",
        "outputId": "7980eb22-37a2-443a-e1f6-79109e7ddd59",
        "colab": {
          "base_uri": "https://localhost:8080/",
          "height": 496
        }
      },
      "source": [
        "# Plot model\n",
        "from tensorflow.keras.utils import plot_model\n",
        "plot_model(model, show_shapes=True, show_layer_names=True,\n",
        "                          rankdir='TB', expand_nested=True, dpi=48)"
      ],
      "execution_count": 191,
      "outputs": [
        {
          "output_type": "execute_result",
          "data": {
            "image/png": "[encoded data removed]",
            "text/plain": [
              "<IPython.core.display.Image object>"
            ]
          },
          "metadata": {
            "tags": []
          },
          "execution_count": 191
        }
      ]
    },
    {
      "cell_type": "code",
      "metadata": {
        "id": "1U9KxBvV1qun"
      },
      "source": [
        "# Compile\n",
        "model.compile(loss=tf.keras.losses.BinaryCrossentropy(from_logits=False), optimizer='adam', \n",
        "              metrics=[tf.metrics.BinaryAccuracy(), 'accuracy'])"
      ],
      "execution_count": 193,
      "outputs": []
    },
    {
      "cell_type": "code",
      "metadata": {
        "colab": {
          "base_uri": "https://localhost:8080/"
        },
        "id": "JCPmbUlH1vXP",
        "outputId": "761c7a26-02d7-41e4-d8a0-7c9ebb06d72f"
      },
      "source": [
        "# Train it\n",
        "history_1 = model.fit(X_train, y_train, epochs=20, batch_size=16, validation_split=0.2)"
      ],
      "execution_count": 194,
      "outputs": [
        {
          "output_type": "stream",
          "text": [
            "Epoch 1/20\n",
            "55703/55703 [==============================] - 273s 5ms/step - loss: 0.5655 - binary_accuracy: 0.7169 - accuracy: 0.7169 - val_loss: 0.5192 - val_binary_accuracy: 0.7475 - val_accuracy: 0.7475\n",
            "Epoch 2/20\n",
            "55703/55703 [==============================] - 269s 5ms/step - loss: 0.5367 - binary_accuracy: 0.7410 - accuracy: 0.7410 - val_loss: 0.5068 - val_binary_accuracy: 0.7496 - val_accuracy: 0.7496\n",
            "Epoch 3/20\n",
            "55703/55703 [==============================] - 268s 5ms/step - loss: 0.5321 - binary_accuracy: 0.7438 - accuracy: 0.7438 - val_loss: 0.5036 - val_binary_accuracy: 0.7510 - val_accuracy: 0.7510\n",
            "Epoch 4/20\n",
            "55703/55703 [==============================] - 267s 5ms/step - loss: 0.5288 - binary_accuracy: 0.7461 - accuracy: 0.7461 - val_loss: 0.5042 - val_binary_accuracy: 0.7508 - val_accuracy: 0.7508\n",
            "Epoch 5/20\n",
            "55703/55703 [==============================] - 266s 5ms/step - loss: 0.5266 - binary_accuracy: 0.7473 - accuracy: 0.7473 - val_loss: 0.5080 - val_binary_accuracy: 0.7519 - val_accuracy: 0.7519\n",
            "Epoch 6/20\n",
            "55703/55703 [==============================] - 266s 5ms/step - loss: 0.5254 - binary_accuracy: 0.7485 - accuracy: 0.7485 - val_loss: 0.5135 - val_binary_accuracy: 0.7452 - val_accuracy: 0.7452\n",
            "Epoch 7/20\n",
            "55703/55703 [==============================] - 274s 5ms/step - loss: 0.5249 - binary_accuracy: 0.7492 - accuracy: 0.7492 - val_loss: 0.5072 - val_binary_accuracy: 0.7537 - val_accuracy: 0.7537\n",
            "Epoch 8/20\n",
            "55703/55703 [==============================] - 268s 5ms/step - loss: 0.5230 - binary_accuracy: 0.7502 - accuracy: 0.7502 - val_loss: 0.5057 - val_binary_accuracy: 0.7504 - val_accuracy: 0.7504\n",
            "Epoch 9/20\n",
            "55703/55703 [==============================] - 268s 5ms/step - loss: 0.5218 - binary_accuracy: 0.7510 - accuracy: 0.7510 - val_loss: 0.5008 - val_binary_accuracy: 0.7520 - val_accuracy: 0.7520\n",
            "Epoch 10/20\n",
            "55703/55703 [==============================] - 267s 5ms/step - loss: 0.5221 - binary_accuracy: 0.7510 - accuracy: 0.7510 - val_loss: 0.5050 - val_binary_accuracy: 0.7491 - val_accuracy: 0.7491\n",
            "Epoch 11/20\n",
            "55703/55703 [==============================] - 268s 5ms/step - loss: 0.5224 - binary_accuracy: 0.7503 - accuracy: 0.7503 - val_loss: 0.5159 - val_binary_accuracy: 0.7447 - val_accuracy: 0.7447\n",
            "Epoch 12/20\n",
            "55703/55703 [==============================] - 268s 5ms/step - loss: 0.5214 - binary_accuracy: 0.7508 - accuracy: 0.7508 - val_loss: 0.5011 - val_binary_accuracy: 0.7534 - val_accuracy: 0.7534\n",
            "Epoch 13/20\n",
            "55703/55703 [==============================] - 266s 5ms/step - loss: 0.5203 - binary_accuracy: 0.7519 - accuracy: 0.7519 - val_loss: 0.5015 - val_binary_accuracy: 0.7504 - val_accuracy: 0.7504\n",
            "Epoch 14/20\n",
            "55703/55703 [==============================] - 267s 5ms/step - loss: 0.5214 - binary_accuracy: 0.7514 - accuracy: 0.7514 - val_loss: 0.5014 - val_binary_accuracy: 0.7531 - val_accuracy: 0.7531\n",
            "Epoch 15/20\n",
            "55703/55703 [==============================] - 293s 5ms/step - loss: 0.5211 - binary_accuracy: 0.7522 - accuracy: 0.7522 - val_loss: 0.5047 - val_binary_accuracy: 0.7531 - val_accuracy: 0.7531\n",
            "Epoch 16/20\n",
            "55703/55703 [==============================] - 299s 5ms/step - loss: 0.5214 - binary_accuracy: 0.7510 - accuracy: 0.7510 - val_loss: 0.5027 - val_binary_accuracy: 0.7520 - val_accuracy: 0.7520\n",
            "Epoch 17/20\n",
            "55703/55703 [==============================] - 295s 5ms/step - loss: 0.5199 - binary_accuracy: 0.7516 - accuracy: 0.7516 - val_loss: 0.5015 - val_binary_accuracy: 0.7515 - val_accuracy: 0.7515\n",
            "Epoch 18/20\n",
            "55703/55703 [==============================] - 289s 5ms/step - loss: 0.5198 - binary_accuracy: 0.7518 - accuracy: 0.7518 - val_loss: 0.5037 - val_binary_accuracy: 0.7525 - val_accuracy: 0.7525\n",
            "Epoch 19/20\n",
            "55703/55703 [==============================] - 271s 5ms/step - loss: 0.5202 - binary_accuracy: 0.7514 - accuracy: 0.7514 - val_loss: 0.5038 - val_binary_accuracy: 0.7520 - val_accuracy: 0.7520\n",
            "Epoch 20/20\n",
            "55703/55703 [==============================] - 273s 5ms/step - loss: 0.5200 - binary_accuracy: 0.7516 - accuracy: 0.7516 - val_loss: 0.5055 - val_binary_accuracy: 0.7532 - val_accuracy: 0.7532\n"
          ],
          "name": "stdout"
        }
      ]
    },
    {
      "cell_type": "code",
      "metadata": {
        "colab": {
          "base_uri": "https://localhost:8080/",
          "height": 295
        },
        "id": "nZwvQmAROlem",
        "outputId": "8b048633-523b-40f6-c920-188eb9095f12"
      },
      "source": [
        "# Plot loss\n",
        "plt.figure(figsize=(20, 4))\n",
        "\n",
        "plt.subplot(1, 2, 1)\n",
        "plt.title('Loss')\n",
        "plt.plot(history_1.history['loss'], label='Training', linewidth=2)\n",
        "plt.plot(history_1.history['val_loss'], label='Validation', linewidth=2)\n",
        "plt.legend()\n",
        "plt.xlabel('Epoch')\n",
        "plt.ylabel('Loss')\n",
        "plt.grid(True)\n",
        "\n",
        "plt.subplot(1, 2, 2)\n",
        "plt.title('Accuracy')\n",
        "plt.plot(history_1.history['accuracy'], label='Training', linewidth=2)\n",
        "plt.plot(history_1.history['val_accuracy'], label='Validation', linewidth=2)\n",
        "plt.legend()\n",
        "plt.xlabel('Epoch')\n",
        "plt.ylabel('Accuracy')\n",
        "plt.grid(True)\n",
        "\n",
        "plt.show()"
      ],
      "execution_count": 195,
      "outputs": [
        {
          "output_type": "display_data",
          "data": {
            "image/png": "[encoded data removed]",
            "text/plain": [
              "<Figure size 1440x288 with 2 Axes>"
            ]
          },
          "metadata": {
            "tags": [],
            "needs_background": "light"
          }
        }
      ]
    },
    {
      "cell_type": "code",
      "metadata": {
        "id": "34NhUm_3Xupm",
        "colab": {
          "base_uri": "https://localhost:8080/"
        },
        "outputId": "f8e8d8fc-e3d5-46e7-de88-a1e6c5fc7294"
      },
      "source": [
        "# Evaluate on test set\n",
        "model.evaluate(x=X_test, y=y_test)"
      ],
      "execution_count": 196,
      "outputs": [
        {
          "output_type": "stream",
          "text": [
            "14921/14921 [==============================] - 35s 2ms/step - loss: 0.5033 - binary_accuracy: 0.7548 - accuracy: 0.7548\n"
          ],
          "name": "stdout"
        },
        {
          "output_type": "execute_result",
          "data": {
            "text/plain": [
              "[0.5032797455787659, 0.7548067569732666, 0.7548067569732666]"
            ]
          },
          "metadata": {
            "tags": []
          },
          "execution_count": 196
        }
      ]
    },
    {
      "cell_type": "code",
      "metadata": {
        "id": "sUYY8HBKW1Cn",
        "colab": {
          "base_uri": "https://localhost:8080/"
        },
        "outputId": "6eb4f8cf-1685-45b1-9954-e25b852f75cf"
      },
      "source": [
        "X_test"
      ],
      "execution_count": 197,
      "outputs": [
        {
          "output_type": "execute_result",
          "data": {
            "text/plain": [
              "array([[ 95, 329, 411, ...,   0,   0,   0],\n",
              "       [  8, 204,  18, ...,   0,   0,   0],\n",
              "       [248, 131, 424, ...,   0,   0,   0],\n",
              "       ...,\n",
              "       [ 43,  56, 310, ...,   0,   0,   0],\n",
              "       [  8,  30, 277, ...,   0,   0,   0],\n",
              "       [147,  24,   0, ...,   0,   0,   0]], dtype=int32)"
            ]
          },
          "metadata": {
            "tags": []
          },
          "execution_count": 197
        }
      ]
    },
    {
      "cell_type": "code",
      "metadata": {
        "id": "DFPqQfBtzutL",
        "outputId": "5191c771-b61c-4372-c2ac-f48e91af1380",
        "colab": {
          "base_uri": "https://localhost:8080/"
        }
      },
      "source": [
        "from nlp.preprocessing import convierte_a_minusculas, quitar_caracteres_html, reemplazar_urls, reemplazar_usuarios,\\\n",
        "quitar_hashtag, quitar_RT, quitar_caracteres_especiales, quitar_letras_repetidas, quitar_nonascii, \\\n",
        "separar_abreviaciones, remove_stopwords, oracion_raiz, modificar_etiqueta"
      ],
      "execution_count": 230,
      "outputs": [
        {
          "output_type": "stream",
          "text": [
            "[nltk_data] Downloading package punkt to /root/nltk_data...\n",
            "[nltk_data]   Package punkt is already up-to-date!\n",
            "[nltk_data] Downloading package stopwords to /root/nltk_data...\n",
            "[nltk_data]   Unzipping corpora/stopwords.zip.\n"
          ],
          "name": "stdout"
        }
      ]
    },
    {
      "cell_type": "code",
      "metadata": {
        "id": "o06P9PvS0NAN"
      },
      "source": [
        "data_raw = test_data"
      ],
      "execution_count": 231,
      "outputs": []
    },
    {
      "cell_type": "code",
      "metadata": {
        "id": "_iMFaTZzz_Hd"
      },
      "source": [
        "data = convierte_a_minusculas(data_raw)\n",
        "data['text'] = data['text'].map(lambda s: quitar_caracteres_html(s))\n",
        "data['text'] = data['text'].map(lambda s: reemplazar_urls(s))\n",
        "data['text'] = data['text'].map(lambda s: reemplazar_usuarios(s))\n",
        "data['text'] = data['text'].map(lambda s: quitar_hashtag(s))\n",
        "data['text'] = data['text'].map(lambda s: quitar_RT(s))\n",
        "data['text'] = data['text'].map(lambda s: quitar_caracteres_especiales(s))\n",
        "data['text'] = data['text'].map(lambda s: quitar_letras_repetidas(s))\n",
        "data['text'] = data['text'].map(lambda s: quitar_nonascii(s))\n",
        "data['text'] = data['text'].map(lambda s: separar_abreviaciones(s))\n",
        "data['text'] = data['text'].map(lambda s: remove_stopwords(s))\n",
        "data['text'] = data['text'].map(lambda s: oracion_raiz(s))\n",
        "data = modificar_etiqueta(data)"
      ],
      "execution_count": 232,
      "outputs": []
    },
    {
      "cell_type": "code",
      "metadata": {
        "id": "dZdTxLTD0Xt0"
      },
      "source": [
        "data = data[data['target']!=2]"
      ],
      "execution_count": 234,
      "outputs": []
    },
    {
      "cell_type": "code",
      "metadata": {
        "id": "tVPTrGLT07Bj"
      },
      "source": [
        "test_data = test_data[test_data['target']!=2]"
      ],
      "execution_count": 242,
      "outputs": []
    },
    {
      "cell_type": "code",
      "metadata": {
        "id": "VfAsJXvfLt4a"
      },
      "source": [
        "sequence = tokenizer.texts_to_sequences(data['text'])\n",
        "test = pad_sequences(sequence, maxlen=max_len)\n",
        "score = model.predict(test)"
      ],
      "execution_count": 236,
      "outputs": []
    },
    {
      "cell_type": "code",
      "metadata": {
        "id": "4Wl-pacRzby2"
      },
      "source": [
        "pd.set_option('display.max_colwidth', None)"
      ],
      "execution_count": 228,
      "outputs": []
    },
    {
      "cell_type": "code",
      "metadata": {
        "id": "KGBHHrwrxFWF"
      },
      "source": [
        "score_1=pd.DataFrame(score, columns=['score'])"
      ],
      "execution_count": 237,
      "outputs": []
    },
    {
      "cell_type": "code",
      "metadata": {
        "id": "1sCj-tTsxRbz",
        "outputId": "99128376-161d-464f-acba-8332fd9acc93",
        "colab": {
          "base_uri": "https://localhost:8080/",
          "height": 419
        }
      },
      "source": [
        "score_1"
      ],
      "execution_count": 238,
      "outputs": [
        {
          "output_type": "execute_result",
          "data": {
            "text/html": [
              "<div>\n",
              "<style scoped>\n",
              "    .dataframe tbody tr th:only-of-type {\n",
              "        vertical-align: middle;\n",
              "    }\n",
              "\n",
              "    .dataframe tbody tr th {\n",
              "        vertical-align: top;\n",
              "    }\n",
              "\n",
              "    .dataframe thead th {\n",
              "        text-align: right;\n",
              "    }\n",
              "</style>\n",
              "<table border=\"1\" class=\"dataframe\">\n",
              "  <thead>\n",
              "    <tr style=\"text-align: right;\">\n",
              "      <th></th>\n",
              "      <th>score</th>\n",
              "    </tr>\n",
              "  </thead>\n",
              "  <tbody>\n",
              "    <tr>\n",
              "      <th>0</th>\n",
              "      <td>0.736462</td>\n",
              "    </tr>\n",
              "    <tr>\n",
              "      <th>1</th>\n",
              "      <td>0.727761</td>\n",
              "    </tr>\n",
              "    <tr>\n",
              "      <th>2</th>\n",
              "      <td>0.735437</td>\n",
              "    </tr>\n",
              "    <tr>\n",
              "      <th>3</th>\n",
              "      <td>0.307716</td>\n",
              "    </tr>\n",
              "    <tr>\n",
              "      <th>4</th>\n",
              "      <td>0.639304</td>\n",
              "    </tr>\n",
              "    <tr>\n",
              "      <th>...</th>\n",
              "      <td>...</td>\n",
              "    </tr>\n",
              "    <tr>\n",
              "      <th>354</th>\n",
              "      <td>0.687031</td>\n",
              "    </tr>\n",
              "    <tr>\n",
              "      <th>355</th>\n",
              "      <td>0.075859</td>\n",
              "    </tr>\n",
              "    <tr>\n",
              "      <th>356</th>\n",
              "      <td>0.652750</td>\n",
              "    </tr>\n",
              "    <tr>\n",
              "      <th>357</th>\n",
              "      <td>0.307411</td>\n",
              "    </tr>\n",
              "    <tr>\n",
              "      <th>358</th>\n",
              "      <td>0.082718</td>\n",
              "    </tr>\n",
              "  </tbody>\n",
              "</table>\n",
              "<p>359 rows × 1 columns</p>\n",
              "</div>"
            ],
            "text/plain": [
              "        score\n",
              "0    0.736462\n",
              "1    0.727761\n",
              "2    0.735437\n",
              "3    0.307716\n",
              "4    0.639304\n",
              "..        ...\n",
              "354  0.687031\n",
              "355  0.075859\n",
              "356  0.652750\n",
              "357  0.307411\n",
              "358  0.082718\n",
              "\n",
              "[359 rows x 1 columns]"
            ]
          },
          "metadata": {
            "tags": []
          },
          "execution_count": 238
        }
      ]
    },
    {
      "cell_type": "code",
      "metadata": {
        "id": "4vkK0C6vwtcV"
      },
      "source": [
        "score_1['predict_label'] = score_1.score.map(lambda s: 'positive' if s>=0.5 else 'negative')\n",
        "score_1['real_label'] = data['target'].values\n",
        "score_1['texto'] = data['text'].values\n",
        "score_1['texto_raw'] = test_data['text'].values"
      ],
      "execution_count": 243,
      "outputs": []
    },
    {
      "cell_type": "code",
      "metadata": {
        "id": "z2HLtfqNyhHm",
        "outputId": "0c2abd72-f738-4832-f390-d920992e27b5",
        "colab": {
          "base_uri": "https://localhost:8080/",
          "height": 1000
        }
      },
      "source": [
        "score_1.head(50)"
      ],
      "execution_count": 244,
      "outputs": [
        {
          "output_type": "execute_result",
          "data": {
            "text/html": [
              "<div>\n",
              "<style scoped>\n",
              "    .dataframe tbody tr th:only-of-type {\n",
              "        vertical-align: middle;\n",
              "    }\n",
              "\n",
              "    .dataframe tbody tr th {\n",
              "        vertical-align: top;\n",
              "    }\n",
              "\n",
              "    .dataframe thead th {\n",
              "        text-align: right;\n",
              "    }\n",
              "</style>\n",
              "<table border=\"1\" class=\"dataframe\">\n",
              "  <thead>\n",
              "    <tr style=\"text-align: right;\">\n",
              "      <th></th>\n",
              "      <th>score</th>\n",
              "      <th>predict_label</th>\n",
              "      <th>real_label</th>\n",
              "      <th>texto</th>\n",
              "      <th>texto_raw</th>\n",
              "    </tr>\n",
              "  </thead>\n",
              "  <tbody>\n",
              "    <tr>\n",
              "      <th>0</th>\n",
              "      <td>0.736462</td>\n",
              "      <td>positive</td>\n",
              "      <td>1</td>\n",
              "      <td>loovve kindle2 dx cool 2 fantast right</td>\n",
              "      <td>@stellargirl I loooooooovvvvvveee my Kindle2. Not that the DX is cool, but the 2 is fantastic in its own right.</td>\n",
              "    </tr>\n",
              "    <tr>\n",
              "      <th>1</th>\n",
              "      <td>0.727761</td>\n",
              "      <td>positive</td>\n",
              "      <td>1</td>\n",
              "      <td>read kindle2 love lee child good read</td>\n",
              "      <td>Reading my kindle2...  Love it... Lee childs is good read.</td>\n",
              "    </tr>\n",
              "    <tr>\n",
              "      <th>2</th>\n",
              "      <td>0.735437</td>\n",
              "      <td>positive</td>\n",
              "      <td>1</td>\n",
              "      <td>ok first asses fuck rock</td>\n",
              "      <td>Ok, first assesment of the #kindle2 ...it fucking rocks!!!</td>\n",
              "    </tr>\n",
              "    <tr>\n",
              "      <th>3</th>\n",
              "      <td>0.307716</td>\n",
              "      <td>negative</td>\n",
              "      <td>1</td>\n",
              "      <td>love kindle2 mine month never look back new big one huge need remors</td>\n",
              "      <td>@kenburbary You'll love your Kindle2. I've had mine for a few months and never looked back. The new big one is huge! No need for remorse! :)</td>\n",
              "    </tr>\n",
              "    <tr>\n",
              "      <th>4</th>\n",
              "      <td>0.639304</td>\n",
              "      <td>positive</td>\n",
              "      <td>1</td>\n",
              "      <td>fair enough kindle2 think perfect</td>\n",
              "      <td>@mikefish  Fair enough. But i have the Kindle2 and I think it's perfect  :)</td>\n",
              "    </tr>\n",
              "    <tr>\n",
              "      <th>5</th>\n",
              "      <td>0.746922</td>\n",
              "      <td>positive</td>\n",
              "      <td>1</td>\n",
              "      <td>big quit happi kindle2</td>\n",
              "      <td>@richardebaker no. it is too big. I'm quite happy with the Kindle2.</td>\n",
              "    </tr>\n",
              "    <tr>\n",
              "      <th>6</th>\n",
              "      <td>0.291230</td>\n",
              "      <td>negative</td>\n",
              "      <td>0</td>\n",
              "      <td>fuck economi hate aig non loan given ass</td>\n",
              "      <td>Fuck this economy. I hate aig and their non loan given asses.</td>\n",
              "    </tr>\n",
              "    <tr>\n",
              "      <th>7</th>\n",
              "      <td>0.729119</td>\n",
              "      <td>positive</td>\n",
              "      <td>1</td>\n",
              "      <td>jqueri new best friend</td>\n",
              "      <td>Jquery is my new best friend.</td>\n",
              "    </tr>\n",
              "    <tr>\n",
              "      <th>8</th>\n",
              "      <td>0.670386</td>\n",
              "      <td>positive</td>\n",
              "      <td>1</td>\n",
              "      <td>love twitter</td>\n",
              "      <td>Loves twitter</td>\n",
              "    </tr>\n",
              "    <tr>\n",
              "      <th>9</th>\n",
              "      <td>0.717908</td>\n",
              "      <td>positive</td>\n",
              "      <td>1</td>\n",
              "      <td>love obama make joke</td>\n",
              "      <td>how can you not love Obama? he makes jokes about himself.</td>\n",
              "    </tr>\n",
              "    <tr>\n",
              "      <th>10</th>\n",
              "      <td>0.294531</td>\n",
              "      <td>negative</td>\n",
              "      <td>0</td>\n",
              "      <td>firmli believ obama/pelosi zero desir civil charad slogan want destroy conservat</td>\n",
              "      <td>@Karoli I firmly believe that Obama/Pelosi have ZERO desire to be civil.  It's a charade and a slogan, but they want to destroy conservatism</td>\n",
              "    </tr>\n",
              "    <tr>\n",
              "      <th>11</th>\n",
              "      <td>0.324423</td>\n",
              "      <td>negative</td>\n",
              "      <td>1</td>\n",
              "      <td>hous correspond dinner last night whoopi barbara sherri went obama got stand ovat</td>\n",
              "      <td>House Correspondents dinner was last night whoopi, barbara &amp;amp; sherri went, Obama got a standing ovation</td>\n",
              "    </tr>\n",
              "    <tr>\n",
              "      <th>12</th>\n",
              "      <td>0.630172</td>\n",
              "      <td>positive</td>\n",
              "      <td>1</td>\n",
              "      <td>watchin espnju seen new nike commer puppet lebronsh*t hilariouslmao</td>\n",
              "      <td>Watchin Espn..Jus seen this new Nike Commerical with a Puppet Lebron..sh*t was hilarious...LMAO!!!</td>\n",
              "    </tr>\n",
              "    <tr>\n",
              "      <th>13</th>\n",
              "      <td>0.339401</td>\n",
              "      <td>negative</td>\n",
              "      <td>0</td>\n",
              "      <td>dear nike stop flywir shit wast scienc ugli love</td>\n",
              "      <td>dear nike, stop with the flywire. that shit is a waste of science. and ugly. love, @vincentx24x</td>\n",
              "    </tr>\n",
              "    <tr>\n",
              "      <th>14</th>\n",
              "      <td>0.363422</td>\n",
              "      <td>negative</td>\n",
              "      <td>1</td>\n",
              "      <td>best athlet gener time basketbal relat want get intersport debat __1/2</td>\n",
              "      <td>#lebron best athlete of our generation, if not all time (basketball related) I don't want to get into inter-sport debates about   __1/2</td>\n",
              "    </tr>\n",
              "    <tr>\n",
              "      <th>15</th>\n",
              "      <td>0.205938</td>\n",
              "      <td>negative</td>\n",
              "      <td>0</td>\n",
              "      <td>talk guy last night tell die hard spur fan also told hate lebron jame</td>\n",
              "      <td>I was talking to this guy last night and he was telling me that he is a die hard Spurs fan.  He also told me that he hates LeBron James.</td>\n",
              "    </tr>\n",
              "    <tr>\n",
              "      <th>16</th>\n",
              "      <td>0.728037</td>\n",
              "      <td>positive</td>\n",
              "      <td>1</td>\n",
              "      <td>love lebron</td>\n",
              "      <td>i love lebron. http://bit.ly/PdHur</td>\n",
              "    </tr>\n",
              "    <tr>\n",
              "      <th>17</th>\n",
              "      <td>0.458171</td>\n",
              "      <td>negative</td>\n",
              "      <td>0</td>\n",
              "      <td>lebron beast still cheer 4 atil end</td>\n",
              "      <td>@ludajuice Lebron is a Beast, but I'm still cheering 4 the A..til the end.</td>\n",
              "    </tr>\n",
              "    <tr>\n",
              "      <th>18</th>\n",
              "      <td>0.607475</td>\n",
              "      <td>positive</td>\n",
              "      <td>1</td>\n",
              "      <td>lebron boss</td>\n",
              "      <td>@Pmillzz lebron IS THE BOSS</td>\n",
              "    </tr>\n",
              "    <tr>\n",
              "      <th>19</th>\n",
              "      <td>0.742628</td>\n",
              "      <td>positive</td>\n",
              "      <td>1</td>\n",
              "      <td>lebron hometown hero lol love laker let go cav lol</td>\n",
              "      <td>@sketchbug Lebron is a hometown hero to me, lol I love the Lakers but let's go Cavs, lol</td>\n",
              "    </tr>\n",
              "    <tr>\n",
              "      <th>20</th>\n",
              "      <td>0.729883</td>\n",
              "      <td>positive</td>\n",
              "      <td>1</td>\n",
              "      <td>lebron zydruna awesom duo</td>\n",
              "      <td>lebron and zydrunas are such an awesome duo</td>\n",
              "    </tr>\n",
              "    <tr>\n",
              "      <th>21</th>\n",
              "      <td>0.257727</td>\n",
              "      <td>negative</td>\n",
              "      <td>1</td>\n",
              "      <td>lebron beast nobodi nba come even close</td>\n",
              "      <td>@wordwhizkid Lebron is a beast... nobody in the NBA comes even close.</td>\n",
              "    </tr>\n",
              "    <tr>\n",
              "      <th>22</th>\n",
              "      <td>0.263483</td>\n",
              "      <td>negative</td>\n",
              "      <td>1</td>\n",
              "      <td>download app iphon much fun liter app anyth</td>\n",
              "      <td>downloading apps for my iphone! So much fun :-) There literally is an app for just about anything.</td>\n",
              "    </tr>\n",
              "    <tr>\n",
              "      <th>23</th>\n",
              "      <td>0.181518</td>\n",
              "      <td>negative</td>\n",
              "      <td>1</td>\n",
              "      <td>good news call visa offic say everyth finewhat relief sick scam steal</td>\n",
              "      <td>good news, just had a call from the Visa office, saying everything is fine.....what a relief! I am sick of scams out there! Stealing!</td>\n",
              "    </tr>\n",
              "    <tr>\n",
              "      <th>24</th>\n",
              "      <td>0.727812</td>\n",
              "      <td>positive</td>\n",
              "      <td>1</td>\n",
              "      <td>awesom come back via</td>\n",
              "      <td>http://twurl.nl/epkr4b - awesome come back from @biz (via @fredwilson)</td>\n",
              "    </tr>\n",
              "    <tr>\n",
              "      <th>25</th>\n",
              "      <td>0.319479</td>\n",
              "      <td>negative</td>\n",
              "      <td>1</td>\n",
              "      <td>montreal long weekend rr much need</td>\n",
              "      <td>In montreal for a long weekend of R&amp;amp;R. Much needed.</td>\n",
              "    </tr>\n",
              "    <tr>\n",
              "      <th>26</th>\n",
              "      <td>0.625689</td>\n",
              "      <td>positive</td>\n",
              "      <td>1</td>\n",
              "      <td>booz allen hamilton bad ass homegrown social collabor platform way cool</td>\n",
              "      <td>Booz Allen Hamilton has a bad ass homegrown social collaboration platform. Way cool!  #ttiv</td>\n",
              "    </tr>\n",
              "    <tr>\n",
              "      <th>27</th>\n",
              "      <td>0.627074</td>\n",
              "      <td>positive</td>\n",
              "      <td>1</td>\n",
              "      <td>[ custom innov award winner booz allen hamilton</td>\n",
              "      <td>[#MLUC09] Customer Innovation Award Winner: Booz Allen Hamilton -- http://ping.fm/c2hPP</td>\n",
              "    </tr>\n",
              "    <tr>\n",
              "      <th>28</th>\n",
              "      <td>0.725110</td>\n",
              "      <td>positive</td>\n",
              "      <td>1</td>\n",
              "      <td>current use nikon d90 love much canon 40d/50d chose d90 video featur mistak</td>\n",
              "      <td>@SoChi2 I current use the Nikon D90 and love it, but not as much as the Canon 40D/50D. I chose the D90 for the  video feature. My mistake.</td>\n",
              "    </tr>\n",
              "    <tr>\n",
              "      <th>29</th>\n",
              "      <td>0.683504</td>\n",
              "      <td>positive</td>\n",
              "      <td>1</td>\n",
              "      <td>googl alway good place look mention work mustang w/ dad</td>\n",
              "      <td>@phyreman9 Google is always a good place to look. Should've mentioned I worked on the Mustang w/ my Dad, @KimbleT.</td>\n",
              "    </tr>\n",
              "    <tr>\n",
              "      <th>30</th>\n",
              "      <td>0.295126</td>\n",
              "      <td>negative</td>\n",
              "      <td>0</td>\n",
              "      <td>play android googl phone slide screen scare would break fucker fast still prefer iphon</td>\n",
              "      <td>Played with an android google phone. The slide out screen scares me I would break that fucker so fast. Still prefer my iPhone.</td>\n",
              "    </tr>\n",
              "    <tr>\n",
              "      <th>31</th>\n",
              "      <td>0.618711</td>\n",
              "      <td>positive</td>\n",
              "      <td>0</td>\n",
              "      <td>us plan resum militari tribun guantanamo bay time trial aig exec chrysler debt holder</td>\n",
              "      <td>US planning to resume the military tribunals at Guantanamo Bay... only this time those on trial will be AIG execs and Chrysler debt holders</td>\n",
              "    </tr>\n",
              "    <tr>\n",
              "      <th>32</th>\n",
              "      <td>0.315456</td>\n",
              "      <td>negative</td>\n",
              "      <td>0</td>\n",
              "      <td>omg bore tattoo itchi help aha =</td>\n",
              "      <td>omg so bored &amp;amp; my tattoooos are so itchy!!  help! aha =)</td>\n",
              "    </tr>\n",
              "    <tr>\n",
              "      <th>33</th>\n",
              "      <td>0.607475</td>\n",
              "      <td>positive</td>\n",
              "      <td>0</td>\n",
              "      <td>itchi miser</td>\n",
              "      <td>I'm itchy and miserable!</td>\n",
              "    </tr>\n",
              "    <tr>\n",
              "      <th>34</th>\n",
              "      <td>0.722172</td>\n",
              "      <td>positive</td>\n",
              "      <td>0</td>\n",
              "      <td>itchi mayb later lol</td>\n",
              "      <td>@sekseemess no. I'm not itchy for now. Maybe later, lol.</td>\n",
              "    </tr>\n",
              "    <tr>\n",
              "      <th>35</th>\n",
              "      <td>0.261225</td>\n",
              "      <td>negative</td>\n",
              "      <td>1</td>\n",
              "      <td>rt love nerdi stanford human biolog video make miss school</td>\n",
              "      <td>RT @jessverr I love the nerdy Stanford human biology videos - makes me miss school. http://bit.ly/13t7NR</td>\n",
              "    </tr>\n",
              "    <tr>\n",
              "      <th>36</th>\n",
              "      <td>0.720010</td>\n",
              "      <td>positive</td>\n",
              "      <td>1</td>\n",
              "      <td>bit crazi steep learn curv lyx realli good long doc anyth shorter would insan</td>\n",
              "      <td>@spinuzzi: Has been a bit crazy, with steep learning curve, but LyX is really good for long docs. For anything shorter, it would be insane.</td>\n",
              "    </tr>\n",
              "    <tr>\n",
              "      <th>37</th>\n",
              "      <td>0.737210</td>\n",
              "      <td>positive</td>\n",
              "      <td>1</td>\n",
              "      <td>listen pyt danni gokey 3 3 3 aww amaz 3 much</td>\n",
              "      <td>I'm listening to \"P.Y.T\" by Danny Gokey &amp;lt;3 &amp;lt;3 &amp;lt;3 Aww, he's so amazing. I &amp;lt;3 him so much :)</td>\n",
              "    </tr>\n",
              "    <tr>\n",
              "      <th>38</th>\n",
              "      <td>0.623667</td>\n",
              "      <td>positive</td>\n",
              "      <td>1</td>\n",
              "      <td>go sleep bike ride ]</td>\n",
              "      <td>is going to sleep then on a bike ride:]</td>\n",
              "    </tr>\n",
              "    <tr>\n",
              "      <th>39</th>\n",
              "      <td>0.125570</td>\n",
              "      <td>negative</td>\n",
              "      <td>0</td>\n",
              "      <td>cant sleep tooth ach</td>\n",
              "      <td>cant sleep... my tooth is aching.</td>\n",
              "    </tr>\n",
              "    <tr>\n",
              "      <th>40</th>\n",
              "      <td>0.215388</td>\n",
              "      <td>negative</td>\n",
              "      <td>0</td>\n",
              "      <td>blah blah blah old old plan today go back sleep guess</td>\n",
              "      <td>Blah, blah, blah same old same old. No plans today, going back to sleep I guess.</td>\n",
              "    </tr>\n",
              "    <tr>\n",
              "      <th>41</th>\n",
              "      <td>0.139060</td>\n",
              "      <td>negative</td>\n",
              "      <td>0</td>\n",
              "      <td>glad didnt bay breaker today 100 freak degre san francisco wtf</td>\n",
              "      <td>glad i didnt do Bay to Breakers today, it's 1000 freaking degrees in San Francisco wtf</td>\n",
              "    </tr>\n",
              "    <tr>\n",
              "      <th>42</th>\n",
              "      <td>0.325563</td>\n",
              "      <td>negative</td>\n",
              "      <td>0</td>\n",
              "      <td>obama administr must stop bonus aig ponzi schemer</td>\n",
              "      <td>?Obama Administration Must Stop Bonuses to AIG Ponzi Schemers ... http://bit.ly/2CUIg</td>\n",
              "    </tr>\n",
              "    <tr>\n",
              "      <th>43</th>\n",
              "      <td>0.625689</td>\n",
              "      <td>positive</td>\n",
              "      <td>0</td>\n",
              "      <td>start think citi realli deep s^t gon na surviv turmoil gon na next aig</td>\n",
              "      <td>started to think that Citi is in really deep s&amp;amp;^t. Are they gonna survive the turmoil or are they gonna be the next AIG?</td>\n",
              "    </tr>\n",
              "    <tr>\n",
              "      <th>44</th>\n",
              "      <td>0.607475</td>\n",
              "      <td>positive</td>\n",
              "      <td>0</td>\n",
              "      <td>shaunwoo hate'n aig</td>\n",
              "      <td>ShaunWoo hate'n on AiG</td>\n",
              "    </tr>\n",
              "    <tr>\n",
              "      <th>45</th>\n",
              "      <td>0.728154</td>\n",
              "      <td>positive</td>\n",
              "      <td>1</td>\n",
              "      <td>regret go see star trek awesom</td>\n",
              "      <td>@YarnThing you will not regret going to see Star Trek. It was AWESOME!</td>\n",
              "    </tr>\n",
              "    <tr>\n",
              "      <th>46</th>\n",
              "      <td>0.130360</td>\n",
              "      <td>negative</td>\n",
              "      <td>0</td>\n",
              "      <td>annoy new trend internet peopl pick apart michael lewi malcolm gladwel nobodi want read</td>\n",
              "      <td>annoying new trend on the internets:  people picking apart michael lewis and malcolm gladwell.  nobody wants to read that.</td>\n",
              "    </tr>\n",
              "    <tr>\n",
              "      <th>47</th>\n",
              "      <td>0.742478</td>\n",
              "      <td>positive</td>\n",
              "      <td>1</td>\n",
              "      <td>highli recommend malcolm gladwel</td>\n",
              "      <td>Highly recommend: http://tinyurl.com/HowDavidBeatsGoliath by Malcolm Gladwell</td>\n",
              "    </tr>\n",
              "    <tr>\n",
              "      <th>48</th>\n",
              "      <td>0.758257</td>\n",
              "      <td>positive</td>\n",
              "      <td>1</td>\n",
              "      <td>blink malcolm gladwel amaz book tip point</td>\n",
              "      <td>Blink by malcolm gladwell amazing book and The tipping point!</td>\n",
              "    </tr>\n",
              "    <tr>\n",
              "      <th>49</th>\n",
              "      <td>0.626396</td>\n",
              "      <td>positive</td>\n",
              "      <td>1</td>\n",
              "      <td>malcolm gladwel might new man crush</td>\n",
              "      <td>Malcolm Gladwell might be my new man crush</td>\n",
              "    </tr>\n",
              "  </tbody>\n",
              "</table>\n",
              "</div>"
            ],
            "text/plain": [
              "       score  ...                                                                                                                                     texto_raw\n",
              "0   0.736462  ...                               @stellargirl I loooooooovvvvvveee my Kindle2. Not that the DX is cool, but the 2 is fantastic in its own right.\n",
              "1   0.727761  ...                                                                                    Reading my kindle2...  Love it... Lee childs is good read.\n",
              "2   0.735437  ...                                                                                    Ok, first assesment of the #kindle2 ...it fucking rocks!!!\n",
              "3   0.307716  ...  @kenburbary You'll love your Kindle2. I've had mine for a few months and never looked back. The new big one is huge! No need for remorse! :)\n",
              "4   0.639304  ...                                                                   @mikefish  Fair enough. But i have the Kindle2 and I think it's perfect  :)\n",
              "5   0.746922  ...                                                                           @richardebaker no. it is too big. I'm quite happy with the Kindle2.\n",
              "6   0.291230  ...                                                                                 Fuck this economy. I hate aig and their non loan given asses.\n",
              "7   0.729119  ...                                                                                                                 Jquery is my new best friend.\n",
              "8   0.670386  ...                                                                                                                                 Loves twitter\n",
              "9   0.717908  ...                                                                                     how can you not love Obama? he makes jokes about himself.\n",
              "10  0.294531  ...  @Karoli I firmly believe that Obama/Pelosi have ZERO desire to be civil.  It's a charade and a slogan, but they want to destroy conservatism\n",
              "11  0.324423  ...                                    House Correspondents dinner was last night whoopi, barbara &amp; sherri went, Obama got a standing ovation\n",
              "12  0.630172  ...                                            Watchin Espn..Jus seen this new Nike Commerical with a Puppet Lebron..sh*t was hilarious...LMAO!!!\n",
              "13  0.339401  ...                                               dear nike, stop with the flywire. that shit is a waste of science. and ugly. love, @vincentx24x\n",
              "14  0.363422  ...       #lebron best athlete of our generation, if not all time (basketball related) I don't want to get into inter-sport debates about   __1/2\n",
              "15  0.205938  ...      I was talking to this guy last night and he was telling me that he is a die hard Spurs fan.  He also told me that he hates LeBron James.\n",
              "16  0.728037  ...                                                                                                            i love lebron. http://bit.ly/PdHur\n",
              "17  0.458171  ...                                                                    @ludajuice Lebron is a Beast, but I'm still cheering 4 the A..til the end.\n",
              "18  0.607475  ...                                                                                                                   @Pmillzz lebron IS THE BOSS\n",
              "19  0.742628  ...                                                      @sketchbug Lebron is a hometown hero to me, lol I love the Lakers but let's go Cavs, lol\n",
              "20  0.729883  ...                                                                                                   lebron and zydrunas are such an awesome duo\n",
              "21  0.257727  ...                                                                         @wordwhizkid Lebron is a beast... nobody in the NBA comes even close.\n",
              "22  0.263483  ...                                            downloading apps for my iphone! So much fun :-) There literally is an app for just about anything.\n",
              "23  0.181518  ...         good news, just had a call from the Visa office, saying everything is fine.....what a relief! I am sick of scams out there! Stealing!\n",
              "24  0.727812  ...                                                                        http://twurl.nl/epkr4b - awesome come back from @biz (via @fredwilson)\n",
              "25  0.319479  ...                                                                                       In montreal for a long weekend of R&amp;R. Much needed.\n",
              "26  0.625689  ...                                                   Booz Allen Hamilton has a bad ass homegrown social collaboration platform. Way cool!  #ttiv\n",
              "27  0.627074  ...                                                       [#MLUC09] Customer Innovation Award Winner: Booz Allen Hamilton -- http://ping.fm/c2hPP\n",
              "28  0.725110  ...    @SoChi2 I current use the Nikon D90 and love it, but not as much as the Canon 40D/50D. I chose the D90 for the  video feature. My mistake.\n",
              "29  0.683504  ...                            @phyreman9 Google is always a good place to look. Should've mentioned I worked on the Mustang w/ my Dad, @KimbleT.\n",
              "30  0.295126  ...                Played with an android google phone. The slide out screen scares me I would break that fucker so fast. Still prefer my iPhone.\n",
              "31  0.618711  ...   US planning to resume the military tribunals at Guantanamo Bay... only this time those on trial will be AIG execs and Chrysler debt holders\n",
              "32  0.315456  ...                                                                                  omg so bored &amp; my tattoooos are so itchy!!  help! aha =)\n",
              "33  0.607475  ...                                                                                                                      I'm itchy and miserable!\n",
              "34  0.722172  ...                                                                                      @sekseemess no. I'm not itchy for now. Maybe later, lol.\n",
              "35  0.261225  ...                                      RT @jessverr I love the nerdy Stanford human biology videos - makes me miss school. http://bit.ly/13t7NR\n",
              "36  0.720010  ...   @spinuzzi: Has been a bit crazy, with steep learning curve, but LyX is really good for long docs. For anything shorter, it would be insane.\n",
              "37  0.737210  ...                                        I'm listening to \"P.Y.T\" by Danny Gokey &lt;3 &lt;3 &lt;3 Aww, he's so amazing. I &lt;3 him so much :)\n",
              "38  0.623667  ...                                                                                                       is going to sleep then on a bike ride:]\n",
              "39  0.125570  ...                                                                                                             cant sleep... my tooth is aching.\n",
              "40  0.215388  ...                                                              Blah, blah, blah same old same old. No plans today, going back to sleep I guess.\n",
              "41  0.139060  ...                                                        glad i didnt do Bay to Breakers today, it's 1000 freaking degrees in San Francisco wtf\n",
              "42  0.325563  ...                                                         ?Obama Administration Must Stop Bonuses to AIG Ponzi Schemers ... http://bit.ly/2CUIg\n",
              "43  0.625689  ...                  started to think that Citi is in really deep s&amp;^t. Are they gonna survive the turmoil or are they gonna be the next AIG?\n",
              "44  0.607475  ...                                                                                                                        ShaunWoo hate'n on AiG\n",
              "45  0.728154  ...                                                                        @YarnThing you will not regret going to see Star Trek. It was AWESOME!\n",
              "46  0.130360  ...                    annoying new trend on the internets:  people picking apart michael lewis and malcolm gladwell.  nobody wants to read that.\n",
              "47  0.742478  ...                                                                 Highly recommend: http://tinyurl.com/HowDavidBeatsGoliath by Malcolm Gladwell\n",
              "48  0.758257  ...                                                                                 Blink by malcolm gladwell amazing book and The tipping point!\n",
              "49  0.626396  ...                                                                                                    Malcolm Gladwell might be my new man crush\n",
              "\n",
              "[50 rows x 5 columns]"
            ]
          },
          "metadata": {
            "tags": []
          },
          "execution_count": 244
        }
      ]
    },
    {
      "cell_type": "code",
      "metadata": {
        "id": "HQoNU9wY2HZd"
      },
      "source": [
        "score_1['ground_truth'] = score_1.real_label.map(lambda s: 'positive' if s==1 else 'negative')"
      ],
      "execution_count": 245,
      "outputs": []
    },
    {
      "cell_type": "code",
      "metadata": {
        "id": "6p-G031S2te9",
        "outputId": "f5bbc8c0-a205-4a26-9cc3-85132f30a078",
        "colab": {
          "base_uri": "https://localhost:8080/",
          "height": 538
        }
      },
      "source": [
        "score_1[score_1['predict_label']!=score_1['ground_truth']]"
      ],
      "execution_count": 247,
      "outputs": [
        {
          "output_type": "execute_result",
          "data": {
            "text/html": [
              "<div>\n",
              "<style scoped>\n",
              "    .dataframe tbody tr th:only-of-type {\n",
              "        vertical-align: middle;\n",
              "    }\n",
              "\n",
              "    .dataframe tbody tr th {\n",
              "        vertical-align: top;\n",
              "    }\n",
              "\n",
              "    .dataframe thead th {\n",
              "        text-align: right;\n",
              "    }\n",
              "</style>\n",
              "<table border=\"1\" class=\"dataframe\">\n",
              "  <thead>\n",
              "    <tr style=\"text-align: right;\">\n",
              "      <th></th>\n",
              "      <th>score</th>\n",
              "      <th>predict_label</th>\n",
              "      <th>real_label</th>\n",
              "      <th>texto</th>\n",
              "      <th>texto_raw</th>\n",
              "      <th>ground_truth</th>\n",
              "    </tr>\n",
              "  </thead>\n",
              "  <tbody>\n",
              "    <tr>\n",
              "      <th>3</th>\n",
              "      <td>0.307716</td>\n",
              "      <td>negative</td>\n",
              "      <td>1</td>\n",
              "      <td>love kindle2 mine month never look back new big one huge need remors</td>\n",
              "      <td>@kenburbary You'll love your Kindle2. I've had mine for a few months and never looked back. The new big one is huge! No need for remorse! :)</td>\n",
              "      <td>positive</td>\n",
              "    </tr>\n",
              "    <tr>\n",
              "      <th>11</th>\n",
              "      <td>0.324423</td>\n",
              "      <td>negative</td>\n",
              "      <td>1</td>\n",
              "      <td>hous correspond dinner last night whoopi barbara sherri went obama got stand ovat</td>\n",
              "      <td>House Correspondents dinner was last night whoopi, barbara &amp;amp; sherri went, Obama got a standing ovation</td>\n",
              "      <td>positive</td>\n",
              "    </tr>\n",
              "    <tr>\n",
              "      <th>14</th>\n",
              "      <td>0.363422</td>\n",
              "      <td>negative</td>\n",
              "      <td>1</td>\n",
              "      <td>best athlet gener time basketbal relat want get intersport debat __1/2</td>\n",
              "      <td>#lebron best athlete of our generation, if not all time (basketball related) I don't want to get into inter-sport debates about   __1/2</td>\n",
              "      <td>positive</td>\n",
              "    </tr>\n",
              "    <tr>\n",
              "      <th>21</th>\n",
              "      <td>0.257727</td>\n",
              "      <td>negative</td>\n",
              "      <td>1</td>\n",
              "      <td>lebron beast nobodi nba come even close</td>\n",
              "      <td>@wordwhizkid Lebron is a beast... nobody in the NBA comes even close.</td>\n",
              "      <td>positive</td>\n",
              "    </tr>\n",
              "    <tr>\n",
              "      <th>22</th>\n",
              "      <td>0.263483</td>\n",
              "      <td>negative</td>\n",
              "      <td>1</td>\n",
              "      <td>download app iphon much fun liter app anyth</td>\n",
              "      <td>downloading apps for my iphone! So much fun :-) There literally is an app for just about anything.</td>\n",
              "      <td>positive</td>\n",
              "    </tr>\n",
              "    <tr>\n",
              "      <th>...</th>\n",
              "      <td>...</td>\n",
              "      <td>...</td>\n",
              "      <td>...</td>\n",
              "      <td>...</td>\n",
              "      <td>...</td>\n",
              "      <td>...</td>\n",
              "    </tr>\n",
              "    <tr>\n",
              "      <th>344</th>\n",
              "      <td>0.198552</td>\n",
              "      <td>negative</td>\n",
              "      <td>1</td>\n",
              "      <td>dad ny day ate mesa grill last night met bobbi flay much fun except complet lost voic today</td>\n",
              "      <td>My dad was in NY for a day, we ate at MESA grill last night and met Bobby Flay. So much fun, except I completely lost my voice today.</td>\n",
              "      <td>positive</td>\n",
              "    </tr>\n",
              "    <tr>\n",
              "      <th>345</th>\n",
              "      <td>0.595264</td>\n",
              "      <td>positive</td>\n",
              "      <td>0</td>\n",
              "      <td>fight latex</td>\n",
              "      <td>Fighting with LaTex. Again...</td>\n",
              "      <td>negative</td>\n",
              "    </tr>\n",
              "    <tr>\n",
              "      <th>348</th>\n",
              "      <td>0.647808</td>\n",
              "      <td>positive</td>\n",
              "      <td>0</td>\n",
              "      <td>shit hit fan irancrazi inde</td>\n",
              "      <td>Shit's hitting the fan in Iran...craziness indeed #iranelection</td>\n",
              "      <td>negative</td>\n",
              "    </tr>\n",
              "    <tr>\n",
              "      <th>349</th>\n",
              "      <td>0.745758</td>\n",
              "      <td>positive</td>\n",
              "      <td>0</td>\n",
              "      <td>monday alreadi iran may implod kitchen disast seem happi nice weekend great whoop</td>\n",
              "      <td>Monday already. Iran may implode. Kitchen is a disaster. @annagoss seems happy. @sebulous had a nice weekend and @goldpanda is great. whoop.</td>\n",
              "      <td>negative</td>\n",
              "    </tr>\n",
              "    <tr>\n",
              "      <th>352</th>\n",
              "      <td>0.625689</td>\n",
              "      <td>positive</td>\n",
              "      <td>0</td>\n",
              "      <td>creat first latex file scratch work well see great time waster</td>\n",
              "      <td>I just created my first LaTeX file from scratch. That didn't work out very well. (See @amandabittner , it's a great time waster)</td>\n",
              "      <td>negative</td>\n",
              "    </tr>\n",
              "  </tbody>\n",
              "</table>\n",
              "<p>80 rows × 6 columns</p>\n",
              "</div>"
            ],
            "text/plain": [
              "        score  ... ground_truth\n",
              "3    0.307716  ...     positive\n",
              "11   0.324423  ...     positive\n",
              "14   0.363422  ...     positive\n",
              "21   0.257727  ...     positive\n",
              "22   0.263483  ...     positive\n",
              "..        ...  ...          ...\n",
              "344  0.198552  ...     positive\n",
              "345  0.595264  ...     negative\n",
              "348  0.647808  ...     negative\n",
              "349  0.745758  ...     negative\n",
              "352  0.625689  ...     negative\n",
              "\n",
              "[80 rows x 6 columns]"
            ]
          },
          "metadata": {
            "tags": []
          },
          "execution_count": 247
        }
      ]
    },
    {
      "cell_type": "code",
      "metadata": {
        "id": "O4DTwPTHNqus"
      },
      "source": [
        "from tensorflow.keras.models import save_model, load_model\n",
        "save_model(model, \"./\")"
      ],
      "execution_count": null,
      "outputs": []
    }
  ]
}