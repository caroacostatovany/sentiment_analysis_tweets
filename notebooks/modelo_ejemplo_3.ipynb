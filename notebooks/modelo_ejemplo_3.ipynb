{
  "nbformat": 4,
  "nbformat_minor": 0,
  "metadata": {
    "colab": {
      "name": "Untitled0.ipynb",
      "provenance": [],
      "authorship_tag": "ABX9TyN4gTdqUXKkjDgqBY2nPUpT",
      "include_colab_link": true
    },
    "kernelspec": {
      "name": "python3",
      "display_name": "Python 3"
    },
    "language_info": {
      "name": "python"
    },
    "accelerator": "GPU"
  },
  "cells": [
    {
      "cell_type": "markdown",
      "metadata": {
        "id": "view-in-github",
        "colab_type": "text"
      },
      "source": [
        "<a href=\"https://colab.research.google.com/github/ElenaVillano/sentiment_analysis_tweets/blob/main/notebooks/modelo_ejemplo_3.ipynb\" target=\"_parent\"><img src=\"https://colab.research.google.com/assets/colab-badge.svg\" alt=\"Open In Colab\"/></a>"
      ]
    },
    {
      "cell_type": "code",
      "metadata": {
        "colab": {
          "base_uri": "https://localhost:8080/"
        },
        "id": "tAzRGUMQbNSM",
        "outputId": "8fd45493-4138-4d52-ceb7-42a4648e08a2"
      },
      "source": [
        "!pip install \"git+https://github.com/ElenaVillano/sentiment_analysis_tweets.git#egg=nlptweet&subdirectory=src\" --quiet"
      ],
      "execution_count": 1,
      "outputs": [
        {
          "output_type": "stream",
          "text": [
            "  Building wheel for nlptweet (setup.py) ... \u001b[?25l\u001b[?25hdone\n"
          ],
          "name": "stdout"
        }
      ]
    },
    {
      "cell_type": "code",
      "metadata": {
        "colab": {
          "base_uri": "https://localhost:8080/"
        },
        "id": "irDTHM13bSBy",
        "outputId": "9556e6e0-da19-4e91-d3b7-1eead93a6197"
      },
      "source": [
        "import pandas as pd\n",
        "import numpy as np\n",
        "import matplotlib.pyplot as plt\n",
        "import datetime\n",
        "import nltk\n",
        "#import re\n",
        "import timeit\n",
        "import string\n",
        "# Nuestro paquete\n",
        "import nlp\n",
        "\n",
        "\n",
        "#call the nltk downloader\n",
        "nltk.download('punkt')\n",
        "\n",
        "from dateutil import parser\n",
        "\n",
        "# Carga un set de stopwords predefinidas\n",
        "from nltk.corpus import stopwords\n",
        "\n",
        "from nltk.tokenize import sent_tokenize, word_tokenize\n",
        "from nltk.stem import PorterStemmer\n",
        "from nltk.stem import LancasterStemmer"
      ],
      "execution_count": 2,
      "outputs": [
        {
          "output_type": "stream",
          "text": [
            "[nltk_data] Downloading package punkt to /root/nltk_data...\n",
            "[nltk_data]   Unzipping tokenizers/punkt.zip.\n"
          ],
          "name": "stdout"
        }
      ]
    },
    {
      "cell_type": "code",
      "metadata": {
        "id": "dT1wTA9RbY0c"
      },
      "source": [
        "# Nombramiento de columnas\n",
        "col_names = ['target', # Polaridad del twet 0=negativo, 2=neutral, 4=positivo\n",
        "             'ids',    # ID tweet\n",
        "             'date',   # Fecha y hora del tweet\n",
        "             'flag',   # QUERY\n",
        "             'user',   # Usuario del tweet\n",
        "             'text']   # Texto del tweety"
      ],
      "execution_count": 3,
      "outputs": []
    },
    {
      "cell_type": "markdown",
      "metadata": {
        "id": "_h11WAmGbd7i"
      },
      "source": [
        "## Cargamos datos limpios"
      ]
    },
    {
      "cell_type": "code",
      "metadata": {
        "colab": {
          "resources": {
            "http://localhost:8080/nbextensions/google.colab/files.js": {
              "data": "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",
              "ok": true,
              "headers": [
                [
                  "content-type",
                  "application/javascript"
                ]
              ],
              "status": 200,
              "status_text": ""
            }
          },
          "base_uri": "https://localhost:8080/",
          "height": 109
        },
        "id": "Gz-yPXvubbCS",
        "outputId": "4bc165f3-a965-43ef-fd14-24e9bc1a38b8"
      },
      "source": [
        "# Requiered to select a file to be imported into colab\n",
        "# Not useful if running locally\n",
        "from google.colab import files\n",
        "uploaded = files.upload()"
      ],
      "execution_count": 4,
      "outputs": [
        {
          "output_type": "display_data",
          "data": {
            "text/html": [
              "\n",
              "     <input type=\"file\" id=\"files-68e77633-47e7-44d6-9efa-661098275018\" name=\"files[]\" multiple disabled\n",
              "        style=\"border:none\" />\n",
              "     <output id=\"result-68e77633-47e7-44d6-9efa-661098275018\">\n",
              "      Upload widget is only available when the cell has been executed in the\n",
              "      current browser session. Please rerun this cell to enable.\n",
              "      </output>\n",
              "      <script src=\"/nbextensions/google.colab/files.js\"></script> "
            ],
            "text/plain": [
              "<IPython.core.display.HTML object>"
            ]
          },
          "metadata": {
            "tags": []
          }
        },
        {
          "output_type": "stream",
          "text": [
            "Saving 1600000_datos_limpios_sin_user_ni_url.csv to 1600000_datos_limpios_sin_user_ni_url.csv\n"
          ],
          "name": "stdout"
        }
      ]
    },
    {
      "cell_type": "code",
      "metadata": {
        "id": "hUuS3_QsbhDO"
      },
      "source": [
        "data =  pd.read_csv('1600000_datos_limpios_sin_user_ni_url.csv',\n",
        "                 encoding='latin-1')"
      ],
      "execution_count": 41,
      "outputs": []
    },
    {
      "cell_type": "code",
      "metadata": {
        "id": "lOcssiE9uWZz"
      },
      "source": [
        "data = data[data.text.notna()]"
      ],
      "execution_count": 42,
      "outputs": []
    },
    {
      "cell_type": "markdown",
      "metadata": {
        "id": "2__xuA2rb06N"
      },
      "source": [
        "## TOKENIZER"
      ]
    },
    {
      "cell_type": "code",
      "metadata": {
        "id": "IYPQcgN9bq9B"
      },
      "source": [
        "from tensorflow.keras.preprocessing.text import Tokenizer\n",
        "from tensorflow.keras.preprocessing.sequence import pad_sequences\n",
        "from tensorflow.keras import regularizers"
      ],
      "execution_count": 7,
      "outputs": []
    },
    {
      "cell_type": "code",
      "metadata": {
        "colab": {
          "base_uri": "https://localhost:8080/"
        },
        "id": "bzI5IpRebq5x",
        "outputId": "ca1b7ffd-c8f2-4d8d-ab3b-3ab14235ab33"
      },
      "source": [
        "# Entrena un Tokenizer. Consiste en:\n",
        "# Crea un diccionario numerado de las palabras existentes en el corpus, y devuelve\n",
        "# por cada palabra, el número entero de su índice en el diccionario.\n",
        "# En este caso, considera las N palabras más frecuentes.\n",
        "# oov_token = constante asiganda para palabras fuera del vocabulario (NOT USED HERE)\n",
        "data_set_1 = data\n",
        "data_set_1.shape\n",
        "data_set_1.text"
      ],
      "execution_count": 43,
      "outputs": [
        {
          "output_type": "execute_result",
          "data": {
            "text/plain": [
              "0               aww bummer shoulda got david carr third day \n",
              "1          upset updat facebook text might cri result sch...\n",
              "2          dive mani time ball manag save 50 % rest go bo...\n",
              "3                           whole bodi feel itchi like fire \n",
              "4                                             behav mad see \n",
              "                                 ...                        \n",
              "1599995                          woke school best feel ever \n",
              "1599996              thewdbcom cool hear old walt interview \n",
              "1599997                        readi mojo makeov ask detail \n",
              "1599998     happi 38th birthday boo time tupac amaru shakur \n",
              "1599999                                               happi \n",
              "Name: text, Length: 1591506, dtype: object"
            ]
          },
          "metadata": {
            "tags": []
          },
          "execution_count": 43
        }
      ]
    },
    {
      "cell_type": "code",
      "metadata": {
        "id": "O7oyf3W6ue0O"
      },
      "source": [
        "max_words = 1000\n",
        "\n",
        "tokenizer = Tokenizer(num_words=max_words)\n",
        "tokenizer.fit_on_texts(data_set_1.text)"
      ],
      "execution_count": 10,
      "outputs": []
    },
    {
      "cell_type": "code",
      "metadata": {
        "id": "tXU0-KwZXY-H"
      },
      "source": [
        "palabras = pd.DataFrame([(word,count) for i, (word, count) in enumerate(tokenizer.word_counts.items())])"
      ],
      "execution_count": 11,
      "outputs": []
    },
    {
      "cell_type": "code",
      "metadata": {
        "id": "O78fro7TXZCu"
      },
      "source": [
        "palabras = palabras.sort_values(1,ascending=False).reset_index()[2:]"
      ],
      "execution_count": 12,
      "outputs": []
    },
    {
      "cell_type": "code",
      "metadata": {
        "id": "sRC31msyXg27"
      },
      "source": [
        "palabras_mas_frecuentes = palabras.head(500)"
      ],
      "execution_count": 13,
      "outputs": []
    },
    {
      "cell_type": "code",
      "metadata": {
        "id": "UQKS0j5XXg_g",
        "outputId": "8b763a37-e88f-4e8d-9e98-cb62af773507",
        "colab": {
          "base_uri": "https://localhost:8080/",
          "height": 338
        }
      },
      "source": [
        "palabras_mas_frecuentes.plot.bar(x=0,y=1)"
      ],
      "execution_count": 14,
      "outputs": [
        {
          "output_type": "execute_result",
          "data": {
            "text/plain": [
              "<matplotlib.axes._subplots.AxesSubplot at 0x7fea47643590>"
            ]
          },
          "metadata": {
            "tags": []
          },
          "execution_count": 14
        },
        {
          "output_type": "display_data",
          "data": {
            "image/png": "[encoded data removed]",
            "text/plain": [
              "<Figure size 432x288 with 1 Axes>"
            ]
          },
          "metadata": {
            "tags": [],
            "needs_background": "light"
          }
        }
      ]
    },
    {
      "cell_type": "markdown",
      "metadata": {
        "id": "VDtPhV1aXygc"
      },
      "source": [
        "Elegimos el número de palabras y longitud del vector:"
      ]
    },
    {
      "cell_type": "code",
      "metadata": {
        "id": "iF3DFB9hbq1n",
        "outputId": "9085f174-7d35-4adc-a097-20513606a551",
        "colab": {
          "base_uri": "https://localhost:8080/",
          "height": 419
        }
      },
      "source": [
        "palabras_mas_frecuentes"
      ],
      "execution_count": 15,
      "outputs": [
        {
          "output_type": "execute_result",
          "data": {
            "text/html": [
              "<div>\n",
              "<style scoped>\n",
              "    .dataframe tbody tr th:only-of-type {\n",
              "        vertical-align: middle;\n",
              "    }\n",
              "\n",
              "    .dataframe tbody tr th {\n",
              "        vertical-align: top;\n",
              "    }\n",
              "\n",
              "    .dataframe thead th {\n",
              "        text-align: right;\n",
              "    }\n",
              "</style>\n",
              "<table border=\"1\" class=\"dataframe\">\n",
              "  <thead>\n",
              "    <tr style=\"text-align: right;\">\n",
              "      <th></th>\n",
              "      <th>index</th>\n",
              "      <th>0</th>\n",
              "      <th>1</th>\n",
              "    </tr>\n",
              "  </thead>\n",
              "  <tbody>\n",
              "    <tr>\n",
              "      <th>2</th>\n",
              "      <td>7</td>\n",
              "      <td>day</td>\n",
              "      <td>101871</td>\n",
              "    </tr>\n",
              "    <tr>\n",
              "      <th>3</th>\n",
              "      <td>188</td>\n",
              "      <td>good</td>\n",
              "      <td>92467</td>\n",
              "    </tr>\n",
              "    <tr>\n",
              "      <th>4</th>\n",
              "      <td>164</td>\n",
              "      <td>work</td>\n",
              "      <td>85412</td>\n",
              "    </tr>\n",
              "    <tr>\n",
              "      <th>5</th>\n",
              "      <td>33</td>\n",
              "      <td>like</td>\n",
              "      <td>83062</td>\n",
              "    </tr>\n",
              "    <tr>\n",
              "      <th>6</th>\n",
              "      <td>100</td>\n",
              "      <td>love</td>\n",
              "      <td>81877</td>\n",
              "    </tr>\n",
              "    <tr>\n",
              "      <th>...</th>\n",
              "      <td>...</td>\n",
              "      <td>...</td>\n",
              "      <td>...</td>\n",
              "    </tr>\n",
              "    <tr>\n",
              "      <th>497</th>\n",
              "      <td>1821</td>\n",
              "      <td>water</td>\n",
              "      <td>3670</td>\n",
              "    </tr>\n",
              "    <tr>\n",
              "      <th>498</th>\n",
              "      <td>1079</td>\n",
              "      <td>bout</td>\n",
              "      <td>3663</td>\n",
              "    </tr>\n",
              "    <tr>\n",
              "      <th>499</th>\n",
              "      <td>690</td>\n",
              "      <td>star</td>\n",
              "      <td>3655</td>\n",
              "    </tr>\n",
              "    <tr>\n",
              "      <th>500</th>\n",
              "      <td>1647</td>\n",
              "      <td>store</td>\n",
              "      <td>3652</td>\n",
              "    </tr>\n",
              "    <tr>\n",
              "      <th>501</th>\n",
              "      <td>1967</td>\n",
              "      <td>point</td>\n",
              "      <td>3638</td>\n",
              "    </tr>\n",
              "  </tbody>\n",
              "</table>\n",
              "<p>500 rows × 3 columns</p>\n",
              "</div>"
            ],
            "text/plain": [
              "     index      0       1\n",
              "2        7    day  101871\n",
              "3      188   good   92467\n",
              "4      164   work   85412\n",
              "5       33   like   83062\n",
              "6      100   love   81877\n",
              "..     ...    ...     ...\n",
              "497   1821  water    3670\n",
              "498   1079   bout    3663\n",
              "499    690   star    3655\n",
              "500   1647  store    3652\n",
              "501   1967  point    3638\n",
              "\n",
              "[500 rows x 3 columns]"
            ]
          },
          "metadata": {
            "tags": []
          },
          "execution_count": 15
        }
      ]
    },
    {
      "cell_type": "code",
      "metadata": {
        "colab": {
          "base_uri": "https://localhost:8080/"
        },
        "id": "OCuBGcu6bqyr",
        "outputId": "937ca2d8-fce6-45b9-aa30-e57da413c793"
      },
      "source": [
        "# Convierte palabras en enteros\n",
        "sequences = tokenizer.texts_to_sequences(data_set_1.text)\n",
        "lengths = []\n",
        "for seq in sequences:\n",
        "  lengths.append(len(seq))\n",
        "\n",
        "print(\"Tweet más pequeño\", np.array(lengths).min(), \"words.\")\n",
        "print(\"Tweet más grande\", np.array(lengths).max(), \"words.\")\n",
        "print(f\"Longitud promedio: {np.array(lengths).mean():.2f} +- {np.array(lengths).std():.2f} words.\")\n",
        "print('\\n')\n",
        "\n",
        "for seq in sequences[:10]:\n",
        "  print(seq)"
      ],
      "execution_count": 44,
      "outputs": [
        {
          "output_type": "stream",
          "text": [
            "Tweet más pequeño 0 words.\n",
            "Tweet más grande 27 words.\n",
            "Longitud promedio: 4.96 +- 3.04 words.\n",
            "\n",
            "\n",
            "[110, 8, 697, 3]\n",
            "[592, 222, 430, 353, 201, 242, 965, 76, 9, 188]\n",
            "[221, 10, 860, 686, 495, 344, 1]\n",
            "[327, 645, 19, 6, 863]\n",
            "[454, 18]\n",
            "[327]\n",
            "[25, 461]\n",
            "[83, 96, 10, 18, 90, 97, 168, 168, 16, 418, 11]\n",
            "[656]\n",
            "[]\n"
          ],
          "name": "stdout"
        }
      ]
    },
    {
      "cell_type": "code",
      "metadata": {
        "id": "nsb0-ztJva61"
      },
      "source": [
        "train_seq = np.array(sequences, dtype=object)\n",
        "df_sequences = pd.DataFrame(train_seq.T, columns=['tokens'])"
      ],
      "execution_count": 45,
      "outputs": []
    },
    {
      "cell_type": "code",
      "metadata": {
        "id": "zTQM6PS-va-T"
      },
      "source": [
        "df_sequences['len'] = df_sequences['tokens'].map(lambda s: len(s))"
      ],
      "execution_count": 46,
      "outputs": []
    },
    {
      "cell_type": "code",
      "metadata": {
        "id": "s4G6fZFsvbDK"
      },
      "source": [
        "data = data.reset_index().drop(['index', 'Unnamed: 0'], axis = 1)"
      ],
      "execution_count": 47,
      "outputs": []
    },
    {
      "cell_type": "code",
      "metadata": {
        "id": "2SFB-zREvbIS"
      },
      "source": [
        "df_sequences['target'] = data['target']"
      ],
      "execution_count": 48,
      "outputs": []
    },
    {
      "cell_type": "code",
      "metadata": {
        "id": "-dthegwsvbLA"
      },
      "source": [
        "df_select = df_sequences[(df_sequences.len>3) & (df_sequences.len<9)]"
      ],
      "execution_count": 49,
      "outputs": []
    },
    {
      "cell_type": "code",
      "metadata": {
        "id": "p0BzQNqywQ42",
        "outputId": "0083d3f7-83c2-413d-bbf8-3b4a9ebf307a",
        "colab": {
          "base_uri": "https://localhost:8080/",
          "height": 142
        }
      },
      "source": [
        "df_select.groupby('target').count()"
      ],
      "execution_count": 50,
      "outputs": [
        {
          "output_type": "execute_result",
          "data": {
            "text/html": [
              "<div>\n",
              "<style scoped>\n",
              "    .dataframe tbody tr th:only-of-type {\n",
              "        vertical-align: middle;\n",
              "    }\n",
              "\n",
              "    .dataframe tbody tr th {\n",
              "        vertical-align: top;\n",
              "    }\n",
              "\n",
              "    .dataframe thead th {\n",
              "        text-align: right;\n",
              "    }\n",
              "</style>\n",
              "<table border=\"1\" class=\"dataframe\">\n",
              "  <thead>\n",
              "    <tr style=\"text-align: right;\">\n",
              "      <th></th>\n",
              "      <th>tokens</th>\n",
              "      <th>len</th>\n",
              "    </tr>\n",
              "    <tr>\n",
              "      <th>target</th>\n",
              "      <th></th>\n",
              "      <th></th>\n",
              "    </tr>\n",
              "  </thead>\n",
              "  <tbody>\n",
              "    <tr>\n",
              "      <th>0</th>\n",
              "      <td>397737</td>\n",
              "      <td>397737</td>\n",
              "    </tr>\n",
              "    <tr>\n",
              "      <th>1</th>\n",
              "      <td>379250</td>\n",
              "      <td>379250</td>\n",
              "    </tr>\n",
              "  </tbody>\n",
              "</table>\n",
              "</div>"
            ],
            "text/plain": [
              "        tokens     len\n",
              "target                \n",
              "0       397737  397737\n",
              "1       379250  379250"
            ]
          },
          "metadata": {
            "tags": []
          },
          "execution_count": 50
        }
      ]
    },
    {
      "cell_type": "code",
      "metadata": {
        "id": "s1RYHgk5xZDz",
        "outputId": "caade833-9a7b-450f-b963-db96999e061b",
        "colab": {
          "base_uri": "https://localhost:8080/",
          "height": 350
        }
      },
      "source": [
        "sns.countplot(df_select['target'])"
      ],
      "execution_count": 51,
      "outputs": [
        {
          "output_type": "stream",
          "text": [
            "/usr/local/lib/python3.7/dist-packages/seaborn/_decorators.py:43: FutureWarning: Pass the following variable as a keyword arg: x. From version 0.12, the only valid positional argument will be `data`, and passing other arguments without an explicit keyword will result in an error or misinterpretation.\n",
            "  FutureWarning\n"
          ],
          "name": "stderr"
        },
        {
          "output_type": "execute_result",
          "data": {
            "text/plain": [
              "<matplotlib.axes._subplots.AxesSubplot at 0x7fea0cc94890>"
            ]
          },
          "metadata": {
            "tags": []
          },
          "execution_count": 51
        },
        {
          "output_type": "display_data",
          "data": {
            "image/png": "[encoded data removed]",
            "text/plain": [
              "<Figure size 432x288 with 1 Axes>"
            ]
          },
          "metadata": {
            "tags": [],
            "needs_background": "light"
          }
        }
      ]
    },
    {
      "cell_type": "code",
      "metadata": {
        "id": "UOuEcTDgvs0s"
      },
      "source": [
        "last_df = pd.concat([df_select[df_select.target==0].head(379250),df_select[df_select.target==1]], axis=0)"
      ],
      "execution_count": 53,
      "outputs": []
    },
    {
      "cell_type": "code",
      "metadata": {
        "id": "u4PK8kRBvs4F",
        "outputId": "bea0bb40-4d38-450d-d52b-4823209a658a",
        "colab": {
          "base_uri": "https://localhost:8080/",
          "height": 350
        }
      },
      "source": [
        "# Revisamos si estan balanceadas las etiquetas\n",
        "sns.countplot(last_df['target'])"
      ],
      "execution_count": 54,
      "outputs": [
        {
          "output_type": "stream",
          "text": [
            "/usr/local/lib/python3.7/dist-packages/seaborn/_decorators.py:43: FutureWarning: Pass the following variable as a keyword arg: x. From version 0.12, the only valid positional argument will be `data`, and passing other arguments without an explicit keyword will result in an error or misinterpretation.\n",
            "  FutureWarning\n"
          ],
          "name": "stderr"
        },
        {
          "output_type": "execute_result",
          "data": {
            "text/plain": [
              "<matplotlib.axes._subplots.AxesSubplot at 0x7fea0cc80b10>"
            ]
          },
          "metadata": {
            "tags": []
          },
          "execution_count": 54
        },
        {
          "output_type": "display_data",
          "data": {
            "image/png": "[encoded data removed]",
            "text/plain": [
              "<Figure size 432x288 with 1 Axes>"
            ]
          },
          "metadata": {
            "tags": [],
            "needs_background": "light"
          }
        }
      ]
    },
    {
      "cell_type": "code",
      "metadata": {
        "id": "kHpDQtJgvs7O"
      },
      "source": [
        "last_df = last_df.sample(n=100000,random_state=21239)"
      ],
      "execution_count": 55,
      "outputs": []
    },
    {
      "cell_type": "code",
      "metadata": {
        "id": "f0-k_UZPvtAC",
        "outputId": "84a6de36-e23d-47be-e6ef-cc80ef9f1730",
        "colab": {
          "base_uri": "https://localhost:8080/",
          "height": 419
        }
      },
      "source": [
        "last_df"
      ],
      "execution_count": 56,
      "outputs": [
        {
          "output_type": "execute_result",
          "data": {
            "text/html": [
              "<div>\n",
              "<style scoped>\n",
              "    .dataframe tbody tr th:only-of-type {\n",
              "        vertical-align: middle;\n",
              "    }\n",
              "\n",
              "    .dataframe tbody tr th {\n",
              "        vertical-align: top;\n",
              "    }\n",
              "\n",
              "    .dataframe thead th {\n",
              "        text-align: right;\n",
              "    }\n",
              "</style>\n",
              "<table border=\"1\" class=\"dataframe\">\n",
              "  <thead>\n",
              "    <tr style=\"text-align: right;\">\n",
              "      <th></th>\n",
              "      <th>tokens</th>\n",
              "      <th>len</th>\n",
              "      <th>target</th>\n",
              "    </tr>\n",
              "  </thead>\n",
              "  <tbody>\n",
              "    <tr>\n",
              "      <th>427630</th>\n",
              "      <td>[205, 456, 667, 1, 244, 129, 171, 131]</td>\n",
              "      <td>8</td>\n",
              "      <td>0</td>\n",
              "    </tr>\n",
              "    <tr>\n",
              "      <th>53106</th>\n",
              "      <td>[48, 2, 333, 82]</td>\n",
              "      <td>4</td>\n",
              "      <td>0</td>\n",
              "    </tr>\n",
              "    <tr>\n",
              "      <th>1366786</th>\n",
              "      <td>[162, 20, 209, 274, 409, 102, 365, 18]</td>\n",
              "      <td>8</td>\n",
              "      <td>1</td>\n",
              "    </tr>\n",
              "    <tr>\n",
              "      <th>1179432</th>\n",
              "      <td>[34, 231, 798, 631, 376]</td>\n",
              "      <td>5</td>\n",
              "      <td>1</td>\n",
              "    </tr>\n",
              "    <tr>\n",
              "      <th>506260</th>\n",
              "      <td>[449, 28, 84, 108, 115]</td>\n",
              "      <td>5</td>\n",
              "      <td>0</td>\n",
              "    </tr>\n",
              "    <tr>\n",
              "      <th>...</th>\n",
              "      <td>...</td>\n",
              "      <td>...</td>\n",
              "      <td>...</td>\n",
              "    </tr>\n",
              "    <tr>\n",
              "      <th>445878</th>\n",
              "      <td>[208, 55, 58, 1, 144, 6]</td>\n",
              "      <td>6</td>\n",
              "      <td>0</td>\n",
              "    </tr>\n",
              "    <tr>\n",
              "      <th>514241</th>\n",
              "      <td>[29, 454, 77, 27, 20, 6]</td>\n",
              "      <td>6</td>\n",
              "      <td>0</td>\n",
              "    </tr>\n",
              "    <tr>\n",
              "      <th>927297</th>\n",
              "      <td>[140, 14, 40, 13, 81, 57]</td>\n",
              "      <td>6</td>\n",
              "      <td>1</td>\n",
              "    </tr>\n",
              "    <tr>\n",
              "      <th>904209</th>\n",
              "      <td>[161, 30, 142, 728, 57]</td>\n",
              "      <td>5</td>\n",
              "      <td>1</td>\n",
              "    </tr>\n",
              "    <tr>\n",
              "      <th>715597</th>\n",
              "      <td>[21, 59, 364, 28, 7, 94, 305]</td>\n",
              "      <td>7</td>\n",
              "      <td>0</td>\n",
              "    </tr>\n",
              "  </tbody>\n",
              "</table>\n",
              "<p>100000 rows × 3 columns</p>\n",
              "</div>"
            ],
            "text/plain": [
              "                                         tokens  len  target\n",
              "427630   [205, 456, 667, 1, 244, 129, 171, 131]    8       0\n",
              "53106                          [48, 2, 333, 82]    4       0\n",
              "1366786  [162, 20, 209, 274, 409, 102, 365, 18]    8       1\n",
              "1179432                [34, 231, 798, 631, 376]    5       1\n",
              "506260                  [449, 28, 84, 108, 115]    5       0\n",
              "...                                         ...  ...     ...\n",
              "445878                 [208, 55, 58, 1, 144, 6]    6       0\n",
              "514241                 [29, 454, 77, 27, 20, 6]    6       0\n",
              "927297                [140, 14, 40, 13, 81, 57]    6       1\n",
              "904209                  [161, 30, 142, 728, 57]    5       1\n",
              "715597            [21, 59, 364, 28, 7, 94, 305]    7       0\n",
              "\n",
              "[100000 rows x 3 columns]"
            ]
          },
          "metadata": {
            "tags": []
          },
          "execution_count": 56
        }
      ]
    },
    {
      "cell_type": "code",
      "metadata": {
        "id": "q2dsfqFVwq4m",
        "outputId": "f1aa0da0-0c3a-42cd-de0f-f6d317a2df38",
        "colab": {
          "base_uri": "https://localhost:8080/",
          "height": 350
        }
      },
      "source": [
        "# Revisamos si estan balanceadas las etiquetas\n",
        "sns.countplot(last_df['target'])"
      ],
      "execution_count": 57,
      "outputs": [
        {
          "output_type": "stream",
          "text": [
            "/usr/local/lib/python3.7/dist-packages/seaborn/_decorators.py:43: FutureWarning: Pass the following variable as a keyword arg: x. From version 0.12, the only valid positional argument will be `data`, and passing other arguments without an explicit keyword will result in an error or misinterpretation.\n",
            "  FutureWarning\n"
          ],
          "name": "stderr"
        },
        {
          "output_type": "execute_result",
          "data": {
            "text/plain": [
              "<matplotlib.axes._subplots.AxesSubplot at 0x7fea0cc37bd0>"
            ]
          },
          "metadata": {
            "tags": []
          },
          "execution_count": 57
        },
        {
          "output_type": "display_data",
          "data": {
            "image/png": "[encoded data removed]",
            "text/plain": [
              "<Figure size 432x288 with 1 Axes>"
            ]
          },
          "metadata": {
            "tags": [],
            "needs_background": "light"
          }
        }
      ]
    },
    {
      "cell_type": "code",
      "metadata": {
        "id": "8KG_qzEwx7FJ",
        "outputId": "d52981cd-7beb-4292-ac99-3b6084e327b0",
        "colab": {
          "base_uri": "https://localhost:8080/"
        }
      },
      "source": [
        "#sequences = tokenizer.texts_to_sequences(data_set_1.text)\n",
        "max_len = 9\n",
        "tweets = pad_sequences(list(last_df.tokens), maxlen=max_len, padding='post')\n",
        "print(tweets)"
      ],
      "execution_count": 60,
      "outputs": [
        {
          "output_type": "stream",
          "text": [
            "[[205 456 667 ... 171 131   0]\n",
            " [ 48   2 333 ...   0   0   0]\n",
            " [162  20 209 ... 365  18   0]\n",
            " ...\n",
            " [140  14  40 ...   0   0   0]\n",
            " [161  30 142 ...   0   0   0]\n",
            " [ 21  59 364 ... 305   0   0]]\n"
          ],
          "name": "stdout"
        }
      ]
    },
    {
      "cell_type": "markdown",
      "metadata": {
        "id": "rx7ip1wgcNqB"
      },
      "source": [
        "## Separación de datos en train y test"
      ]
    },
    {
      "cell_type": "code",
      "metadata": {
        "id": "_8wFfHFicG2f"
      },
      "source": [
        "from sklearn.model_selection import train_test_split"
      ],
      "execution_count": 61,
      "outputs": []
    },
    {
      "cell_type": "code",
      "metadata": {
        "id": "iBAI_oXxcG56"
      },
      "source": [
        "X_train, X_test, y_train, y_test = train_test_split(tweets, last_df.target.values, test_size=0.3, random_state=23042021)"
      ],
      "execution_count": 62,
      "outputs": []
    },
    {
      "cell_type": "code",
      "metadata": {
        "colab": {
          "base_uri": "https://localhost:8080/"
        },
        "id": "RCN_Dw4PcG9D",
        "outputId": "846412af-1e46-4466-9c7a-0dc14d0389cb"
      },
      "source": [
        "print(\"X_train\", X_train.shape)\n",
        "print(\"y_train\", y_train.shape)\n",
        "print(\"X_test\", X_test.shape)\n",
        "print(\"y_test\", y_test.shape)"
      ],
      "execution_count": 63,
      "outputs": [
        {
          "output_type": "stream",
          "text": [
            "X_train (70000, 9)\n",
            "y_train (70000,)\n",
            "X_test (30000, 9)\n",
            "y_test (30000,)\n"
          ],
          "name": "stdout"
        }
      ]
    },
    {
      "cell_type": "code",
      "metadata": {
        "id": "QX_z80nacHAC",
        "outputId": "618f8632-d326-4c26-9534-924fcbc1d19a",
        "colab": {
          "base_uri": "https://localhost:8080/",
          "height": 336
        }
      },
      "source": [
        "sns.countplot(y_train)"
      ],
      "execution_count": 64,
      "outputs": [
        {
          "output_type": "stream",
          "text": [
            "/usr/local/lib/python3.7/dist-packages/seaborn/_decorators.py:43: FutureWarning: Pass the following variable as a keyword arg: x. From version 0.12, the only valid positional argument will be `data`, and passing other arguments without an explicit keyword will result in an error or misinterpretation.\n",
            "  FutureWarning\n"
          ],
          "name": "stderr"
        },
        {
          "output_type": "execute_result",
          "data": {
            "text/plain": [
              "<matplotlib.axes._subplots.AxesSubplot at 0x7fea0cb77290>"
            ]
          },
          "metadata": {
            "tags": []
          },
          "execution_count": 64
        },
        {
          "output_type": "display_data",
          "data": {
            "image/png": "[encoded data removed]",
            "text/plain": [
              "<Figure size 432x288 with 1 Axes>"
            ]
          },
          "metadata": {
            "tags": [],
            "needs_background": "light"
          }
        }
      ]
    },
    {
      "cell_type": "code",
      "metadata": {
        "colab": {
          "base_uri": "https://localhost:8080/",
          "height": 336
        },
        "id": "2_AgQKaDbqgD",
        "outputId": "9c816f70-b119-4b77-b506-b216c934646e"
      },
      "source": [
        "sns.countplot(y_test)"
      ],
      "execution_count": 65,
      "outputs": [
        {
          "output_type": "stream",
          "text": [
            "/usr/local/lib/python3.7/dist-packages/seaborn/_decorators.py:43: FutureWarning: Pass the following variable as a keyword arg: x. From version 0.12, the only valid positional argument will be `data`, and passing other arguments without an explicit keyword will result in an error or misinterpretation.\n",
            "  FutureWarning\n"
          ],
          "name": "stderr"
        },
        {
          "output_type": "execute_result",
          "data": {
            "text/plain": [
              "<matplotlib.axes._subplots.AxesSubplot at 0x7fea38d52910>"
            ]
          },
          "metadata": {
            "tags": []
          },
          "execution_count": 65
        },
        {
          "output_type": "display_data",
          "data": {
            "image/png": "[encoded data removed]",
            "text/plain": [
              "<Figure size 432x288 with 1 Axes>"
            ]
          },
          "metadata": {
            "tags": [],
            "needs_background": "light"
          }
        }
      ]
    },
    {
      "cell_type": "markdown",
      "metadata": {
        "id": "5upbsh_Mc9vk"
      },
      "source": [
        "## Modelo 1"
      ]
    },
    {
      "cell_type": "code",
      "metadata": {
        "id": "4imFwCXTcYFL"
      },
      "source": [
        "import tensorflow as tf\n",
        "from tensorflow.keras.models import Sequential\n",
        "from tensorflow.keras.layers import Embedding, LSTM, Dense, Dropout, Bidirectional\n",
        "from tensorflow.keras.regularizers import l1"
      ],
      "execution_count": 66,
      "outputs": []
    },
    {
      "cell_type": "code",
      "metadata": {
        "colab": {
          "base_uri": "https://localhost:8080/"
        },
        "id": "NScP8zlMcYAh",
        "outputId": "41983a32-31f4-40c2-d459-37cb08650028"
      },
      "source": [
        "# Crea una red con layers Embedding, LSTM, Dense\n",
        "model = Sequential()\n",
        "model.add(Embedding(input_length=max_len, input_dim=max_words, output_dim=64, trainable=True))\n",
        "model.add(Bidirectional(LSTM(units=64)))\n",
        "model.add(Dropout(0.5))\n",
        "model.add(Dense(units=16, activation='relu'))\n",
        "model.add(Dropout(0.5))\n",
        "model.add(Dense(units=1, activation='sigmoid'))\n",
        "\n",
        "model.summary()"
      ],
      "execution_count": 67,
      "outputs": [
        {
          "output_type": "stream",
          "text": [
            "Model: \"sequential\"\n",
            "_________________________________________________________________\n",
            "Layer (type)                 Output Shape              Param #   \n",
            "=================================================================\n",
            "embedding (Embedding)        (None, 9, 64)             64000     \n",
            "_________________________________________________________________\n",
            "bidirectional (Bidirectional (None, 128)               66048     \n",
            "_________________________________________________________________\n",
            "dropout (Dropout)            (None, 128)               0         \n",
            "_________________________________________________________________\n",
            "dense (Dense)                (None, 16)                2064      \n",
            "_________________________________________________________________\n",
            "dropout_1 (Dropout)          (None, 16)                0         \n",
            "_________________________________________________________________\n",
            "dense_1 (Dense)              (None, 1)                 17        \n",
            "=================================================================\n",
            "Total params: 132,129\n",
            "Trainable params: 132,129\n",
            "Non-trainable params: 0\n",
            "_________________________________________________________________\n"
          ],
          "name": "stdout"
        }
      ]
    },
    {
      "cell_type": "code",
      "metadata": {
        "id": "4lXHqNGly3nD",
        "outputId": "7d13cf59-b32e-4877-b332-e23866f9e8c6",
        "colab": {
          "base_uri": "https://localhost:8080/",
          "height": 386
        }
      },
      "source": [
        "# Plot model\n",
        "from tensorflow.keras.utils import plot_model\n",
        "plot_model(model, show_shapes=True, show_layer_names=True,\n",
        "                          rankdir='TB', expand_nested=True, dpi=48)"
      ],
      "execution_count": 68,
      "outputs": [
        {
          "output_type": "execute_result",
          "data": {
            "image/png": "[encoded data removed]",
            "text/plain": [
              "<IPython.core.display.Image object>"
            ]
          },
          "metadata": {
            "tags": []
          },
          "execution_count": 68
        }
      ]
    },
    {
      "cell_type": "code",
      "metadata": {
        "id": "-bW_Ie0ScX82"
      },
      "source": [
        "# Compile\n",
        "model.compile(loss=tf.keras.losses.BinaryCrossentropy(from_logits=False), optimizer='adam', \n",
        "              metrics=[tf.metrics.BinaryAccuracy(), 'accuracy'])"
      ],
      "execution_count": 69,
      "outputs": []
    },
    {
      "cell_type": "code",
      "metadata": {
        "colab": {
          "base_uri": "https://localhost:8080/"
        },
        "id": "55mXbcKncX5m",
        "outputId": "638bb91c-ee81-4067-9d8d-2eb02b90f481"
      },
      "source": [
        "#%%timeit\n",
        "\n",
        "# Train it\n",
        "history_1 = model.fit(X_train, y_train, epochs=20, batch_size=16, validation_split=0.2)"
      ],
      "execution_count": 73,
      "outputs": [
        {
          "output_type": "stream",
          "text": [
            "Epoch 1/20\n",
            "3500/3500 [==============================] - 31s 9ms/step - loss: 0.1039 - binary_accuracy: 0.9627 - accuracy: 0.9627 - val_loss: 2.2084 - val_binary_accuracy: 0.6819 - val_accuracy: 0.6819\n",
            "Epoch 2/20\n",
            "3500/3500 [==============================] - 31s 9ms/step - loss: 0.1004 - binary_accuracy: 0.9641 - accuracy: 0.9641 - val_loss: 2.2565 - val_binary_accuracy: 0.6795 - val_accuracy: 0.6795\n",
            "Epoch 3/20\n",
            "3500/3500 [==============================] - 31s 9ms/step - loss: 0.0969 - binary_accuracy: 0.9665 - accuracy: 0.9665 - val_loss: 2.1655 - val_binary_accuracy: 0.6856 - val_accuracy: 0.6856\n",
            "Epoch 4/20\n",
            "3500/3500 [==============================] - 31s 9ms/step - loss: 0.0926 - binary_accuracy: 0.9672 - accuracy: 0.9672 - val_loss: 2.2593 - val_binary_accuracy: 0.6815 - val_accuracy: 0.6815\n",
            "Epoch 5/20\n",
            "3500/3500 [==============================] - 32s 9ms/step - loss: 0.0909 - binary_accuracy: 0.9688 - accuracy: 0.9688 - val_loss: 2.2132 - val_binary_accuracy: 0.6798 - val_accuracy: 0.6798\n",
            "Epoch 6/20\n",
            "3500/3500 [==============================] - 32s 9ms/step - loss: 0.0862 - binary_accuracy: 0.9706 - accuracy: 0.9706 - val_loss: 2.3332 - val_binary_accuracy: 0.6834 - val_accuracy: 0.6834\n",
            "Epoch 7/20\n",
            "3500/3500 [==============================] - 32s 9ms/step - loss: 0.0817 - binary_accuracy: 0.9718 - accuracy: 0.9718 - val_loss: 2.2103 - val_binary_accuracy: 0.6775 - val_accuracy: 0.6775\n",
            "Epoch 8/20\n",
            "3500/3500 [==============================] - 32s 9ms/step - loss: 0.0813 - binary_accuracy: 0.9729 - accuracy: 0.9729 - val_loss: 2.3038 - val_binary_accuracy: 0.6804 - val_accuracy: 0.6804\n",
            "Epoch 9/20\n",
            "3500/3500 [==============================] - 32s 9ms/step - loss: 0.0793 - binary_accuracy: 0.9736 - accuracy: 0.9736 - val_loss: 2.3595 - val_binary_accuracy: 0.6824 - val_accuracy: 0.6824\n",
            "Epoch 10/20\n",
            "3500/3500 [==============================] - 31s 9ms/step - loss: 0.0788 - binary_accuracy: 0.9734 - accuracy: 0.9734 - val_loss: 2.3039 - val_binary_accuracy: 0.6774 - val_accuracy: 0.6774\n",
            "Epoch 11/20\n",
            "3500/3500 [==============================] - 31s 9ms/step - loss: 0.0768 - binary_accuracy: 0.9745 - accuracy: 0.9745 - val_loss: 2.3432 - val_binary_accuracy: 0.6781 - val_accuracy: 0.6781\n",
            "Epoch 12/20\n",
            "3500/3500 [==============================] - 31s 9ms/step - loss: 0.0735 - binary_accuracy: 0.9758 - accuracy: 0.9758 - val_loss: 2.4581 - val_binary_accuracy: 0.6833 - val_accuracy: 0.6833\n",
            "Epoch 13/20\n",
            "3500/3500 [==============================] - 31s 9ms/step - loss: 0.0693 - binary_accuracy: 0.9772 - accuracy: 0.9772 - val_loss: 2.3067 - val_binary_accuracy: 0.6827 - val_accuracy: 0.6827\n",
            "Epoch 14/20\n",
            "3500/3500 [==============================] - 31s 9ms/step - loss: 0.0712 - binary_accuracy: 0.9778 - accuracy: 0.9778 - val_loss: 2.5094 - val_binary_accuracy: 0.6803 - val_accuracy: 0.6803\n",
            "Epoch 15/20\n",
            "3500/3500 [==============================] - 31s 9ms/step - loss: 0.0693 - binary_accuracy: 0.9786 - accuracy: 0.9786 - val_loss: 2.2326 - val_binary_accuracy: 0.6795 - val_accuracy: 0.6795\n",
            "Epoch 16/20\n",
            "3500/3500 [==============================] - 31s 9ms/step - loss: 0.0681 - binary_accuracy: 0.9784 - accuracy: 0.9784 - val_loss: 2.3612 - val_binary_accuracy: 0.6772 - val_accuracy: 0.6772\n",
            "Epoch 17/20\n",
            "3500/3500 [==============================] - 31s 9ms/step - loss: 0.0648 - binary_accuracy: 0.9795 - accuracy: 0.9795 - val_loss: 2.2249 - val_binary_accuracy: 0.6781 - val_accuracy: 0.6781\n",
            "Epoch 18/20\n",
            "3500/3500 [==============================] - 30s 9ms/step - loss: 0.0612 - binary_accuracy: 0.9805 - accuracy: 0.9805 - val_loss: 2.6365 - val_binary_accuracy: 0.6824 - val_accuracy: 0.6824\n",
            "Epoch 19/20\n",
            "3500/3500 [==============================] - 31s 9ms/step - loss: 0.0665 - binary_accuracy: 0.9795 - accuracy: 0.9795 - val_loss: 2.5926 - val_binary_accuracy: 0.6814 - val_accuracy: 0.6814\n",
            "Epoch 20/20\n",
            "3500/3500 [==============================] - 31s 9ms/step - loss: 0.0635 - binary_accuracy: 0.9795 - accuracy: 0.9795 - val_loss: 2.7145 - val_binary_accuracy: 0.6850 - val_accuracy: 0.6850\n"
          ],
          "name": "stdout"
        }
      ]
    },
    {
      "cell_type": "code",
      "metadata": {
        "colab": {
          "base_uri": "https://localhost:8080/",
          "height": 295
        },
        "id": "2Wd9VTbUdY99",
        "outputId": "8237c44f-f8f0-42fd-9671-661cb86006c8"
      },
      "source": [
        "# Plot loss\n",
        "plt.figure(figsize=(20, 4))\n",
        "\n",
        "plt.subplot(1, 2, 1)\n",
        "plt.title('Loss')\n",
        "plt.plot(history_1.history['loss'], label='Training', linewidth=2)\n",
        "plt.plot(history_1.history['val_loss'], label='Validation', linewidth=2)\n",
        "plt.legend()\n",
        "plt.xlabel('Epoch')\n",
        "plt.ylabel('Loss')\n",
        "plt.grid(True)\n",
        "\n",
        "plt.subplot(1, 2, 2)\n",
        "plt.title('Accuracy')\n",
        "plt.plot(history_1.history['accuracy'], label='Training', linewidth=2)\n",
        "plt.plot(history_1.history['val_accuracy'], label='Validation', linewidth=2)\n",
        "plt.legend()\n",
        "plt.xlabel('Epoch')\n",
        "plt.ylabel('Accuracy')\n",
        "plt.grid(True)\n",
        "\n",
        "plt.show()"
      ],
      "execution_count": 76,
      "outputs": [
        {
          "output_type": "display_data",
          "data": {
            "image/png": "[encoded data removed]",
            "text/plain": [
              "<Figure size 1440x288 with 2 Axes>"
            ]
          },
          "metadata": {
            "tags": [],
            "needs_background": "light"
          }
        }
      ]
    },
    {
      "cell_type": "code",
      "metadata": {
        "id": "8_r7jkWV3h-K"
      },
      "source": [
        ""
      ],
      "execution_count": null,
      "outputs": []
    },
    {
      "cell_type": "code",
      "metadata": {
        "id": "13rSV8ttn1Xa",
        "colab": {
          "base_uri": "https://localhost:8080/"
        },
        "outputId": "dbf31d11-f719-45f7-bd3a-fb804d6f8ea2"
      },
      "source": [
        "# Evaluate on test set\n",
        "model.evaluate(x=X_test, y=y_test)"
      ],
      "execution_count": 77,
      "outputs": [
        {
          "output_type": "stream",
          "text": [
            "938/938 [==============================] - 4s 4ms/step - loss: 2.6647 - binary_accuracy: 0.6903 - accuracy: 0.6903\n"
          ],
          "name": "stdout"
        },
        {
          "output_type": "execute_result",
          "data": {
            "text/plain": [
              "[2.6646647453308105, 0.6903333067893982, 0.6903333067893982]"
            ]
          },
          "metadata": {
            "tags": []
          },
          "execution_count": 77
        }
      ]
    },
    {
      "cell_type": "markdown",
      "metadata": {
        "id": "q5yF-Q0_kBGl"
      },
      "source": [
        "# Modelo 2\n"
      ]
    },
    {
      "cell_type": "code",
      "metadata": {
        "colab": {
          "base_uri": "https://localhost:8080/"
        },
        "id": "qIBZ-QlGkCp_",
        "outputId": "49762060-8773-4dc5-d934-dacd94bd8a75"
      },
      "source": [
        "# Crea una red con layers Embedding, LSTM, Dense\n",
        "model = Sequential()\n",
        "model.add(Embedding(input_length=max_len, input_dim=max_words, output_dim=64, trainable=True))\n",
        "model.add(LSTM(units=64))\n",
        "model.add(Dropout(0.5))\n",
        "model.add(Dense(units=32, activation='relu'))\n",
        "model.add(Dropout(0.5))\n",
        "model.add(Dense(units=16, activation='relu'))\n",
        "model.add(Dropout(0.5))\n",
        "model.add(Dense(units=1, activation='sigmoid'))\n",
        "\n",
        "model.summary()"
      ],
      "execution_count": null,
      "outputs": [
        {
          "output_type": "stream",
          "text": [
            "Model: \"sequential_3\"\n",
            "_________________________________________________________________\n",
            "Layer (type)                 Output Shape              Param #   \n",
            "=================================================================\n",
            "embedding_3 (Embedding)      (None, 21, 64)            64000     \n",
            "_________________________________________________________________\n",
            "lstm_3 (LSTM)                (None, 64)                33024     \n",
            "_________________________________________________________________\n",
            "dropout_6 (Dropout)          (None, 64)                0         \n",
            "_________________________________________________________________\n",
            "dense_6 (Dense)              (None, 32)                2080      \n",
            "_________________________________________________________________\n",
            "dropout_7 (Dropout)          (None, 32)                0         \n",
            "_________________________________________________________________\n",
            "dense_7 (Dense)              (None, 16)                528       \n",
            "_________________________________________________________________\n",
            "dropout_8 (Dropout)          (None, 16)                0         \n",
            "_________________________________________________________________\n",
            "dense_8 (Dense)              (None, 1)                 17        \n",
            "=================================================================\n",
            "Total params: 99,649\n",
            "Trainable params: 99,649\n",
            "Non-trainable params: 0\n",
            "_________________________________________________________________\n"
          ],
          "name": "stdout"
        }
      ]
    },
    {
      "cell_type": "code",
      "metadata": {
        "id": "kMHv25WWkJO9"
      },
      "source": [
        "# Compile\n",
        "model.compile(loss=tf.keras.losses.BinaryCrossentropy(from_logits=True), optimizer='adam', metrics=[tf.metrics.BinaryAccuracy(), 'accuracy'])"
      ],
      "execution_count": null,
      "outputs": []
    },
    {
      "cell_type": "code",
      "metadata": {
        "colab": {
          "base_uri": "https://localhost:8080/"
        },
        "id": "rSJakrMMkJKs",
        "outputId": "cc93f7b5-1db1-4dfe-81c9-8cc5b129be14"
      },
      "source": [
        "history_1 = model.fit(X_train, y_train, epochs=20, batch_size=16, validation_split=0.2)"
      ],
      "execution_count": null,
      "outputs": [
        {
          "output_type": "stream",
          "text": [
            "Epoch 1/20\n",
            "3500/3500 [==============================] - 45s 12ms/step - loss: 0.6164 - binary_accuracy: 0.6450 - accuracy: 0.6450 - val_loss: 0.5176 - val_binary_accuracy: 0.7418 - val_accuracy: 0.7418\n",
            "Epoch 2/20\n",
            "3500/3500 [==============================] - 43s 12ms/step - loss: 0.5330 - binary_accuracy: 0.7445 - accuracy: 0.7445 - val_loss: 0.5156 - val_binary_accuracy: 0.7434 - val_accuracy: 0.7434\n",
            "Epoch 3/20\n",
            "3500/3500 [==============================] - 43s 12ms/step - loss: 0.5188 - binary_accuracy: 0.7482 - accuracy: 0.7482 - val_loss: 0.5139 - val_binary_accuracy: 0.7454 - val_accuracy: 0.7454\n",
            "Epoch 4/20\n",
            "3500/3500 [==============================] - 43s 12ms/step - loss: 0.5104 - binary_accuracy: 0.7555 - accuracy: 0.7555 - val_loss: 0.5183 - val_binary_accuracy: 0.7426 - val_accuracy: 0.7426\n",
            "Epoch 5/20\n",
            "3500/3500 [==============================] - 44s 12ms/step - loss: 0.5062 - binary_accuracy: 0.7604 - accuracy: 0.7604 - val_loss: 0.5160 - val_binary_accuracy: 0.7430 - val_accuracy: 0.7430\n",
            "Epoch 6/20\n",
            "3500/3500 [==============================] - 44s 12ms/step - loss: 0.4941 - binary_accuracy: 0.7638 - accuracy: 0.7638 - val_loss: 0.5223 - val_binary_accuracy: 0.7414 - val_accuracy: 0.7414\n",
            "Epoch 7/20\n",
            "3500/3500 [==============================] - 44s 13ms/step - loss: 0.4873 - binary_accuracy: 0.7675 - accuracy: 0.7675 - val_loss: 0.5229 - val_binary_accuracy: 0.7441 - val_accuracy: 0.7441\n",
            "Epoch 8/20\n",
            "3500/3500 [==============================] - 43s 12ms/step - loss: 0.4797 - binary_accuracy: 0.7721 - accuracy: 0.7721 - val_loss: 0.5242 - val_binary_accuracy: 0.7406 - val_accuracy: 0.7406\n",
            "Epoch 9/20\n",
            "3500/3500 [==============================] - 43s 12ms/step - loss: 0.4738 - binary_accuracy: 0.7762 - accuracy: 0.7762 - val_loss: 0.5235 - val_binary_accuracy: 0.7377 - val_accuracy: 0.7377\n",
            "Epoch 10/20\n",
            "3500/3500 [==============================] - 44s 12ms/step - loss: 0.4656 - binary_accuracy: 0.7801 - accuracy: 0.7801 - val_loss: 0.5348 - val_binary_accuracy: 0.7375 - val_accuracy: 0.7375\n",
            "Epoch 11/20\n",
            "3500/3500 [==============================] - 44s 12ms/step - loss: 0.4568 - binary_accuracy: 0.7859 - accuracy: 0.7859 - val_loss: 0.5383 - val_binary_accuracy: 0.7351 - val_accuracy: 0.7351\n",
            "Epoch 12/20\n",
            "3500/3500 [==============================] - 43s 12ms/step - loss: 0.4505 - binary_accuracy: 0.7896 - accuracy: 0.7896 - val_loss: 0.5437 - val_binary_accuracy: 0.7339 - val_accuracy: 0.7339\n",
            "Epoch 13/20\n",
            "3500/3500 [==============================] - 43s 12ms/step - loss: 0.4412 - binary_accuracy: 0.7916 - accuracy: 0.7916 - val_loss: 0.5666 - val_binary_accuracy: 0.7308 - val_accuracy: 0.7308\n",
            "Epoch 14/20\n",
            "3500/3500 [==============================] - 44s 13ms/step - loss: 0.4315 - binary_accuracy: 0.7989 - accuracy: 0.7989 - val_loss: 0.5911 - val_binary_accuracy: 0.7254 - val_accuracy: 0.7254\n",
            "Epoch 15/20\n",
            "3500/3500 [==============================] - 44s 12ms/step - loss: 0.4196 - binary_accuracy: 0.8057 - accuracy: 0.8057 - val_loss: 0.6255 - val_binary_accuracy: 0.7241 - val_accuracy: 0.7241\n",
            "Epoch 16/20\n",
            "3500/3500 [==============================] - 44s 12ms/step - loss: 0.4126 - binary_accuracy: 0.8090 - accuracy: 0.8090 - val_loss: 0.6202 - val_binary_accuracy: 0.7246 - val_accuracy: 0.7246\n",
            "Epoch 17/20\n",
            "3500/3500 [==============================] - 44s 13ms/step - loss: 0.4046 - binary_accuracy: 0.8114 - accuracy: 0.8114 - val_loss: 0.6561 - val_binary_accuracy: 0.7231 - val_accuracy: 0.7231\n",
            "Epoch 18/20\n",
            "3500/3500 [==============================] - 44s 12ms/step - loss: 0.3922 - binary_accuracy: 0.8157 - accuracy: 0.8157 - val_loss: 0.6746 - val_binary_accuracy: 0.7171 - val_accuracy: 0.7171\n",
            "Epoch 19/20\n",
            "3500/3500 [==============================] - 45s 13ms/step - loss: 0.3796 - binary_accuracy: 0.8243 - accuracy: 0.8243 - val_loss: 0.6782 - val_binary_accuracy: 0.7163 - val_accuracy: 0.7163\n",
            "Epoch 20/20\n",
            "3500/3500 [==============================] - 44s 13ms/step - loss: 0.3740 - binary_accuracy: 0.8238 - accuracy: 0.8238 - val_loss: 0.6843 - val_binary_accuracy: 0.7194 - val_accuracy: 0.7194\n"
          ],
          "name": "stdout"
        }
      ]
    },
    {
      "cell_type": "code",
      "metadata": {
        "id": "MYtTflNWkJG5"
      },
      "source": [
        "model.compile(loss=tf.keras.losses.BinaryCrossentropy(from_logits=True), optimizer='adam', metrics=[tf.metrics.BinaryAccuracy(), 'accuracy'])"
      ],
      "execution_count": null,
      "outputs": []
    },
    {
      "cell_type": "code",
      "metadata": {
        "colab": {
          "base_uri": "https://localhost:8080/",
          "height": 287
        },
        "id": "SOaBv7_vkI9-",
        "outputId": "07bb2cd1-6321-43ee-ff5a-f075b935b73e"
      },
      "source": [
        "# Plot loss\n",
        "plt.figure(figsize=(20, 4))\n",
        "\n",
        "plt.subplot(1, 2, 1)\n",
        "plt.title('Loss')\n",
        "plt.plot(history_1.history['loss'], label='Training', linewidth=2)\n",
        "plt.plot(history_1.history['val_loss'], label='Validation', linewidth=2)\n",
        "plt.legend()\n",
        "plt.xlabel('Epoch')\n",
        "plt.ylabel('Loss')\n",
        "plt.grid(True)\n",
        "\n",
        "plt.subplot(1, 2, 2)\n",
        "plt.title('Accuracy')\n",
        "plt.plot(history_1.history['accuracy'], label='Training', linewidth=2)\n",
        "plt.plot(history_1.history['val_accuracy'], label='Validation', linewidth=2)\n",
        "plt.legend()\n",
        "plt.xlabel('Epoch')\n",
        "plt.ylabel('Accuracy')\n",
        "plt.grid(True)\n",
        "\n",
        "plt.show()"
      ],
      "execution_count": null,
      "outputs": [
        {
          "output_type": "display_data",
          "data": {
            "image/png": "[encoded data removed]",
            "text/plain": [
              "<Figure size 1440x288 with 2 Axes>"
            ]
          },
          "metadata": {
            "tags": [],
            "needs_background": "light"
          }
        }
      ]
    },
    {
      "cell_type": "code",
      "metadata": {
        "colab": {
          "base_uri": "https://localhost:8080/"
        },
        "id": "uwQ9wsqFkVHg",
        "outputId": "25d43cba-389c-4fad-ff61-c249669bf767"
      },
      "source": [
        "model.evaluate(x=X_test, y=y_test)"
      ],
      "execution_count": null,
      "outputs": [
        {
          "output_type": "stream",
          "text": [
            "938/938 [==============================] - 5s 4ms/step - loss: 0.6918 - binary_accuracy: 0.7219 - accuracy: 0.7219\n"
          ],
          "name": "stdout"
        },
        {
          "output_type": "execute_result",
          "data": {
            "text/plain": [
              "[0.697664201259613, 0.7202000021934509, 0.7202000021934509]"
            ]
          },
          "metadata": {
            "tags": []
          },
          "execution_count": 47
        }
      ]
    },
    {
      "cell_type": "markdown",
      "metadata": {
        "id": "uwoZzBHjARc2"
      },
      "source": [
        ""
      ]
    },
    {
      "cell_type": "code",
      "metadata": {
        "id": "fpT6Hsqqk-dk"
      },
      "source": [
        ""
      ],
      "execution_count": null,
      "outputs": []
    }
  ]
}