{
  "nbformat": 4,
  "nbformat_minor": 0,
  "metadata": {
    "colab": {
      "name": "modelado_ejemplo_2.ipynb",
      "provenance": [],
      "collapsed_sections": [],
      "include_colab_link": true
    },
    "kernelspec": {
      "display_name": "itam_intro_to_ds",
      "language": "python",
      "name": "itam_intro_to_ds"
    },
    "language_info": {
      "codemirror_mode": {
        "name": "ipython",
        "version": 3
      },
      "file_extension": ".py",
      "mimetype": "text/x-python",
      "name": "python",
      "nbconvert_exporter": "python",
      "pygments_lexer": "ipython3",
      "version": "3.7.4"
    }
  },
  "cells": [
    {
      "cell_type": "markdown",
      "metadata": {
        "id": "view-in-github",
        "colab_type": "text"
      },
      "source": [
        "<a href=\"https://colab.research.google.com/github/ElenaVillano/sentiment_analysis_tweets/blob/main/notebooks/limpieza_bien.ipynb\" target=\"_parent\"><img src=\"https://colab.research.google.com/assets/colab-badge.svg\" alt=\"Open In Colab\"/></a>"
      ]
    },
    {
      "cell_type": "markdown",
      "metadata": {
        "id": "fzAL3d4hF4MZ"
      },
      "source": [
        "# NOTEBOOK DE LIMPIEZA"
      ]
    },
    {
      "cell_type": "code",
      "metadata": {
        "id": "TrmrcgOf0Wd_"
      },
      "source": [
        "!pip install \"git+https://github.com/ElenaVillano/sentiment_analysis_tweets.git#egg=nlptweet&subdirectory=src\" --quiet"
      ],
      "execution_count": 48,
      "outputs": []
    },
    {
      "cell_type": "code",
      "metadata": {
        "id": "pg5YRy3E1jMT"
      },
      "source": [
        "#!pip uninstall nlptweet"
      ],
      "execution_count": null,
      "outputs": []
    },
    {
      "cell_type": "code",
      "metadata": {
        "colab": {
          "base_uri": "https://localhost:8080/"
        },
        "id": "mpmrJ_G_pgnP",
        "outputId": "fd4de62f-d070-4e39-dc44-6c5d02f04b22"
      },
      "source": [
        "import pandas as pd\n",
        "import numpy as np\n",
        "import matplotlib.pyplot as plt\n",
        "import datetime\n",
        "import nltk\n",
        "#import re\n",
        "import timeit\n",
        "import string\n",
        "# Nuestro paquete\n",
        "import nlp\n",
        "\n",
        "\n",
        "#call the nltk downloader\n",
        "nltk.download('punkt')\n",
        "\n",
        "from dateutil import parser\n",
        "\n",
        "#from sklearn.model_selection import train_test_split\n",
        "\n",
        "# Carga un set de stopwords predefinidas\n",
        "from nltk.corpus import stopwords\n",
        "\n",
        "from nltk.tokenize import sent_tokenize, word_tokenize\n",
        "from nltk.stem import PorterStemmer\n",
        "from nltk.stem import LancasterStemmer"
      ],
      "execution_count": 49,
      "outputs": [
        {
          "output_type": "stream",
          "text": [
            "[nltk_data] Downloading package punkt to /root/nltk_data...\n",
            "[nltk_data]   Package punkt is already up-to-date!\n"
          ],
          "name": "stdout"
        }
      ]
    },
    {
      "cell_type": "code",
      "metadata": {
        "id": "UP5nN_Ns0WeJ"
      },
      "source": [
        "# Nombramiento de columnas\n",
        "col_names = ['target', # Polaridad del twet 0=negativo, 2=neutral, 4=positivo\n",
        "             'ids',    # ID tweet\n",
        "             'date',   # Fecha y hora del tweet\n",
        "             'flag',   # QUERY\n",
        "             'user',   # Usuario del tweet\n",
        "             'text']   # Texto del tweety"
      ],
      "execution_count": 50,
      "outputs": []
    },
    {
      "cell_type": "markdown",
      "metadata": {
        "id": "EbcoouZtnEUf"
      },
      "source": [
        "# Carga y limpieza de datos"
      ]
    },
    {
      "cell_type": "code",
      "metadata": {
        "colab": {
          "resources": {
            "http://localhost:8080/nbextensions/google.colab/files.js": {
              "data": "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",
              "ok": true,
              "headers": [
                [
                  "content-type",
                  "application/javascript"
                ]
              ],
              "status": 200,
              "status_text": ""
            }
          },
          "base_uri": "https://localhost:8080/",
          "height": 106
        },
        "id": "j6uJdbk2nKCX",
        "outputId": "cbcd1d3f-aaec-4886-ab4f-f599445ff1ac"
      },
      "source": [
        "# Requiered to select a file to be imported into colab\n",
        "# Not useful if running locally\n",
        "from google.colab import files\n",
        "uploaded = files.upload()"
      ],
      "execution_count": 51,
      "outputs": [
        {
          "output_type": "display_data",
          "data": {
            "text/html": [
              "\n",
              "     <input type=\"file\" id=\"files-50797fb3-0042-49b8-845d-0a6ab8ee92f3\" name=\"files[]\" multiple disabled\n",
              "        style=\"border:none\" />\n",
              "     <output id=\"result-50797fb3-0042-49b8-845d-0a6ab8ee92f3\">\n",
              "      Upload widget is only available when the cell has been executed in the\n",
              "      current browser session. Please rerun this cell to enable.\n",
              "      </output>\n",
              "      <script src=\"/nbextensions/google.colab/files.js\"></script> "
            ],
            "text/plain": [
              "<IPython.core.display.HTML object>"
            ]
          },
          "metadata": {
            "tags": []
          }
        },
        {
          "output_type": "stream",
          "text": [
            "Saving smaller_sample_200000.csv to smaller_sample_200000 (1).csv\n",
            "Saving testdata_manual_2009_06_14.csv to testdata_manual_2009_06_14 (1).csv\n"
          ],
          "name": "stdout"
        }
      ]
    },
    {
      "cell_type": "code",
      "metadata": {
        "id": "Z5P449bk0WeL"
      },
      "source": [
        "training =  pd.read_csv('smaller_sample_200000.csv',\n",
        "                 encoding='latin-1')"
      ],
      "execution_count": 52,
      "outputs": []
    },
    {
      "cell_type": "code",
      "metadata": {
        "id": "szNOHjbB0WeL"
      },
      "source": [
        "test = pd.read_csv('testdata_manual_2009_06_14.csv', names=col_names)"
      ],
      "execution_count": 53,
      "outputs": []
    },
    {
      "cell_type": "code",
      "metadata": {
        "colab": {
          "base_uri": "https://localhost:8080/"
        },
        "id": "zs77X44P0WeM",
        "outputId": "75d048c3-21ff-4773-ff34-f31f0af475ae"
      },
      "source": [
        "print(training.shape)\n",
        "print(test.shape)"
      ],
      "execution_count": 54,
      "outputs": [
        {
          "output_type": "stream",
          "text": [
            "(200000, 6)\n",
            "(498, 6)\n"
          ],
          "name": "stdout"
        }
      ]
    },
    {
      "cell_type": "code",
      "metadata": {
        "colab": {
          "base_uri": "https://localhost:8080/",
          "height": 297
        },
        "id": "UGANa9pX0WeO",
        "outputId": "ed498c00-5329-4021-d7d5-883688c8c2fc"
      },
      "source": [
        "# Ejemplo\n",
        "training.loc[[4,8,27,41,44,35,48,155]]"
      ],
      "execution_count": 55,
      "outputs": [
        {
          "output_type": "execute_result",
          "data": {
            "text/html": [
              "<div>\n",
              "<style scoped>\n",
              "    .dataframe tbody tr th:only-of-type {\n",
              "        vertical-align: middle;\n",
              "    }\n",
              "\n",
              "    .dataframe tbody tr th {\n",
              "        vertical-align: top;\n",
              "    }\n",
              "\n",
              "    .dataframe thead th {\n",
              "        text-align: right;\n",
              "    }\n",
              "</style>\n",
              "<table border=\"1\" class=\"dataframe\">\n",
              "  <thead>\n",
              "    <tr style=\"text-align: right;\">\n",
              "      <th></th>\n",
              "      <th>target</th>\n",
              "      <th>ids</th>\n",
              "      <th>date</th>\n",
              "      <th>flag</th>\n",
              "      <th>user</th>\n",
              "      <th>text</th>\n",
              "    </tr>\n",
              "  </thead>\n",
              "  <tbody>\n",
              "    <tr>\n",
              "      <th>4</th>\n",
              "      <td>0</td>\n",
              "      <td>2250671573</td>\n",
              "      <td>Sat Jun 20 01:09:32 PDT 2009</td>\n",
              "      <td>NO_QUERY</td>\n",
              "      <td>evilcaz</td>\n",
              "      <td>Far too tired to be at work</td>\n",
              "    </tr>\n",
              "    <tr>\n",
              "      <th>8</th>\n",
              "      <td>0</td>\n",
              "      <td>2233840533</td>\n",
              "      <td>Thu Jun 18 21:59:23 PDT 2009</td>\n",
              "      <td>NO_QUERY</td>\n",
              "      <td>TiffanyNicoleN</td>\n",
              "      <td>I wish today never happened. On top of that, I...</td>\n",
              "    </tr>\n",
              "    <tr>\n",
              "      <th>27</th>\n",
              "      <td>0</td>\n",
              "      <td>2254342354</td>\n",
              "      <td>Sat Jun 20 09:36:05 PDT 2009</td>\n",
              "      <td>NO_QUERY</td>\n",
              "      <td>AJMcCleary</td>\n",
              "      <td>@ReallyShecky - Indeed, come on down. The sick...</td>\n",
              "    </tr>\n",
              "    <tr>\n",
              "      <th>41</th>\n",
              "      <td>4</td>\n",
              "      <td>1794361968</td>\n",
              "      <td>Thu May 14 05:38:02 PDT 2009</td>\n",
              "      <td>NO_QUERY</td>\n",
              "      <td>cherrybomb54</td>\n",
              "      <td>Now I get to make incredibly long Tweets thank...</td>\n",
              "    </tr>\n",
              "    <tr>\n",
              "      <th>44</th>\n",
              "      <td>0</td>\n",
              "      <td>1686244630</td>\n",
              "      <td>Sun May 03 04:31:06 PDT 2009</td>\n",
              "      <td>NO_QUERY</td>\n",
              "      <td>anggieholics</td>\n",
              "      <td>btw whats wrong w/ being single? and if i turn...</td>\n",
              "    </tr>\n",
              "    <tr>\n",
              "      <th>35</th>\n",
              "      <td>4</td>\n",
              "      <td>2064953318</td>\n",
              "      <td>Sun Jun 07 07:33:41 PDT 2009</td>\n",
              "      <td>NO_QUERY</td>\n",
              "      <td>heidirenee92</td>\n",
              "      <td>@allucha It would be a good idea not to mess w...</td>\n",
              "    </tr>\n",
              "    <tr>\n",
              "      <th>48</th>\n",
              "      <td>4</td>\n",
              "      <td>2004632930</td>\n",
              "      <td>Tue Jun 02 08:30:15 PDT 2009</td>\n",
              "      <td>NO_QUERY</td>\n",
              "      <td>Hadari_B</td>\n",
              "      <td>At a birthday party of a friend !</td>\n",
              "    </tr>\n",
              "    <tr>\n",
              "      <th>155</th>\n",
              "      <td>4</td>\n",
              "      <td>1687038778</td>\n",
              "      <td>Sun May 03 07:34:54 PDT 2009</td>\n",
              "      <td>NO_QUERY</td>\n",
              "      <td>lynettebrennan</td>\n",
              "      <td>is relaxing on the couch, Sundays are the best</td>\n",
              "    </tr>\n",
              "  </tbody>\n",
              "</table>\n",
              "</div>"
            ],
            "text/plain": [
              "     target  ...                                               text\n",
              "4         0  ...                       Far too tired to be at work \n",
              "8         0  ...  I wish today never happened. On top of that, I...\n",
              "27        0  ...  @ReallyShecky - Indeed, come on down. The sick...\n",
              "41        4  ...  Now I get to make incredibly long Tweets thank...\n",
              "44        0  ...  btw whats wrong w/ being single? and if i turn...\n",
              "35        4  ...  @allucha It would be a good idea not to mess w...\n",
              "48        4  ...                 At a birthday party of a friend ! \n",
              "155       4  ...    is relaxing on the couch, Sundays are the best \n",
              "\n",
              "[8 rows x 6 columns]"
            ]
          },
          "metadata": {
            "tags": []
          },
          "execution_count": 55
        }
      ]
    },
    {
      "cell_type": "markdown",
      "metadata": {
        "id": "ecwR3-LZsdJK"
      },
      "source": [
        "## Convertimos a minúsculas"
      ]
    },
    {
      "cell_type": "code",
      "metadata": {
        "id": "k0xhfKqV194E"
      },
      "source": [
        "from nlp.preprocessing import convierte_a_minusculas"
      ],
      "execution_count": 56,
      "outputs": []
    },
    {
      "cell_type": "code",
      "metadata": {
        "id": "O6SC37m0sjtW"
      },
      "source": [
        "training = convierte_a_minusculas(training)\n",
        "test = convierte_a_minusculas(test)"
      ],
      "execution_count": 57,
      "outputs": []
    },
    {
      "cell_type": "code",
      "metadata": {
        "colab": {
          "base_uri": "https://localhost:8080/",
          "height": 297
        },
        "id": "8WwQY-vN2e-t",
        "outputId": "9b0565fd-2537-470a-8e86-b96297ecfd45"
      },
      "source": [
        "# Ejemplo\n",
        "training.loc[[4,8,27,41,44,35,48,155]]"
      ],
      "execution_count": 58,
      "outputs": [
        {
          "output_type": "execute_result",
          "data": {
            "text/html": [
              "<div>\n",
              "<style scoped>\n",
              "    .dataframe tbody tr th:only-of-type {\n",
              "        vertical-align: middle;\n",
              "    }\n",
              "\n",
              "    .dataframe tbody tr th {\n",
              "        vertical-align: top;\n",
              "    }\n",
              "\n",
              "    .dataframe thead th {\n",
              "        text-align: right;\n",
              "    }\n",
              "</style>\n",
              "<table border=\"1\" class=\"dataframe\">\n",
              "  <thead>\n",
              "    <tr style=\"text-align: right;\">\n",
              "      <th></th>\n",
              "      <th>target</th>\n",
              "      <th>ids</th>\n",
              "      <th>date</th>\n",
              "      <th>flag</th>\n",
              "      <th>user</th>\n",
              "      <th>text</th>\n",
              "    </tr>\n",
              "  </thead>\n",
              "  <tbody>\n",
              "    <tr>\n",
              "      <th>4</th>\n",
              "      <td>0</td>\n",
              "      <td>2250671573</td>\n",
              "      <td>sat jun 20 01:09:32 pdt 2009</td>\n",
              "      <td>no_query</td>\n",
              "      <td>evilcaz</td>\n",
              "      <td>far too tired to be at work</td>\n",
              "    </tr>\n",
              "    <tr>\n",
              "      <th>8</th>\n",
              "      <td>0</td>\n",
              "      <td>2233840533</td>\n",
              "      <td>thu jun 18 21:59:23 pdt 2009</td>\n",
              "      <td>no_query</td>\n",
              "      <td>tiffanynicolen</td>\n",
              "      <td>i wish today never happened. on top of that, i...</td>\n",
              "    </tr>\n",
              "    <tr>\n",
              "      <th>27</th>\n",
              "      <td>0</td>\n",
              "      <td>2254342354</td>\n",
              "      <td>sat jun 20 09:36:05 pdt 2009</td>\n",
              "      <td>no_query</td>\n",
              "      <td>ajmccleary</td>\n",
              "      <td>@reallyshecky - indeed, come on down. the sick...</td>\n",
              "    </tr>\n",
              "    <tr>\n",
              "      <th>41</th>\n",
              "      <td>4</td>\n",
              "      <td>1794361968</td>\n",
              "      <td>thu may 14 05:38:02 pdt 2009</td>\n",
              "      <td>no_query</td>\n",
              "      <td>cherrybomb54</td>\n",
              "      <td>now i get to make incredibly long tweets thank...</td>\n",
              "    </tr>\n",
              "    <tr>\n",
              "      <th>44</th>\n",
              "      <td>0</td>\n",
              "      <td>1686244630</td>\n",
              "      <td>sun may 03 04:31:06 pdt 2009</td>\n",
              "      <td>no_query</td>\n",
              "      <td>anggieholics</td>\n",
              "      <td>btw whats wrong w/ being single? and if i turn...</td>\n",
              "    </tr>\n",
              "    <tr>\n",
              "      <th>35</th>\n",
              "      <td>4</td>\n",
              "      <td>2064953318</td>\n",
              "      <td>sun jun 07 07:33:41 pdt 2009</td>\n",
              "      <td>no_query</td>\n",
              "      <td>heidirenee92</td>\n",
              "      <td>@allucha it would be a good idea not to mess w...</td>\n",
              "    </tr>\n",
              "    <tr>\n",
              "      <th>48</th>\n",
              "      <td>4</td>\n",
              "      <td>2004632930</td>\n",
              "      <td>tue jun 02 08:30:15 pdt 2009</td>\n",
              "      <td>no_query</td>\n",
              "      <td>hadari_b</td>\n",
              "      <td>at a birthday party of a friend !</td>\n",
              "    </tr>\n",
              "    <tr>\n",
              "      <th>155</th>\n",
              "      <td>4</td>\n",
              "      <td>1687038778</td>\n",
              "      <td>sun may 03 07:34:54 pdt 2009</td>\n",
              "      <td>no_query</td>\n",
              "      <td>lynettebrennan</td>\n",
              "      <td>is relaxing on the couch, sundays are the best</td>\n",
              "    </tr>\n",
              "  </tbody>\n",
              "</table>\n",
              "</div>"
            ],
            "text/plain": [
              "     target  ...                                               text\n",
              "4         0  ...                       far too tired to be at work \n",
              "8         0  ...  i wish today never happened. on top of that, i...\n",
              "27        0  ...  @reallyshecky - indeed, come on down. the sick...\n",
              "41        4  ...  now i get to make incredibly long tweets thank...\n",
              "44        0  ...  btw whats wrong w/ being single? and if i turn...\n",
              "35        4  ...  @allucha it would be a good idea not to mess w...\n",
              "48        4  ...                 at a birthday party of a friend ! \n",
              "155       4  ...    is relaxing on the couch, sundays are the best \n",
              "\n",
              "[8 rows x 6 columns]"
            ]
          },
          "metadata": {
            "tags": []
          },
          "execution_count": 58
        }
      ]
    },
    {
      "cell_type": "markdown",
      "metadata": {
        "id": "7YApblFhtViL"
      },
      "source": [
        "## Reemplazamos las URLs con el texto \"URL\""
      ]
    },
    {
      "cell_type": "code",
      "metadata": {
        "id": "lD01kK662S57"
      },
      "source": [
        "from nlp.preprocessing import reemplazar_urls"
      ],
      "execution_count": 59,
      "outputs": []
    },
    {
      "cell_type": "code",
      "metadata": {
        "id": "NbElSDFSz29m"
      },
      "source": [
        "training['text'] = training['text'].map(lambda s: reemplazar_urls(s))\n",
        "test['text'] = test['text'].map(lambda s: reemplazar_urls(s))"
      ],
      "execution_count": 60,
      "outputs": []
    },
    {
      "cell_type": "code",
      "metadata": {
        "colab": {
          "base_uri": "https://localhost:8080/",
          "height": 297
        },
        "id": "R_8VxdOJ2c2G",
        "outputId": "c2c9c9a0-92dc-4421-aab1-3e8efdbdfdb4"
      },
      "source": [
        "# Ejemplo\n",
        "training.loc[[4,8,27,41,44,35,48,155]]"
      ],
      "execution_count": 61,
      "outputs": [
        {
          "output_type": "execute_result",
          "data": {
            "text/html": [
              "<div>\n",
              "<style scoped>\n",
              "    .dataframe tbody tr th:only-of-type {\n",
              "        vertical-align: middle;\n",
              "    }\n",
              "\n",
              "    .dataframe tbody tr th {\n",
              "        vertical-align: top;\n",
              "    }\n",
              "\n",
              "    .dataframe thead th {\n",
              "        text-align: right;\n",
              "    }\n",
              "</style>\n",
              "<table border=\"1\" class=\"dataframe\">\n",
              "  <thead>\n",
              "    <tr style=\"text-align: right;\">\n",
              "      <th></th>\n",
              "      <th>target</th>\n",
              "      <th>ids</th>\n",
              "      <th>date</th>\n",
              "      <th>flag</th>\n",
              "      <th>user</th>\n",
              "      <th>text</th>\n",
              "    </tr>\n",
              "  </thead>\n",
              "  <tbody>\n",
              "    <tr>\n",
              "      <th>4</th>\n",
              "      <td>0</td>\n",
              "      <td>2250671573</td>\n",
              "      <td>sat jun 20 01:09:32 pdt 2009</td>\n",
              "      <td>no_query</td>\n",
              "      <td>evilcaz</td>\n",
              "      <td>far too tired to be at work</td>\n",
              "    </tr>\n",
              "    <tr>\n",
              "      <th>8</th>\n",
              "      <td>0</td>\n",
              "      <td>2233840533</td>\n",
              "      <td>thu jun 18 21:59:23 pdt 2009</td>\n",
              "      <td>no_query</td>\n",
              "      <td>tiffanynicolen</td>\n",
              "      <td>i wish today never happened. on top of that, i...</td>\n",
              "    </tr>\n",
              "    <tr>\n",
              "      <th>27</th>\n",
              "      <td>0</td>\n",
              "      <td>2254342354</td>\n",
              "      <td>sat jun 20 09:36:05 pdt 2009</td>\n",
              "      <td>no_query</td>\n",
              "      <td>ajmccleary</td>\n",
              "      <td>@reallyshecky - indeed, come on down. the sick...</td>\n",
              "    </tr>\n",
              "    <tr>\n",
              "      <th>41</th>\n",
              "      <td>4</td>\n",
              "      <td>1794361968</td>\n",
              "      <td>thu may 14 05:38:02 pdt 2009</td>\n",
              "      <td>no_query</td>\n",
              "      <td>cherrybomb54</td>\n",
              "      <td>now i get to make incredibly long tweets thank...</td>\n",
              "    </tr>\n",
              "    <tr>\n",
              "      <th>44</th>\n",
              "      <td>0</td>\n",
              "      <td>1686244630</td>\n",
              "      <td>sun may 03 04:31:06 pdt 2009</td>\n",
              "      <td>no_query</td>\n",
              "      <td>anggieholics</td>\n",
              "      <td>btw whats wrong w/ being single? and if i turn...</td>\n",
              "    </tr>\n",
              "    <tr>\n",
              "      <th>35</th>\n",
              "      <td>4</td>\n",
              "      <td>2064953318</td>\n",
              "      <td>sun jun 07 07:33:41 pdt 2009</td>\n",
              "      <td>no_query</td>\n",
              "      <td>heidirenee92</td>\n",
              "      <td>@allucha it would be a good idea not to mess w...</td>\n",
              "    </tr>\n",
              "    <tr>\n",
              "      <th>48</th>\n",
              "      <td>4</td>\n",
              "      <td>2004632930</td>\n",
              "      <td>tue jun 02 08:30:15 pdt 2009</td>\n",
              "      <td>no_query</td>\n",
              "      <td>hadari_b</td>\n",
              "      <td>at a birthday party of a friend !</td>\n",
              "    </tr>\n",
              "    <tr>\n",
              "      <th>155</th>\n",
              "      <td>4</td>\n",
              "      <td>1687038778</td>\n",
              "      <td>sun may 03 07:34:54 pdt 2009</td>\n",
              "      <td>no_query</td>\n",
              "      <td>lynettebrennan</td>\n",
              "      <td>is relaxing on the couch, sundays are the best</td>\n",
              "    </tr>\n",
              "  </tbody>\n",
              "</table>\n",
              "</div>"
            ],
            "text/plain": [
              "     target  ...                                               text\n",
              "4         0  ...                       far too tired to be at work \n",
              "8         0  ...  i wish today never happened. on top of that, i...\n",
              "27        0  ...  @reallyshecky - indeed, come on down. the sick...\n",
              "41        4  ...  now i get to make incredibly long tweets thank...\n",
              "44        0  ...  btw whats wrong w/ being single? and if i turn...\n",
              "35        4  ...  @allucha it would be a good idea not to mess w...\n",
              "48        4  ...                 at a birthday party of a friend ! \n",
              "155       4  ...    is relaxing on the couch, sundays are the best \n",
              "\n",
              "[8 rows x 6 columns]"
            ]
          },
          "metadata": {
            "tags": []
          },
          "execution_count": 61
        }
      ]
    },
    {
      "cell_type": "markdown",
      "metadata": {
        "id": "skY921aDtfXx"
      },
      "source": [
        "## Reemplazamos las menciones @ con la palabra \"USER_MENTION\"\n",
        "\n"
      ]
    },
    {
      "cell_type": "code",
      "metadata": {
        "id": "OJko6X_dt00T"
      },
      "source": [
        "from nlp.preprocessing import reemplazar_usuarios"
      ],
      "execution_count": 62,
      "outputs": []
    },
    {
      "cell_type": "code",
      "metadata": {
        "id": "d-CpyGFx15Eh"
      },
      "source": [
        "training['text'] = training['text'].map(lambda s: reemplazar_usuarios(s))\n",
        "test['text'] = test['text'].map(lambda s: reemplazar_usuarios(s))"
      ],
      "execution_count": 63,
      "outputs": []
    },
    {
      "cell_type": "code",
      "metadata": {
        "colab": {
          "base_uri": "https://localhost:8080/",
          "height": 297
        },
        "id": "jizZYaM52wzL",
        "outputId": "5d9cb992-19b6-40a0-aa47-8c63b3dbb326"
      },
      "source": [
        "# Ejemplo\n",
        "training.loc[[4,8,27,41,44,35,48,155]]"
      ],
      "execution_count": 64,
      "outputs": [
        {
          "output_type": "execute_result",
          "data": {
            "text/html": [
              "<div>\n",
              "<style scoped>\n",
              "    .dataframe tbody tr th:only-of-type {\n",
              "        vertical-align: middle;\n",
              "    }\n",
              "\n",
              "    .dataframe tbody tr th {\n",
              "        vertical-align: top;\n",
              "    }\n",
              "\n",
              "    .dataframe thead th {\n",
              "        text-align: right;\n",
              "    }\n",
              "</style>\n",
              "<table border=\"1\" class=\"dataframe\">\n",
              "  <thead>\n",
              "    <tr style=\"text-align: right;\">\n",
              "      <th></th>\n",
              "      <th>target</th>\n",
              "      <th>ids</th>\n",
              "      <th>date</th>\n",
              "      <th>flag</th>\n",
              "      <th>user</th>\n",
              "      <th>text</th>\n",
              "    </tr>\n",
              "  </thead>\n",
              "  <tbody>\n",
              "    <tr>\n",
              "      <th>4</th>\n",
              "      <td>0</td>\n",
              "      <td>2250671573</td>\n",
              "      <td>sat jun 20 01:09:32 pdt 2009</td>\n",
              "      <td>no_query</td>\n",
              "      <td>evilcaz</td>\n",
              "      <td>far too tired to be at work</td>\n",
              "    </tr>\n",
              "    <tr>\n",
              "      <th>8</th>\n",
              "      <td>0</td>\n",
              "      <td>2233840533</td>\n",
              "      <td>thu jun 18 21:59:23 pdt 2009</td>\n",
              "      <td>no_query</td>\n",
              "      <td>tiffanynicolen</td>\n",
              "      <td>i wish today never happened. on top of that, i...</td>\n",
              "    </tr>\n",
              "    <tr>\n",
              "      <th>27</th>\n",
              "      <td>0</td>\n",
              "      <td>2254342354</td>\n",
              "      <td>sat jun 20 09:36:05 pdt 2009</td>\n",
              "      <td>no_query</td>\n",
              "      <td>ajmccleary</td>\n",
              "      <td>user_mention - indeed, come on down. the sick ...</td>\n",
              "    </tr>\n",
              "    <tr>\n",
              "      <th>41</th>\n",
              "      <td>4</td>\n",
              "      <td>1794361968</td>\n",
              "      <td>thu may 14 05:38:02 pdt 2009</td>\n",
              "      <td>no_query</td>\n",
              "      <td>cherrybomb54</td>\n",
              "      <td>now i get to make incredibly long tweets thank...</td>\n",
              "    </tr>\n",
              "    <tr>\n",
              "      <th>44</th>\n",
              "      <td>0</td>\n",
              "      <td>1686244630</td>\n",
              "      <td>sun may 03 04:31:06 pdt 2009</td>\n",
              "      <td>no_query</td>\n",
              "      <td>anggieholics</td>\n",
              "      <td>btw whats wrong w/ being single? and if i turn...</td>\n",
              "    </tr>\n",
              "    <tr>\n",
              "      <th>35</th>\n",
              "      <td>4</td>\n",
              "      <td>2064953318</td>\n",
              "      <td>sun jun 07 07:33:41 pdt 2009</td>\n",
              "      <td>no_query</td>\n",
              "      <td>heidirenee92</td>\n",
              "      <td>user_mention it would be a good idea not to me...</td>\n",
              "    </tr>\n",
              "    <tr>\n",
              "      <th>48</th>\n",
              "      <td>4</td>\n",
              "      <td>2004632930</td>\n",
              "      <td>tue jun 02 08:30:15 pdt 2009</td>\n",
              "      <td>no_query</td>\n",
              "      <td>hadari_b</td>\n",
              "      <td>at a birthday party of a friend !</td>\n",
              "    </tr>\n",
              "    <tr>\n",
              "      <th>155</th>\n",
              "      <td>4</td>\n",
              "      <td>1687038778</td>\n",
              "      <td>sun may 03 07:34:54 pdt 2009</td>\n",
              "      <td>no_query</td>\n",
              "      <td>lynettebrennan</td>\n",
              "      <td>is relaxing on the couch, sundays are the best</td>\n",
              "    </tr>\n",
              "  </tbody>\n",
              "</table>\n",
              "</div>"
            ],
            "text/plain": [
              "     target  ...                                               text\n",
              "4         0  ...                       far too tired to be at work \n",
              "8         0  ...  i wish today never happened. on top of that, i...\n",
              "27        0  ...  user_mention - indeed, come on down. the sick ...\n",
              "41        4  ...  now i get to make incredibly long tweets thank...\n",
              "44        0  ...  btw whats wrong w/ being single? and if i turn...\n",
              "35        4  ...  user_mention it would be a good idea not to me...\n",
              "48        4  ...                 at a birthday party of a friend ! \n",
              "155       4  ...    is relaxing on the couch, sundays are the best \n",
              "\n",
              "[8 rows x 6 columns]"
            ]
          },
          "metadata": {
            "tags": []
          },
          "execution_count": 64
        }
      ]
    },
    {
      "cell_type": "markdown",
      "metadata": {
        "id": "N-nJsVnht2b2"
      },
      "source": [
        "## Quitamos el Hashtag , pero dejamos la palabra"
      ]
    },
    {
      "cell_type": "code",
      "metadata": {
        "id": "2uYz-8IBuEAu"
      },
      "source": [
        "# The regular expression used to match hashtags is #(\\S+).\n",
        "from nlp.preprocessing import quitar_hashtag"
      ],
      "execution_count": 65,
      "outputs": []
    },
    {
      "cell_type": "code",
      "metadata": {
        "id": "qYc2v7H52GR-"
      },
      "source": [
        "training['text'] = training['text'].map(lambda s: quitar_hashtag(s))\n",
        "test['text'] = test['text'].map(lambda s: quitar_hashtag(s))"
      ],
      "execution_count": 66,
      "outputs": []
    },
    {
      "cell_type": "code",
      "metadata": {
        "colab": {
          "base_uri": "https://localhost:8080/",
          "height": 297
        },
        "id": "VT64yvCr5YDL",
        "outputId": "2eac514d-422a-4a71-da5e-18e3abf6caea"
      },
      "source": [
        "# Ejemplo\n",
        "training.loc[[4,8,27,41,44,35,48,155]]"
      ],
      "execution_count": 67,
      "outputs": [
        {
          "output_type": "execute_result",
          "data": {
            "text/html": [
              "<div>\n",
              "<style scoped>\n",
              "    .dataframe tbody tr th:only-of-type {\n",
              "        vertical-align: middle;\n",
              "    }\n",
              "\n",
              "    .dataframe tbody tr th {\n",
              "        vertical-align: top;\n",
              "    }\n",
              "\n",
              "    .dataframe thead th {\n",
              "        text-align: right;\n",
              "    }\n",
              "</style>\n",
              "<table border=\"1\" class=\"dataframe\">\n",
              "  <thead>\n",
              "    <tr style=\"text-align: right;\">\n",
              "      <th></th>\n",
              "      <th>target</th>\n",
              "      <th>ids</th>\n",
              "      <th>date</th>\n",
              "      <th>flag</th>\n",
              "      <th>user</th>\n",
              "      <th>text</th>\n",
              "    </tr>\n",
              "  </thead>\n",
              "  <tbody>\n",
              "    <tr>\n",
              "      <th>4</th>\n",
              "      <td>0</td>\n",
              "      <td>2250671573</td>\n",
              "      <td>sat jun 20 01:09:32 pdt 2009</td>\n",
              "      <td>no_query</td>\n",
              "      <td>evilcaz</td>\n",
              "      <td>far too tired to be at work</td>\n",
              "    </tr>\n",
              "    <tr>\n",
              "      <th>8</th>\n",
              "      <td>0</td>\n",
              "      <td>2233840533</td>\n",
              "      <td>thu jun 18 21:59:23 pdt 2009</td>\n",
              "      <td>no_query</td>\n",
              "      <td>tiffanynicolen</td>\n",
              "      <td>i wish today never happened. on top of that, i...</td>\n",
              "    </tr>\n",
              "    <tr>\n",
              "      <th>27</th>\n",
              "      <td>0</td>\n",
              "      <td>2254342354</td>\n",
              "      <td>sat jun 20 09:36:05 pdt 2009</td>\n",
              "      <td>no_query</td>\n",
              "      <td>ajmccleary</td>\n",
              "      <td>user_mention - indeed, come on down. the sick ...</td>\n",
              "    </tr>\n",
              "    <tr>\n",
              "      <th>41</th>\n",
              "      <td>4</td>\n",
              "      <td>1794361968</td>\n",
              "      <td>thu may 14 05:38:02 pdt 2009</td>\n",
              "      <td>no_query</td>\n",
              "      <td>cherrybomb54</td>\n",
              "      <td>now i get to make incredibly long tweets thank...</td>\n",
              "    </tr>\n",
              "    <tr>\n",
              "      <th>44</th>\n",
              "      <td>0</td>\n",
              "      <td>1686244630</td>\n",
              "      <td>sun may 03 04:31:06 pdt 2009</td>\n",
              "      <td>no_query</td>\n",
              "      <td>anggieholics</td>\n",
              "      <td>btw whats wrong w/ being single? and if i turn...</td>\n",
              "    </tr>\n",
              "    <tr>\n",
              "      <th>35</th>\n",
              "      <td>4</td>\n",
              "      <td>2064953318</td>\n",
              "      <td>sun jun 07 07:33:41 pdt 2009</td>\n",
              "      <td>no_query</td>\n",
              "      <td>heidirenee92</td>\n",
              "      <td>user_mention it would be a good idea not to me...</td>\n",
              "    </tr>\n",
              "    <tr>\n",
              "      <th>48</th>\n",
              "      <td>4</td>\n",
              "      <td>2004632930</td>\n",
              "      <td>tue jun 02 08:30:15 pdt 2009</td>\n",
              "      <td>no_query</td>\n",
              "      <td>hadari_b</td>\n",
              "      <td>at a birthday party of a friend !</td>\n",
              "    </tr>\n",
              "    <tr>\n",
              "      <th>155</th>\n",
              "      <td>4</td>\n",
              "      <td>1687038778</td>\n",
              "      <td>sun may 03 07:34:54 pdt 2009</td>\n",
              "      <td>no_query</td>\n",
              "      <td>lynettebrennan</td>\n",
              "      <td>is relaxing on the couch, sundays are the best</td>\n",
              "    </tr>\n",
              "  </tbody>\n",
              "</table>\n",
              "</div>"
            ],
            "text/plain": [
              "     target  ...                                               text\n",
              "4         0  ...                       far too tired to be at work \n",
              "8         0  ...  i wish today never happened. on top of that, i...\n",
              "27        0  ...  user_mention - indeed, come on down. the sick ...\n",
              "41        4  ...  now i get to make incredibly long tweets thank...\n",
              "44        0  ...  btw whats wrong w/ being single? and if i turn...\n",
              "35        4  ...  user_mention it would be a good idea not to me...\n",
              "48        4  ...                 at a birthday party of a friend ! \n",
              "155       4  ...    is relaxing on the couch, sundays are the best \n",
              "\n",
              "[8 rows x 6 columns]"
            ]
          },
          "metadata": {
            "tags": []
          },
          "execution_count": 67
        }
      ]
    },
    {
      "cell_type": "markdown",
      "metadata": {
        "id": "pBcz7yR_uQrb"
      },
      "source": [
        "## Quitamos los Retweets, sólo la palabra RT , dejamos el comentario"
      ]
    },
    {
      "cell_type": "code",
      "metadata": {
        "id": "koZhG6bZuW5H"
      },
      "source": [
        "#  The regular expression used to match retweets is \\brt\\b.\n",
        "from nlp.preprocessing import quitar_RT"
      ],
      "execution_count": 68,
      "outputs": []
    },
    {
      "cell_type": "code",
      "metadata": {
        "id": "poKURoA02WZP"
      },
      "source": [
        "training['text'] = training['text'].map(lambda s: quitar_RT(s))\n",
        "test['text'] = test['text'].map(lambda s: quitar_RT(s))"
      ],
      "execution_count": 69,
      "outputs": []
    },
    {
      "cell_type": "code",
      "metadata": {
        "colab": {
          "base_uri": "https://localhost:8080/",
          "height": 297
        },
        "id": "ZtWXZQZ95oYb",
        "outputId": "4983a06f-f38a-4e88-a17c-5d75217e9fad"
      },
      "source": [
        "training.loc[[4,8,27,41,44,35,48,155]]"
      ],
      "execution_count": 70,
      "outputs": [
        {
          "output_type": "execute_result",
          "data": {
            "text/html": [
              "<div>\n",
              "<style scoped>\n",
              "    .dataframe tbody tr th:only-of-type {\n",
              "        vertical-align: middle;\n",
              "    }\n",
              "\n",
              "    .dataframe tbody tr th {\n",
              "        vertical-align: top;\n",
              "    }\n",
              "\n",
              "    .dataframe thead th {\n",
              "        text-align: right;\n",
              "    }\n",
              "</style>\n",
              "<table border=\"1\" class=\"dataframe\">\n",
              "  <thead>\n",
              "    <tr style=\"text-align: right;\">\n",
              "      <th></th>\n",
              "      <th>target</th>\n",
              "      <th>ids</th>\n",
              "      <th>date</th>\n",
              "      <th>flag</th>\n",
              "      <th>user</th>\n",
              "      <th>text</th>\n",
              "    </tr>\n",
              "  </thead>\n",
              "  <tbody>\n",
              "    <tr>\n",
              "      <th>4</th>\n",
              "      <td>0</td>\n",
              "      <td>2250671573</td>\n",
              "      <td>sat jun 20 01:09:32 pdt 2009</td>\n",
              "      <td>no_query</td>\n",
              "      <td>evilcaz</td>\n",
              "      <td>far too tired to be at work</td>\n",
              "    </tr>\n",
              "    <tr>\n",
              "      <th>8</th>\n",
              "      <td>0</td>\n",
              "      <td>2233840533</td>\n",
              "      <td>thu jun 18 21:59:23 pdt 2009</td>\n",
              "      <td>no_query</td>\n",
              "      <td>tiffanynicolen</td>\n",
              "      <td>i wish today never happened. on top of that, i...</td>\n",
              "    </tr>\n",
              "    <tr>\n",
              "      <th>27</th>\n",
              "      <td>0</td>\n",
              "      <td>2254342354</td>\n",
              "      <td>sat jun 20 09:36:05 pdt 2009</td>\n",
              "      <td>no_query</td>\n",
              "      <td>ajmccleary</td>\n",
              "      <td>user_mention - indeed, come on down. the sick ...</td>\n",
              "    </tr>\n",
              "    <tr>\n",
              "      <th>41</th>\n",
              "      <td>4</td>\n",
              "      <td>1794361968</td>\n",
              "      <td>thu may 14 05:38:02 pdt 2009</td>\n",
              "      <td>no_query</td>\n",
              "      <td>cherrybomb54</td>\n",
              "      <td>now i get to make incredibly long tweets thank...</td>\n",
              "    </tr>\n",
              "    <tr>\n",
              "      <th>44</th>\n",
              "      <td>0</td>\n",
              "      <td>1686244630</td>\n",
              "      <td>sun may 03 04:31:06 pdt 2009</td>\n",
              "      <td>no_query</td>\n",
              "      <td>anggieholics</td>\n",
              "      <td>btw whats wrong w/ being single? and if i turn...</td>\n",
              "    </tr>\n",
              "    <tr>\n",
              "      <th>35</th>\n",
              "      <td>4</td>\n",
              "      <td>2064953318</td>\n",
              "      <td>sun jun 07 07:33:41 pdt 2009</td>\n",
              "      <td>no_query</td>\n",
              "      <td>heidirenee92</td>\n",
              "      <td>user_mention it would be a good idea not to me...</td>\n",
              "    </tr>\n",
              "    <tr>\n",
              "      <th>48</th>\n",
              "      <td>4</td>\n",
              "      <td>2004632930</td>\n",
              "      <td>tue jun 02 08:30:15 pdt 2009</td>\n",
              "      <td>no_query</td>\n",
              "      <td>hadari_b</td>\n",
              "      <td>at a birthday party of a friend !</td>\n",
              "    </tr>\n",
              "    <tr>\n",
              "      <th>155</th>\n",
              "      <td>4</td>\n",
              "      <td>1687038778</td>\n",
              "      <td>sun may 03 07:34:54 pdt 2009</td>\n",
              "      <td>no_query</td>\n",
              "      <td>lynettebrennan</td>\n",
              "      <td>is relaxing on the couch, sundays are the best</td>\n",
              "    </tr>\n",
              "  </tbody>\n",
              "</table>\n",
              "</div>"
            ],
            "text/plain": [
              "     target  ...                                               text\n",
              "4         0  ...                       far too tired to be at work \n",
              "8         0  ...  i wish today never happened. on top of that, i...\n",
              "27        0  ...  user_mention - indeed, come on down. the sick ...\n",
              "41        4  ...  now i get to make incredibly long tweets thank...\n",
              "44        0  ...  btw whats wrong w/ being single? and if i turn...\n",
              "35        4  ...  user_mention it would be a good idea not to me...\n",
              "48        4  ...                 at a birthday party of a friend ! \n",
              "155       4  ...    is relaxing on the couch, sundays are the best \n",
              "\n",
              "[8 rows x 6 columns]"
            ]
          },
          "metadata": {
            "tags": []
          },
          "execution_count": 70
        }
      ]
    },
    {
      "cell_type": "markdown",
      "metadata": {
        "id": "Y0heDobwss-z"
      },
      "source": [
        "## Quitamos espacios o puntos extras"
      ]
    },
    {
      "cell_type": "code",
      "metadata": {
        "id": "c4Bo-StOswj1"
      },
      "source": [
        "## Reemplazamos los dobles puntos (o más) con un espacio , dos o más espacios con 1 espacio y hacemos strip de espacios y comillas\n",
        "# Strip any punctuation [’\"?!,.():;-'] from the word ??\n",
        "from nlp.preprocessing import quitar_caracteres_especiales"
      ],
      "execution_count": 71,
      "outputs": []
    },
    {
      "cell_type": "code",
      "metadata": {
        "id": "6c3qHM1k3eY_"
      },
      "source": [
        "training['text'] = training['text'].map(lambda s: quitar_caracteres_especiales(s))\n",
        "test['text'] = test['text'].map(lambda s: quitar_caracteres_especiales(s))"
      ],
      "execution_count": 72,
      "outputs": []
    },
    {
      "cell_type": "code",
      "metadata": {
        "colab": {
          "base_uri": "https://localhost:8080/",
          "height": 297
        },
        "id": "UJdbOTbX53cB",
        "outputId": "ed788d2d-8836-42a9-a895-5a9406eb0d6a"
      },
      "source": [
        "training.loc[[4,8,27,41,44,35,48,155]]"
      ],
      "execution_count": 73,
      "outputs": [
        {
          "output_type": "execute_result",
          "data": {
            "text/html": [
              "<div>\n",
              "<style scoped>\n",
              "    .dataframe tbody tr th:only-of-type {\n",
              "        vertical-align: middle;\n",
              "    }\n",
              "\n",
              "    .dataframe tbody tr th {\n",
              "        vertical-align: top;\n",
              "    }\n",
              "\n",
              "    .dataframe thead th {\n",
              "        text-align: right;\n",
              "    }\n",
              "</style>\n",
              "<table border=\"1\" class=\"dataframe\">\n",
              "  <thead>\n",
              "    <tr style=\"text-align: right;\">\n",
              "      <th></th>\n",
              "      <th>target</th>\n",
              "      <th>ids</th>\n",
              "      <th>date</th>\n",
              "      <th>flag</th>\n",
              "      <th>user</th>\n",
              "      <th>text</th>\n",
              "    </tr>\n",
              "  </thead>\n",
              "  <tbody>\n",
              "    <tr>\n",
              "      <th>4</th>\n",
              "      <td>0</td>\n",
              "      <td>2250671573</td>\n",
              "      <td>sat jun 20 01:09:32 pdt 2009</td>\n",
              "      <td>no_query</td>\n",
              "      <td>evilcaz</td>\n",
              "      <td>far too tired to be at work</td>\n",
              "    </tr>\n",
              "    <tr>\n",
              "      <th>8</th>\n",
              "      <td>0</td>\n",
              "      <td>2233840533</td>\n",
              "      <td>thu jun 18 21:59:23 pdt 2009</td>\n",
              "      <td>no_query</td>\n",
              "      <td>tiffanynicolen</td>\n",
              "      <td>i wish today never happened on top of that i m...</td>\n",
              "    </tr>\n",
              "    <tr>\n",
              "      <th>27</th>\n",
              "      <td>0</td>\n",
              "      <td>2254342354</td>\n",
              "      <td>sat jun 20 09:36:05 pdt 2009</td>\n",
              "      <td>no_query</td>\n",
              "      <td>ajmccleary</td>\n",
              "      <td>user_mention  indeed come on down the sick hea...</td>\n",
              "    </tr>\n",
              "    <tr>\n",
              "      <th>41</th>\n",
              "      <td>4</td>\n",
              "      <td>1794361968</td>\n",
              "      <td>thu may 14 05:38:02 pdt 2009</td>\n",
              "      <td>no_query</td>\n",
              "      <td>cherrybomb54</td>\n",
              "      <td>now i get to make incredibly long tweets thank...</td>\n",
              "    </tr>\n",
              "    <tr>\n",
              "      <th>44</th>\n",
              "      <td>0</td>\n",
              "      <td>1686244630</td>\n",
              "      <td>sun may 03 04:31:06 pdt 2009</td>\n",
              "      <td>no_query</td>\n",
              "      <td>anggieholics</td>\n",
              "      <td>btw whats wrong w/ being single and if i turn ...</td>\n",
              "    </tr>\n",
              "    <tr>\n",
              "      <th>35</th>\n",
              "      <td>4</td>\n",
              "      <td>2064953318</td>\n",
              "      <td>sun jun 07 07:33:41 pdt 2009</td>\n",
              "      <td>no_query</td>\n",
              "      <td>heidirenee92</td>\n",
              "      <td>user_mention it would be a good idea not to me...</td>\n",
              "    </tr>\n",
              "    <tr>\n",
              "      <th>48</th>\n",
              "      <td>4</td>\n",
              "      <td>2004632930</td>\n",
              "      <td>tue jun 02 08:30:15 pdt 2009</td>\n",
              "      <td>no_query</td>\n",
              "      <td>hadari_b</td>\n",
              "      <td>at a birthday party of a friend</td>\n",
              "    </tr>\n",
              "    <tr>\n",
              "      <th>155</th>\n",
              "      <td>4</td>\n",
              "      <td>1687038778</td>\n",
              "      <td>sun may 03 07:34:54 pdt 2009</td>\n",
              "      <td>no_query</td>\n",
              "      <td>lynettebrennan</td>\n",
              "      <td>is relaxing on the couch sundays are the best</td>\n",
              "    </tr>\n",
              "  </tbody>\n",
              "</table>\n",
              "</div>"
            ],
            "text/plain": [
              "     target  ...                                               text\n",
              "4         0  ...                       far too tired to be at work \n",
              "8         0  ...  i wish today never happened on top of that i m...\n",
              "27        0  ...  user_mention  indeed come on down the sick hea...\n",
              "41        4  ...  now i get to make incredibly long tweets thank...\n",
              "44        0  ...  btw whats wrong w/ being single and if i turn ...\n",
              "35        4  ...  user_mention it would be a good idea not to me...\n",
              "48        4  ...                  at a birthday party of a friend  \n",
              "155       4  ...     is relaxing on the couch sundays are the best \n",
              "\n",
              "[8 rows x 6 columns]"
            ]
          },
          "metadata": {
            "tags": []
          },
          "execution_count": 73
        }
      ]
    },
    {
      "cell_type": "markdown",
      "metadata": {
        "id": "b4s2lgTSurT-"
      },
      "source": [
        "## Quitamos expresiones con letras repetidas"
      ]
    },
    {
      "cell_type": "code",
      "metadata": {
        "id": "doXZsYEPuv1A"
      },
      "source": [
        "#Convert 2 or more letter repetitions to 2 letters.\n",
        "#Some people send tweets like I am sooooo\n",
        "#happpppy adding multiple characters to emphasize\n",
        "#on certain words. This is done to handle such tweets\n",
        "#by converting them to I am soo happy\n",
        "from nlp.preprocessing import quitar_letras_repetidas"
      ],
      "execution_count": 74,
      "outputs": []
    },
    {
      "cell_type": "code",
      "metadata": {
        "id": "UDSoIraw4lwK"
      },
      "source": [
        "training['text'] = training['text'].map(lambda s: quitar_letras_repetidas(s))\n",
        "test['text'] = test['text'].map(lambda s: quitar_letras_repetidas(s))"
      ],
      "execution_count": 75,
      "outputs": []
    },
    {
      "cell_type": "code",
      "metadata": {
        "colab": {
          "base_uri": "https://localhost:8080/",
          "height": 297
        },
        "id": "eT6VtR2s6l6G",
        "outputId": "5432283c-2e83-408d-a489-ecc828febc70"
      },
      "source": [
        "training.loc[[4,8,27,41,44,35,48,155]]"
      ],
      "execution_count": 76,
      "outputs": [
        {
          "output_type": "execute_result",
          "data": {
            "text/html": [
              "<div>\n",
              "<style scoped>\n",
              "    .dataframe tbody tr th:only-of-type {\n",
              "        vertical-align: middle;\n",
              "    }\n",
              "\n",
              "    .dataframe tbody tr th {\n",
              "        vertical-align: top;\n",
              "    }\n",
              "\n",
              "    .dataframe thead th {\n",
              "        text-align: right;\n",
              "    }\n",
              "</style>\n",
              "<table border=\"1\" class=\"dataframe\">\n",
              "  <thead>\n",
              "    <tr style=\"text-align: right;\">\n",
              "      <th></th>\n",
              "      <th>target</th>\n",
              "      <th>ids</th>\n",
              "      <th>date</th>\n",
              "      <th>flag</th>\n",
              "      <th>user</th>\n",
              "      <th>text</th>\n",
              "    </tr>\n",
              "  </thead>\n",
              "  <tbody>\n",
              "    <tr>\n",
              "      <th>4</th>\n",
              "      <td>0</td>\n",
              "      <td>2250671573</td>\n",
              "      <td>sat jun 20 01:09:32 pdt 2009</td>\n",
              "      <td>no_query</td>\n",
              "      <td>evilcaz</td>\n",
              "      <td>far too tired to be at work</td>\n",
              "    </tr>\n",
              "    <tr>\n",
              "      <th>8</th>\n",
              "      <td>0</td>\n",
              "      <td>2233840533</td>\n",
              "      <td>thu jun 18 21:59:23 pdt 2009</td>\n",
              "      <td>no_query</td>\n",
              "      <td>tiffanynicolen</td>\n",
              "      <td>i wish today never happened on top of that i m...</td>\n",
              "    </tr>\n",
              "    <tr>\n",
              "      <th>27</th>\n",
              "      <td>0</td>\n",
              "      <td>2254342354</td>\n",
              "      <td>sat jun 20 09:36:05 pdt 2009</td>\n",
              "      <td>no_query</td>\n",
              "      <td>ajmccleary</td>\n",
              "      <td>user_mention  indeed come on down the sick hea...</td>\n",
              "    </tr>\n",
              "    <tr>\n",
              "      <th>41</th>\n",
              "      <td>4</td>\n",
              "      <td>1794361968</td>\n",
              "      <td>thu may 14 05:38:02 pdt 2009</td>\n",
              "      <td>no_query</td>\n",
              "      <td>cherrybomb54</td>\n",
              "      <td>now i get to make incredibly long tweets thank...</td>\n",
              "    </tr>\n",
              "    <tr>\n",
              "      <th>44</th>\n",
              "      <td>0</td>\n",
              "      <td>1686244630</td>\n",
              "      <td>sun may 03 04:31:06 pdt 2009</td>\n",
              "      <td>no_query</td>\n",
              "      <td>anggieholics</td>\n",
              "      <td>btw whats wrong w/ being single and if i turn ...</td>\n",
              "    </tr>\n",
              "    <tr>\n",
              "      <th>35</th>\n",
              "      <td>4</td>\n",
              "      <td>2064953318</td>\n",
              "      <td>sun jun 07 07:33:41 pdt 2009</td>\n",
              "      <td>no_query</td>\n",
              "      <td>heidirenee92</td>\n",
              "      <td>user_mention it would be a good idea not to me...</td>\n",
              "    </tr>\n",
              "    <tr>\n",
              "      <th>48</th>\n",
              "      <td>4</td>\n",
              "      <td>2004632930</td>\n",
              "      <td>tue jun 02 08:30:15 pdt 2009</td>\n",
              "      <td>no_query</td>\n",
              "      <td>hadari_b</td>\n",
              "      <td>at a birthday party of a friend</td>\n",
              "    </tr>\n",
              "    <tr>\n",
              "      <th>155</th>\n",
              "      <td>4</td>\n",
              "      <td>1687038778</td>\n",
              "      <td>sun may 03 07:34:54 pdt 2009</td>\n",
              "      <td>no_query</td>\n",
              "      <td>lynettebrennan</td>\n",
              "      <td>is relaxing on the couch sundays are the best</td>\n",
              "    </tr>\n",
              "  </tbody>\n",
              "</table>\n",
              "</div>"
            ],
            "text/plain": [
              "     target  ...                                               text\n",
              "4         0  ...                       far too tired to be at work \n",
              "8         0  ...  i wish today never happened on top of that i m...\n",
              "27        0  ...  user_mention  indeed come on down the sick hea...\n",
              "41        4  ...  now i get to make incredibly long tweets thank...\n",
              "44        0  ...  btw whats wrong w/ being single and if i turn ...\n",
              "35        4  ...  user_mention it would be a good idea not to me...\n",
              "48        4  ...                  at a birthday party of a friend  \n",
              "155       4  ...     is relaxing on the couch sundays are the best \n",
              "\n",
              "[8 rows x 6 columns]"
            ]
          },
          "metadata": {
            "tags": []
          },
          "execution_count": 76
        }
      ]
    },
    {
      "cell_type": "markdown",
      "metadata": {
        "id": "4fpmzYPr92H8"
      },
      "source": [
        "## Quitar caracteres nonascii"
      ]
    },
    {
      "cell_type": "code",
      "metadata": {
        "id": "ixbvXNM695Z2"
      },
      "source": [
        "from nlp.preprocessing import quitar_nonascii"
      ],
      "execution_count": 77,
      "outputs": []
    },
    {
      "cell_type": "code",
      "metadata": {
        "id": "kvNLcFPV9-lo"
      },
      "source": [
        "training['text'] = training['text'].map(lambda s: quitar_nonascii(s))\n",
        "test['text'] = test['text'].map(lambda s: quitar_nonascii(s))"
      ],
      "execution_count": 78,
      "outputs": []
    },
    {
      "cell_type": "code",
      "metadata": {
        "id": "SsWJ-6uOcZRp",
        "colab": {
          "base_uri": "https://localhost:8080/",
          "height": 297
        },
        "outputId": "2f723c24-36e3-4610-839c-4f282d57f9c6"
      },
      "source": [
        "training.loc[[4,8,27,41,44,35,48,155]]"
      ],
      "execution_count": 79,
      "outputs": [
        {
          "output_type": "execute_result",
          "data": {
            "text/html": [
              "<div>\n",
              "<style scoped>\n",
              "    .dataframe tbody tr th:only-of-type {\n",
              "        vertical-align: middle;\n",
              "    }\n",
              "\n",
              "    .dataframe tbody tr th {\n",
              "        vertical-align: top;\n",
              "    }\n",
              "\n",
              "    .dataframe thead th {\n",
              "        text-align: right;\n",
              "    }\n",
              "</style>\n",
              "<table border=\"1\" class=\"dataframe\">\n",
              "  <thead>\n",
              "    <tr style=\"text-align: right;\">\n",
              "      <th></th>\n",
              "      <th>target</th>\n",
              "      <th>ids</th>\n",
              "      <th>date</th>\n",
              "      <th>flag</th>\n",
              "      <th>user</th>\n",
              "      <th>text</th>\n",
              "    </tr>\n",
              "  </thead>\n",
              "  <tbody>\n",
              "    <tr>\n",
              "      <th>4</th>\n",
              "      <td>0</td>\n",
              "      <td>2250671573</td>\n",
              "      <td>sat jun 20 01:09:32 pdt 2009</td>\n",
              "      <td>no_query</td>\n",
              "      <td>evilcaz</td>\n",
              "      <td>far too tired to be at work</td>\n",
              "    </tr>\n",
              "    <tr>\n",
              "      <th>8</th>\n",
              "      <td>0</td>\n",
              "      <td>2233840533</td>\n",
              "      <td>thu jun 18 21:59:23 pdt 2009</td>\n",
              "      <td>no_query</td>\n",
              "      <td>tiffanynicolen</td>\n",
              "      <td>i wish today never happened on top of that i m...</td>\n",
              "    </tr>\n",
              "    <tr>\n",
              "      <th>27</th>\n",
              "      <td>0</td>\n",
              "      <td>2254342354</td>\n",
              "      <td>sat jun 20 09:36:05 pdt 2009</td>\n",
              "      <td>no_query</td>\n",
              "      <td>ajmccleary</td>\n",
              "      <td>user_mention  indeed come on down the sick hea...</td>\n",
              "    </tr>\n",
              "    <tr>\n",
              "      <th>41</th>\n",
              "      <td>4</td>\n",
              "      <td>1794361968</td>\n",
              "      <td>thu may 14 05:38:02 pdt 2009</td>\n",
              "      <td>no_query</td>\n",
              "      <td>cherrybomb54</td>\n",
              "      <td>now i get to make incredibly long tweets thank...</td>\n",
              "    </tr>\n",
              "    <tr>\n",
              "      <th>44</th>\n",
              "      <td>0</td>\n",
              "      <td>1686244630</td>\n",
              "      <td>sun may 03 04:31:06 pdt 2009</td>\n",
              "      <td>no_query</td>\n",
              "      <td>anggieholics</td>\n",
              "      <td>btw whats wrong w/ being single and if i turn ...</td>\n",
              "    </tr>\n",
              "    <tr>\n",
              "      <th>35</th>\n",
              "      <td>4</td>\n",
              "      <td>2064953318</td>\n",
              "      <td>sun jun 07 07:33:41 pdt 2009</td>\n",
              "      <td>no_query</td>\n",
              "      <td>heidirenee92</td>\n",
              "      <td>user_mention it would be a good idea not to me...</td>\n",
              "    </tr>\n",
              "    <tr>\n",
              "      <th>48</th>\n",
              "      <td>4</td>\n",
              "      <td>2004632930</td>\n",
              "      <td>tue jun 02 08:30:15 pdt 2009</td>\n",
              "      <td>no_query</td>\n",
              "      <td>hadari_b</td>\n",
              "      <td>at a birthday party of a friend</td>\n",
              "    </tr>\n",
              "    <tr>\n",
              "      <th>155</th>\n",
              "      <td>4</td>\n",
              "      <td>1687038778</td>\n",
              "      <td>sun may 03 07:34:54 pdt 2009</td>\n",
              "      <td>no_query</td>\n",
              "      <td>lynettebrennan</td>\n",
              "      <td>is relaxing on the couch sundays are the best</td>\n",
              "    </tr>\n",
              "  </tbody>\n",
              "</table>\n",
              "</div>"
            ],
            "text/plain": [
              "     target  ...                                               text\n",
              "4         0  ...                       far too tired to be at work \n",
              "8         0  ...  i wish today never happened on top of that i m...\n",
              "27        0  ...  user_mention  indeed come on down the sick hea...\n",
              "41        4  ...  now i get to make incredibly long tweets thank...\n",
              "44        0  ...  btw whats wrong w/ being single and if i turn ...\n",
              "35        4  ...  user_mention it would be a good idea not to me...\n",
              "48        4  ...                  at a birthday party of a friend  \n",
              "155       4  ...     is relaxing on the couch sundays are the best \n",
              "\n",
              "[8 rows x 6 columns]"
            ]
          },
          "metadata": {
            "tags": []
          },
          "execution_count": 79
        }
      ]
    },
    {
      "cell_type": "markdown",
      "metadata": {
        "id": "d06ltAPusxX4"
      },
      "source": [
        "## Removemos stopwords"
      ]
    },
    {
      "cell_type": "code",
      "metadata": {
        "colab": {
          "base_uri": "https://localhost:8080/"
        },
        "id": "wKsmdw8Po4cB",
        "outputId": "d96d8c85-587f-4903-acea-0f8b26d6a655"
      },
      "source": [
        "nltk.download('stopwords') # Use predefined list of stopwords from nltk\n",
        "\n",
        "STOPWORDS = set(stopwords.words('english'))"
      ],
      "execution_count": 83,
      "outputs": [
        {
          "output_type": "stream",
          "text": [
            "[nltk_data] Downloading package stopwords to /root/nltk_data...\n",
            "[nltk_data]   Package stopwords is already up-to-date!\n"
          ],
          "name": "stdout"
        }
      ]
    },
    {
      "cell_type": "code",
      "metadata": {
        "id": "Hupxr_H7pcoT"
      },
      "source": [
        "from nlp.preprocessing import separar_abreviaciones"
      ],
      "execution_count": 84,
      "outputs": []
    },
    {
      "cell_type": "code",
      "metadata": {
        "id": "fKcPZvh08GAm"
      },
      "source": [
        "training['text'] = training['text'].map(lambda s: separar_abreviaciones(s))\n",
        "test['text'] = test['text'].map(lambda s: separar_abreviaciones(s))"
      ],
      "execution_count": 85,
      "outputs": []
    },
    {
      "cell_type": "code",
      "metadata": {
        "id": "NVay2CjXphs-",
        "colab": {
          "base_uri": "https://localhost:8080/",
          "height": 297
        },
        "outputId": "e6b372d4-6650-450e-d1d7-8ba56c0e4a56"
      },
      "source": [
        "training.loc[[4,8,27,41,44,35,48,155]]"
      ],
      "execution_count": 86,
      "outputs": [
        {
          "output_type": "execute_result",
          "data": {
            "text/html": [
              "<div>\n",
              "<style scoped>\n",
              "    .dataframe tbody tr th:only-of-type {\n",
              "        vertical-align: middle;\n",
              "    }\n",
              "\n",
              "    .dataframe tbody tr th {\n",
              "        vertical-align: top;\n",
              "    }\n",
              "\n",
              "    .dataframe thead th {\n",
              "        text-align: right;\n",
              "    }\n",
              "</style>\n",
              "<table border=\"1\" class=\"dataframe\">\n",
              "  <thead>\n",
              "    <tr style=\"text-align: right;\">\n",
              "      <th></th>\n",
              "      <th>target</th>\n",
              "      <th>ids</th>\n",
              "      <th>date</th>\n",
              "      <th>flag</th>\n",
              "      <th>user</th>\n",
              "      <th>text</th>\n",
              "    </tr>\n",
              "  </thead>\n",
              "  <tbody>\n",
              "    <tr>\n",
              "      <th>4</th>\n",
              "      <td>0</td>\n",
              "      <td>2250671573</td>\n",
              "      <td>sat jun 20 01:09:32 pdt 2009</td>\n",
              "      <td>no_query</td>\n",
              "      <td>evilcaz</td>\n",
              "      <td>far too tired to be at work</td>\n",
              "    </tr>\n",
              "    <tr>\n",
              "      <th>8</th>\n",
              "      <td>0</td>\n",
              "      <td>2233840533</td>\n",
              "      <td>thu jun 18 21:59:23 pdt 2009</td>\n",
              "      <td>no_query</td>\n",
              "      <td>tiffanynicolen</td>\n",
              "      <td>i wish today never happened on top of that i m...</td>\n",
              "    </tr>\n",
              "    <tr>\n",
              "      <th>27</th>\n",
              "      <td>0</td>\n",
              "      <td>2254342354</td>\n",
              "      <td>sat jun 20 09:36:05 pdt 2009</td>\n",
              "      <td>no_query</td>\n",
              "      <td>ajmccleary</td>\n",
              "      <td>user_mention  indeed come on down the sick hea...</td>\n",
              "    </tr>\n",
              "    <tr>\n",
              "      <th>41</th>\n",
              "      <td>4</td>\n",
              "      <td>1794361968</td>\n",
              "      <td>thu may 14 05:38:02 pdt 2009</td>\n",
              "      <td>no_query</td>\n",
              "      <td>cherrybomb54</td>\n",
              "      <td>now i get to make incredibly long tweets thank...</td>\n",
              "    </tr>\n",
              "    <tr>\n",
              "      <th>44</th>\n",
              "      <td>0</td>\n",
              "      <td>1686244630</td>\n",
              "      <td>sun may 03 04:31:06 pdt 2009</td>\n",
              "      <td>no_query</td>\n",
              "      <td>anggieholics</td>\n",
              "      <td>btw whats wrong w/ being single and if i turn ...</td>\n",
              "    </tr>\n",
              "    <tr>\n",
              "      <th>35</th>\n",
              "      <td>4</td>\n",
              "      <td>2064953318</td>\n",
              "      <td>sun jun 07 07:33:41 pdt 2009</td>\n",
              "      <td>no_query</td>\n",
              "      <td>heidirenee92</td>\n",
              "      <td>user_mention it would be a good idea not to me...</td>\n",
              "    </tr>\n",
              "    <tr>\n",
              "      <th>48</th>\n",
              "      <td>4</td>\n",
              "      <td>2004632930</td>\n",
              "      <td>tue jun 02 08:30:15 pdt 2009</td>\n",
              "      <td>no_query</td>\n",
              "      <td>hadari_b</td>\n",
              "      <td>at a birthday party of a friend</td>\n",
              "    </tr>\n",
              "    <tr>\n",
              "      <th>155</th>\n",
              "      <td>4</td>\n",
              "      <td>1687038778</td>\n",
              "      <td>sun may 03 07:34:54 pdt 2009</td>\n",
              "      <td>no_query</td>\n",
              "      <td>lynettebrennan</td>\n",
              "      <td>is relaxing on the couch sundays are the best</td>\n",
              "    </tr>\n",
              "  </tbody>\n",
              "</table>\n",
              "</div>"
            ],
            "text/plain": [
              "     target  ...                                               text\n",
              "4         0  ...                       far too tired to be at work \n",
              "8         0  ...  i wish today never happened on top of that i m...\n",
              "27        0  ...  user_mention  indeed come on down the sick hea...\n",
              "41        4  ...  now i get to make incredibly long tweets thank...\n",
              "44        0  ...  btw whats wrong w/ being single and if i turn ...\n",
              "35        4  ...  user_mention it would be a good idea not to me...\n",
              "48        4  ...                  at a birthday party of a friend  \n",
              "155       4  ...     is relaxing on the couch sundays are the best \n",
              "\n",
              "[8 rows x 6 columns]"
            ]
          },
          "metadata": {
            "tags": []
          },
          "execution_count": 86
        }
      ]
    },
    {
      "cell_type": "code",
      "metadata": {
        "id": "xYBqL2u-ywTH"
      },
      "source": [
        "from nlp.preprocessing import remove_stopwords"
      ],
      "execution_count": 87,
      "outputs": []
    },
    {
      "cell_type": "code",
      "metadata": {
        "id": "s75jkoB5ps5V"
      },
      "source": [
        "training['text'] = training['text'].map(lambda s: remove_stopwords(s))\n",
        "test['atext'] = test['text'].map(lambda s: remove_stopwords(s))"
      ],
      "execution_count": 88,
      "outputs": []
    },
    {
      "cell_type": "code",
      "metadata": {
        "colab": {
          "base_uri": "https://localhost:8080/",
          "height": 297
        },
        "id": "fbdBv25t8bdp",
        "outputId": "381edf2b-4474-4149-c331-dd0b7b579b0d"
      },
      "source": [
        "training.loc[[4,8,27,41,44,35,48,155]]"
      ],
      "execution_count": 89,
      "outputs": [
        {
          "output_type": "execute_result",
          "data": {
            "text/html": [
              "<div>\n",
              "<style scoped>\n",
              "    .dataframe tbody tr th:only-of-type {\n",
              "        vertical-align: middle;\n",
              "    }\n",
              "\n",
              "    .dataframe tbody tr th {\n",
              "        vertical-align: top;\n",
              "    }\n",
              "\n",
              "    .dataframe thead th {\n",
              "        text-align: right;\n",
              "    }\n",
              "</style>\n",
              "<table border=\"1\" class=\"dataframe\">\n",
              "  <thead>\n",
              "    <tr style=\"text-align: right;\">\n",
              "      <th></th>\n",
              "      <th>target</th>\n",
              "      <th>ids</th>\n",
              "      <th>date</th>\n",
              "      <th>flag</th>\n",
              "      <th>user</th>\n",
              "      <th>text</th>\n",
              "    </tr>\n",
              "  </thead>\n",
              "  <tbody>\n",
              "    <tr>\n",
              "      <th>4</th>\n",
              "      <td>0</td>\n",
              "      <td>2250671573</td>\n",
              "      <td>sat jun 20 01:09:32 pdt 2009</td>\n",
              "      <td>no_query</td>\n",
              "      <td>evilcaz</td>\n",
              "      <td>far tired work</td>\n",
              "    </tr>\n",
              "    <tr>\n",
              "      <th>8</th>\n",
              "      <td>0</td>\n",
              "      <td>2233840533</td>\n",
              "      <td>thu jun 18 21:59:23 pdt 2009</td>\n",
              "      <td>no_query</td>\n",
              "      <td>tiffanynicolen</td>\n",
              "      <td>wish today never happened top miss user_mentio...</td>\n",
              "    </tr>\n",
              "    <tr>\n",
              "      <th>27</th>\n",
              "      <td>0</td>\n",
              "      <td>2254342354</td>\n",
              "      <td>sat jun 20 09:36:05 pdt 2009</td>\n",
              "      <td>no_query</td>\n",
              "      <td>ajmccleary</td>\n",
              "      <td>user_mention indeed come sick heat really quit...</td>\n",
              "    </tr>\n",
              "    <tr>\n",
              "      <th>41</th>\n",
              "      <td>4</td>\n",
              "      <td>1794361968</td>\n",
              "      <td>thu may 14 05:38:02 pdt 2009</td>\n",
              "      <td>no_query</td>\n",
              "      <td>cherrybomb54</td>\n",
              "      <td>get make incredibly long tweets thanks twitzer...</td>\n",
              "    </tr>\n",
              "    <tr>\n",
              "      <th>44</th>\n",
              "      <td>0</td>\n",
              "      <td>1686244630</td>\n",
              "      <td>sun may 03 04:31:06 pdt 2009</td>\n",
              "      <td>no_query</td>\n",
              "      <td>anggieholics</td>\n",
              "      <td>btw whats wrong w/ single turn lesbian let u know</td>\n",
              "    </tr>\n",
              "    <tr>\n",
              "      <th>35</th>\n",
              "      <td>4</td>\n",
              "      <td>2064953318</td>\n",
              "      <td>sun jun 07 07:33:41 pdt 2009</td>\n",
              "      <td>no_query</td>\n",
              "      <td>heidirenee92</td>\n",
              "      <td>user_mention would good idea mess mr potatohea...</td>\n",
              "    </tr>\n",
              "    <tr>\n",
              "      <th>48</th>\n",
              "      <td>4</td>\n",
              "      <td>2004632930</td>\n",
              "      <td>tue jun 02 08:30:15 pdt 2009</td>\n",
              "      <td>no_query</td>\n",
              "      <td>hadari_b</td>\n",
              "      <td>birthday party friend</td>\n",
              "    </tr>\n",
              "    <tr>\n",
              "      <th>155</th>\n",
              "      <td>4</td>\n",
              "      <td>1687038778</td>\n",
              "      <td>sun may 03 07:34:54 pdt 2009</td>\n",
              "      <td>no_query</td>\n",
              "      <td>lynettebrennan</td>\n",
              "      <td>relaxing couch sundays best</td>\n",
              "    </tr>\n",
              "  </tbody>\n",
              "</table>\n",
              "</div>"
            ],
            "text/plain": [
              "     target  ...                                               text\n",
              "4         0  ...                                     far tired work\n",
              "8         0  ...  wish today never happened top miss user_mentio...\n",
              "27        0  ...  user_mention indeed come sick heat really quit...\n",
              "41        4  ...  get make incredibly long tweets thanks twitzer...\n",
              "44        0  ...  btw whats wrong w/ single turn lesbian let u know\n",
              "35        4  ...  user_mention would good idea mess mr potatohea...\n",
              "48        4  ...                              birthday party friend\n",
              "155       4  ...                        relaxing couch sundays best\n",
              "\n",
              "[8 rows x 6 columns]"
            ]
          },
          "metadata": {
            "tags": []
          },
          "execution_count": 89
        }
      ]
    },
    {
      "cell_type": "markdown",
      "metadata": {
        "id": "zZ9-3EEjAa9c"
      },
      "source": [
        "## Stemming con NLTK"
      ]
    },
    {
      "cell_type": "code",
      "metadata": {
        "id": "IzGJo37t-rhL"
      },
      "source": [
        "from nlp.preprocessing import oracion_raiz"
      ],
      "execution_count": 91,
      "outputs": []
    },
    {
      "cell_type": "code",
      "metadata": {
        "id": "4F2wTVwKAgAs"
      },
      "source": [
        "training['text'] = training['text'].map(lambda s: oracion_raiz(s))\n",
        "test['atext'] = test['text'].map(lambda s: oracion_raiz(s))"
      ],
      "execution_count": 92,
      "outputs": []
    },
    {
      "cell_type": "code",
      "metadata": {
        "colab": {
          "base_uri": "https://localhost:8080/",
          "height": 419
        },
        "id": "9OebKJzDC4rK",
        "outputId": "9284a5d0-88bf-400b-de97-9fdd79ba4a96"
      },
      "source": [
        "training"
      ],
      "execution_count": 93,
      "outputs": [
        {
          "output_type": "execute_result",
          "data": {
            "text/html": [
              "<div>\n",
              "<style scoped>\n",
              "    .dataframe tbody tr th:only-of-type {\n",
              "        vertical-align: middle;\n",
              "    }\n",
              "\n",
              "    .dataframe tbody tr th {\n",
              "        vertical-align: top;\n",
              "    }\n",
              "\n",
              "    .dataframe thead th {\n",
              "        text-align: right;\n",
              "    }\n",
              "</style>\n",
              "<table border=\"1\" class=\"dataframe\">\n",
              "  <thead>\n",
              "    <tr style=\"text-align: right;\">\n",
              "      <th></th>\n",
              "      <th>target</th>\n",
              "      <th>ids</th>\n",
              "      <th>date</th>\n",
              "      <th>flag</th>\n",
              "      <th>user</th>\n",
              "      <th>text</th>\n",
              "    </tr>\n",
              "  </thead>\n",
              "  <tbody>\n",
              "    <tr>\n",
              "      <th>0</th>\n",
              "      <td>0</td>\n",
              "      <td>2297439235</td>\n",
              "      <td>tue jun 23 10:26:35 pdt 2009</td>\n",
              "      <td>no_query</td>\n",
              "      <td>lizamtl</td>\n",
              "      <td>user_ment wellnot breakup speech per sebut go ...</td>\n",
              "    </tr>\n",
              "    <tr>\n",
              "      <th>1</th>\n",
              "      <td>4</td>\n",
              "      <td>2057851146</td>\n",
              "      <td>sat jun 06 13:47:00 pdt 2009</td>\n",
              "      <td>no_query</td>\n",
              "      <td>maiseyjon</td>\n",
              "      <td>state slow seem pick bit</td>\n",
              "    </tr>\n",
              "    <tr>\n",
              "      <th>2</th>\n",
              "      <td>0</td>\n",
              "      <td>1686056224</td>\n",
              "      <td>sun may 03 03:31:34 pdt 2009</td>\n",
              "      <td>no_query</td>\n",
              "      <td>tynnn</td>\n",
              "      <td>user_ment hey help user_ment take url behind a...</td>\n",
              "    </tr>\n",
              "    <tr>\n",
              "      <th>3</th>\n",
              "      <td>0</td>\n",
              "      <td>2005592004</td>\n",
              "      <td>tue jun 02 09:55:03 pdt 2009</td>\n",
              "      <td>no_query</td>\n",
              "      <td>michaelmidnight</td>\n",
              "      <td>aw man user_ment think make see chang thing wo...</td>\n",
              "    </tr>\n",
              "    <tr>\n",
              "      <th>4</th>\n",
              "      <td>0</td>\n",
              "      <td>2250671573</td>\n",
              "      <td>sat jun 20 01:09:32 pdt 2009</td>\n",
              "      <td>no_query</td>\n",
              "      <td>evilcaz</td>\n",
              "      <td>far tire work</td>\n",
              "    </tr>\n",
              "    <tr>\n",
              "      <th>...</th>\n",
              "      <td>...</td>\n",
              "      <td>...</td>\n",
              "      <td>...</td>\n",
              "      <td>...</td>\n",
              "      <td>...</td>\n",
              "      <td>...</td>\n",
              "    </tr>\n",
              "    <tr>\n",
              "      <th>199995</th>\n",
              "      <td>0</td>\n",
              "      <td>2257780639</td>\n",
              "      <td>sat jun 20 14:52:59 pdt 2009</td>\n",
              "      <td>no_query</td>\n",
              "      <td>kateybella</td>\n",
              "      <td>user_ment think kati perri remind situat kirk</td>\n",
              "    </tr>\n",
              "    <tr>\n",
              "      <th>199996</th>\n",
              "      <td>0</td>\n",
              "      <td>2229302468</td>\n",
              "      <td>thu jun 18 15:32:54 pdt 2009</td>\n",
              "      <td>no_query</td>\n",
              "      <td>sexi_lexi524</td>\n",
              "      <td>would bf build someth w/n would much would get...</td>\n",
              "    </tr>\n",
              "    <tr>\n",
              "      <th>199997</th>\n",
              "      <td>0</td>\n",
              "      <td>1999605224</td>\n",
              "      <td>mon jun 01 20:30:30 pdt 2009</td>\n",
              "      <td>no_query</td>\n",
              "      <td>azndelicious</td>\n",
              "      <td>tip finger hurt nervou school store tomorrow p...</td>\n",
              "    </tr>\n",
              "    <tr>\n",
              "      <th>199998</th>\n",
              "      <td>4</td>\n",
              "      <td>1553926326</td>\n",
              "      <td>sat apr 18 15:35:25 pdt 2009</td>\n",
              "      <td>no_query</td>\n",
              "      <td>erikahoney</td>\n",
              "      <td>url chillin pool</td>\n",
              "    </tr>\n",
              "    <tr>\n",
              "      <th>199999</th>\n",
              "      <td>0</td>\n",
              "      <td>1468572028</td>\n",
              "      <td>tue apr 07 02:29:16 pdt 2009</td>\n",
              "      <td>no_query</td>\n",
              "      <td>nicolasgilles</td>\n",
              "      <td>pick dog doctor note back work</td>\n",
              "    </tr>\n",
              "  </tbody>\n",
              "</table>\n",
              "<p>200000 rows × 6 columns</p>\n",
              "</div>"
            ],
            "text/plain": [
              "        target  ...                                               text\n",
              "0            0  ...  user_ment wellnot breakup speech per sebut go ...\n",
              "1            4  ...                          state slow seem pick bit \n",
              "2            0  ...  user_ment hey help user_ment take url behind a...\n",
              "3            0  ...  aw man user_ment think make see chang thing wo...\n",
              "4            0  ...                                     far tire work \n",
              "...        ...  ...                                                ...\n",
              "199995       0  ...     user_ment think kati perri remind situat kirk \n",
              "199996       0  ...  would bf build someth w/n would much would get...\n",
              "199997       0  ...  tip finger hurt nervou school store tomorrow p...\n",
              "199998       4  ...                                  url chillin pool \n",
              "199999       0  ...                    pick dog doctor note back work \n",
              "\n",
              "[200000 rows x 6 columns]"
            ]
          },
          "metadata": {
            "tags": []
          },
          "execution_count": 93
        }
      ]
    },
    {
      "cell_type": "markdown",
      "metadata": {
        "id": "YV-663kPv_aY"
      },
      "source": [
        "Quitamos datos al entrenamiento, empecemos con 100,000 "
      ]
    },
    {
      "cell_type": "code",
      "metadata": {
        "id": "UzUcFoj4v-Te"
      },
      "source": [
        "data_set_1 = training= training.head(100000)"
      ],
      "execution_count": null,
      "outputs": []
    },
    {
      "cell_type": "code",
      "metadata": {
        "colab": {
          "base_uri": "https://localhost:8080/",
          "height": 419
        },
        "id": "sr7glm9gz0N0",
        "outputId": "4872091f-f599-447a-ceb6-dfa278dde585"
      },
      "source": [
        "data_set_1"
      ],
      "execution_count": null,
      "outputs": [
        {
          "output_type": "execute_result",
          "data": {
            "text/html": [
              "<div>\n",
              "<style scoped>\n",
              "    .dataframe tbody tr th:only-of-type {\n",
              "        vertical-align: middle;\n",
              "    }\n",
              "\n",
              "    .dataframe tbody tr th {\n",
              "        vertical-align: top;\n",
              "    }\n",
              "\n",
              "    .dataframe thead th {\n",
              "        text-align: right;\n",
              "    }\n",
              "</style>\n",
              "<table border=\"1\" class=\"dataframe\">\n",
              "  <thead>\n",
              "    <tr style=\"text-align: right;\">\n",
              "      <th></th>\n",
              "      <th>target</th>\n",
              "      <th>ids</th>\n",
              "      <th>date</th>\n",
              "      <th>flag</th>\n",
              "      <th>user</th>\n",
              "      <th>text</th>\n",
              "    </tr>\n",
              "  </thead>\n",
              "  <tbody>\n",
              "    <tr>\n",
              "      <th>0</th>\n",
              "      <td>0</td>\n",
              "      <td>1467810369</td>\n",
              "      <td>mon apr 06 22:19:45 pdt 2009</td>\n",
              "      <td>no_query</td>\n",
              "      <td>_thespecialone_</td>\n",
              "      <td>user_ment url aww bummer shoulda got david car...</td>\n",
              "    </tr>\n",
              "    <tr>\n",
              "      <th>1</th>\n",
              "      <td>0</td>\n",
              "      <td>1467810672</td>\n",
              "      <td>mon apr 06 22:19:49 pdt 2009</td>\n",
              "      <td>no_query</td>\n",
              "      <td>scotthamilton</td>\n",
              "      <td>upset updat facebook text might cri result sch...</td>\n",
              "    </tr>\n",
              "    <tr>\n",
              "      <th>2</th>\n",
              "      <td>0</td>\n",
              "      <td>1467810917</td>\n",
              "      <td>mon apr 06 22:19:53 pdt 2009</td>\n",
              "      <td>no_query</td>\n",
              "      <td>mattycus</td>\n",
              "      <td>user_ment dive mani time ball manag save 50 % ...</td>\n",
              "    </tr>\n",
              "    <tr>\n",
              "      <th>3</th>\n",
              "      <td>0</td>\n",
              "      <td>1467811184</td>\n",
              "      <td>mon apr 06 22:19:57 pdt 2009</td>\n",
              "      <td>no_query</td>\n",
              "      <td>ellectf</td>\n",
              "      <td>whole bodi feel itchi like fire</td>\n",
              "    </tr>\n",
              "    <tr>\n",
              "      <th>4</th>\n",
              "      <td>0</td>\n",
              "      <td>1467811193</td>\n",
              "      <td>mon apr 06 22:19:57 pdt 2009</td>\n",
              "      <td>no_query</td>\n",
              "      <td>karoli</td>\n",
              "      <td>user_ment behav mad see</td>\n",
              "    </tr>\n",
              "    <tr>\n",
              "      <th>...</th>\n",
              "      <td>...</td>\n",
              "      <td>...</td>\n",
              "      <td>...</td>\n",
              "      <td>...</td>\n",
              "      <td>...</td>\n",
              "      <td>...</td>\n",
              "    </tr>\n",
              "    <tr>\n",
              "      <th>99995</th>\n",
              "      <td>0</td>\n",
              "      <td>1793820630</td>\n",
              "      <td>thu may 14 04:05:58 pdt 2009</td>\n",
              "      <td>no_query</td>\n",
              "      <td>babybigmouth</td>\n",
              "      <td>son develop new habit wake 530am second pot co...</td>\n",
              "    </tr>\n",
              "    <tr>\n",
              "      <th>99996</th>\n",
              "      <td>0</td>\n",
              "      <td>1793820812</td>\n",
              "      <td>thu may 14 04:06:00 pdt 2009</td>\n",
              "      <td>no_query</td>\n",
              "      <td>paramoreroxx</td>\n",
              "      <td>look like router broke tweet fone</td>\n",
              "    </tr>\n",
              "    <tr>\n",
              "      <th>99997</th>\n",
              "      <td>0</td>\n",
              "      <td>1793820858</td>\n",
              "      <td>thu may 14 04:06:00 pdt 2009</td>\n",
              "      <td>no_query</td>\n",
              "      <td>beckypope</td>\n",
              "      <td>realli dont want colleg right wish sunni</td>\n",
              "    </tr>\n",
              "    <tr>\n",
              "      <th>99998</th>\n",
              "      <td>0</td>\n",
              "      <td>1793820982</td>\n",
              "      <td>thu may 14 04:06:02 pdt 2009</td>\n",
              "      <td>no_query</td>\n",
              "      <td>xmissxxxmurderx</td>\n",
              "      <td>user_ment *offer pepto*</td>\n",
              "    </tr>\n",
              "    <tr>\n",
              "      <th>99999</th>\n",
              "      <td>0</td>\n",
              "      <td>1793821002</td>\n",
              "      <td>thu may 14 04:06:02 pdt 2009</td>\n",
              "      <td>no_query</td>\n",
              "      <td>louiseydeesy</td>\n",
              "      <td>user_ment would soo revis</td>\n",
              "    </tr>\n",
              "  </tbody>\n",
              "</table>\n",
              "<p>100000 rows × 6 columns</p>\n",
              "</div>"
            ],
            "text/plain": [
              "       target  ...                                               text\n",
              "0           0  ...  user_ment url aww bummer shoulda got david car...\n",
              "1           0  ...  upset updat facebook text might cri result sch...\n",
              "2           0  ...  user_ment dive mani time ball manag save 50 % ...\n",
              "3           0  ...                   whole bodi feel itchi like fire \n",
              "4           0  ...                           user_ment behav mad see \n",
              "...       ...  ...                                                ...\n",
              "99995       0  ...  son develop new habit wake 530am second pot co...\n",
              "99996       0  ...                 look like router broke tweet fone \n",
              "99997       0  ...          realli dont want colleg right wish sunni \n",
              "99998       0  ...                           user_ment *offer pepto* \n",
              "99999       0  ...                         user_ment would soo revis \n",
              "\n",
              "[100000 rows x 6 columns]"
            ]
          },
          "metadata": {
            "tags": []
          },
          "execution_count": 43
        }
      ]
    }
  ]
}